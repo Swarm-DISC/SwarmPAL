{
 "cells": [
  {
   "cell_type": "markdown",
   "metadata": {},
   "source": [
    "# Using FAC toolbox"
   ]
  },
  {
   "cell_type": "markdown",
   "metadata": {},
   "source": [
    "- The `swarmx.io` module contains the `MagData` class which provides access to the necessary data via `viresclient`\n",
    "- The `swarmx.toolboxes.fac` module contains the `fac_single_sat` function which accepts data stored within a `MagData` object"
   ]
  },
  {
   "cell_type": "code",
   "execution_count": null,
   "metadata": {},
   "outputs": [],
   "source": [
    "import datetime as dt\n",
    "import numpy as np\n",
    "from swarmx.toolboxes.fac import FacInputs, fac_single_sat"
   ]
  },
  {
   "cell_type": "markdown",
   "metadata": {},
   "source": [
    "First decide a time period to use. This can be provided as a `datetime` object or as an ISO-8601 string (e.g. `2022-01-01T00:00:00`)."
   ]
  },
  {
   "cell_type": "code",
   "execution_count": null,
   "metadata": {},
   "outputs": [],
   "source": [
    "start_time = dt.datetime(2022, 1, 1)\n",
    "end_time = dt.datetime(2022, 1, 2)"
   ]
  },
  {
   "cell_type": "markdown",
   "metadata": {},
   "source": [
    "Now prepare the data to use for the analysis. The `collection` can be chosen from one of the compatible magnetic data collections, and the `model` is a VirES-compatible model string (see [viresclient](https://viresclient.readthedocs.io/en/latest/available_parameters.html) for more information). For example, one may choose `CHAOS-Core` (describing the time-dependent main field up to spherical harmonic degree 20) or `CHAOS` (the full model, describing the core, crust, and magnetosphere). The progress bars can be disabled with `show_progress=False`, and the request can be processed synchronously (suitable for short requests) with `asynchronous=False`."
   ]
  },
  {
   "cell_type": "code",
   "execution_count": null,
   "metadata": {},
   "outputs": [],
   "source": [
    "inputs = FacInputs(\n",
    "    collection=\"SW_OPER_MAGA_LR_1B\",\n",
    "    model=\"IGRF\",\n",
    "    start_time=start_time,\n",
    "    end_time=end_time,\n",
    "    viresclient_kwargs=dict(asynchronous=True, show_progress=True),\n",
    ")"
   ]
  },
  {
   "cell_type": "markdown",
   "metadata": {},
   "source": [
    "The data now contains everything we need to apply the FAC algorithm. This data is contained in the `.xarray` attribute:"
   ]
  },
  {
   "cell_type": "code",
   "execution_count": null,
   "metadata": {},
   "outputs": [],
   "source": [
    "inputs.xarray"
   ]
  },
  {
   "cell_type": "markdown",
   "metadata": {},
   "source": [
    "Now let's apply the FAC algorithm:"
   ]
  },
  {
   "cell_type": "code",
   "execution_count": null,
   "metadata": {},
   "outputs": [],
   "source": [
    "fac_results = fac_single_sat(inputs)\n",
    "fac_results"
   ]
  },
  {
   "cell_type": "markdown",
   "metadata": {},
   "source": [
    "Note that the results are given at the midpoints of the input time, so the `fac` array is one element shorter than the inputs. We can pad it with a `NaN` to easily compare it along the same time axis as the inputs.\n",
    "\n",
    "Let's make a copy of the xarray object above and and merge the FAC estimates into it:"
   ]
  },
  {
   "cell_type": "code",
   "execution_count": null,
   "metadata": {},
   "outputs": [],
   "source": [
    "ds_derived_fac = inputs.xarray.copy()\n",
    "ds_derived_fac = ds_derived_fac.assign(\n",
    "    {\"FAC\": ((\"Timestamp\",), np.append(fac_results[\"fac\"], np.nan))}\n",
    ")\n",
    "ds_derived_fac"
   ]
  },
  {
   "cell_type": "markdown",
   "metadata": {},
   "source": [
    "Now let's compare what we have derived with what the official FAC product provides\n",
    "\n",
    "We can use viresclient directly to fetch those data:"
   ]
  },
  {
   "cell_type": "code",
   "execution_count": null,
   "metadata": {},
   "outputs": [],
   "source": [
    "from viresclient import SwarmRequest\n",
    "\n",
    "request = SwarmRequest()\n",
    "\n",
    "request.set_collection(\"SW_OPER_FACATMS_2F\")\n",
    "request.set_products(\n",
    "    measurements=[\"FAC\", \"FAC_Error\", \"Flags\", \"Flags_F\", \"Flags_B\", \"Flags_q\"],\n",
    ")\n",
    "data = request.get_between(start_time, end_time)\n",
    "ds_fac_product = data.as_xarray()\n",
    "ds_fac_product"
   ]
  },
  {
   "cell_type": "code",
   "execution_count": null,
   "metadata": {},
   "outputs": [],
   "source": [
    "import matplotlib.pyplot as plt\n",
    "\n",
    "fig, axes = plt.subplots(2, 1, figsize=(15, 5))\n",
    "axes[0].plot(\n",
    "    ds_fac_product[\"Timestamp\"],\n",
    "    ds_fac_product[\"FAC\"],\n",
    "    alpha=0.5,\n",
    "    color=\"blue\",\n",
    "    label=\"Data product\",\n",
    ")\n",
    "axes[1].plot(\n",
    "    ds_fac_product[\"Timestamp\"],\n",
    "    ds_derived_fac[\"FAC\"],\n",
    "    alpha=0.5,\n",
    "    color=\"red\",\n",
    "    label=\"Derived from toolbox\",\n",
    ")\n",
    "axes[1].set_xlabel(\"Time\")\n",
    "axes[1].set_ylabel(\"FAC\")\n",
    "fig.legend();"
   ]
  }
 ],
 "metadata": {
  "interpreter": {
   "hash": "87d67a24c2c5892c025cb327df6d3922c0a9d4e9219e4fcf3b6836bad3fb9136"
  },
  "language_info": {
   "codemirror_mode": {
    "name": "ipython",
    "version": 3
   },
   "file_extension": ".py",
   "mimetype": "text/x-python",
   "name": "python",
   "nbconvert_exporter": "python",
   "pygments_lexer": "ipython3"
  }
 },
 "nbformat": 4,
 "nbformat_minor": 2
}
