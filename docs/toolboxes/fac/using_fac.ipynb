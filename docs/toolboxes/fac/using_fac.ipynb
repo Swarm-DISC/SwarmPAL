{
 "cells": [
  {
   "cell_type": "markdown",
   "metadata": {},
   "source": [
    "# Using the FAC toolbox"
   ]
  },
  {
   "cell_type": "code",
   "execution_count": null,
   "metadata": {},
   "outputs": [],
   "source": [
    "import datetime as dt\n",
    "import numpy as np\n",
    "from swarmpal.io import create_paldata, PalDataItem\n",
    "from swarmpal.toolboxes.fac import FAC_singlesat"
   ]
  },
  {
   "cell_type": "code",
   "execution_count": null,
   "metadata": {},
   "outputs": [],
   "source": [
    "data_params = dict(\n",
    "    collection=\"SW_OPER_MAGA_LR_1B\",\n",
    "    measurements=[\"B_NEC\"],\n",
    "    models=[\"CHAOS\"],\n",
    "    start_time=\"2016-01-01T00:00:00\",\n",
    "    end_time=\"2016-01-01T03:00:00\",\n",
    "    server_url=\"https://vires.services/ows\",\n",
    "    options=dict(asynchronous=False, show_progress=False),\n",
    ")\n",
    "\n",
    "data = create_paldata(**{\"sample/alpha\": PalDataItem.from_vires(**data_params)})\n",
    "print(data)"
   ]
  },
  {
   "cell_type": "code",
   "execution_count": null,
   "metadata": {},
   "outputs": [],
   "source": [
    "process = FAC_singlesat(\n",
    "    active_tree=\"sample\",\n",
    "    config={\n",
    "        \"dataset\": \"alpha\",\n",
    "        \"model_varname\": \"B_NEC_CHAOS\",\n",
    "        \"measurement_varname\": \"B_NEC\",\n",
    "    },\n",
    ")\n",
    "data = data.swarmpal.apply(process)\n",
    "print(data)"
   ]
  },
  {
   "cell_type": "code",
   "execution_count": null,
   "metadata": {},
   "outputs": [],
   "source": [
    "data.swarmpal.pal_meta"
   ]
  },
  {
   "cell_type": "code",
   "execution_count": null,
   "metadata": {},
   "outputs": [],
   "source": [
    "data.swarmpal_fac.quicklook();"
   ]
  }
 ],
 "metadata": {
  "language_info": {
   "codemirror_mode": {
    "name": "ipython",
    "version": 3
   },
   "file_extension": ".py",
   "mimetype": "text/x-python",
   "name": "python",
   "nbconvert_exporter": "python",
   "pygments_lexer": "ipython3"
  },
  "vscode": {
   "interpreter": {
    "hash": "75048f8b19dc2376e8ce021c430fd300fc261773814cb02da2fef53030a6379a"
   }
  }
 },
 "nbformat": 4,
 "nbformat_minor": 2
}
