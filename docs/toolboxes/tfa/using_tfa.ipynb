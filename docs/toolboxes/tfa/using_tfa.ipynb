{
 "cells": [
  {
   "cell_type": "markdown",
   "metadata": {},
   "source": [
    "# Using the TFA Toolbox"
   ]
  },
  {
   "cell_type": "code",
   "execution_count": null,
   "metadata": {},
   "outputs": [],
   "source": [
    "import datetime as dt\n",
    "from swarmx.toolboxes.tfa import TfaMagInputs, pre_process, wavelet_power, plot_filtered, plot_wavelet_power"
   ]
  },
  {
   "cell_type": "code",
   "execution_count": null,
   "metadata": {},
   "outputs": [],
   "source": [
    "inputs = TfaMagInputs(\n",
    "    collection=\"SW_OPER_MAGA_LR_1B\",\n",
    "    model=\"'CHAOS-Core' + 'CHAOS-Static'\",\n",
    "    start_time=dt.datetime(2015, 6, 23, 0, 0, 0),\n",
    "    end_time=dt.datetime(2015, 6, 23, 5, 0, 0)\n",
    ")"
   ]
  },
  {
   "cell_type": "code",
   "execution_count": null,
   "metadata": {},
   "outputs": [],
   "source": [
    "inputs.xarray"
   ]
  },
  {
   "cell_type": "code",
   "execution_count": null,
   "metadata": {},
   "outputs": [],
   "source": [
    "inputs_filtered = pre_process(inputs)\n",
    "plot_filtered(inputs, inputs_filtered);"
   ]
  },
  {
   "cell_type": "code",
   "execution_count": null,
   "metadata": {},
   "outputs": [],
   "source": [
    "W1 = wavelet_power(inputs_filtered[\"filtered1\"])\n",
    "plot_wavelet_power(inputs, W1);"
   ]
  }
 ],
 "metadata": {
  "interpreter": {
   "hash": "87d67a24c2c5892c025cb327df6d3922c0a9d4e9219e4fcf3b6836bad3fb9136"
  },
  "kernelspec": {
   "display_name": "Python 3.8.12 64-bit ('swarmx': conda)",
   "language": "python",
   "name": "python3"
  },
  "language_info": {
   "codemirror_mode": {
    "name": "ipython",
    "version": 3
   },
   "file_extension": ".py",
   "mimetype": "text/x-python",
   "name": "python",
   "nbconvert_exporter": "python",
   "pygments_lexer": "ipython3",
   "version": "3.8.12"
  },
  "orig_nbformat": 4
 },
 "nbformat": 4,
 "nbformat_minor": 2
}
