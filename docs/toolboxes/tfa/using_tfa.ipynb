{
 "cells": [
  {
   "cell_type": "markdown",
   "metadata": {},
   "source": [
    "# Using the TFA toolbox"
   ]
  },
  {
   "cell_type": "markdown",
   "metadata": {},
   "source": [
    "This first design centres around two tools:\n",
    "- `TfaMagInputs` is a subclass of `ExternalData` as described in the \"Shared Components / Data/IO\" page. This handles the data input.\n",
    "- `TfaProcessor` takes a `TfaMagInputs` object as input and enables application of a number of processing steps:\n",
    "    - `Cadence`, `Cleaning`, `Filtering`, `Wavelet`  \n",
    "      (which apply selected functions that are held within `swarmpal.toolboxes.tfa.tfalib`)\n",
    "\n"
   ]
  },
  {
   "cell_type": "code",
   "execution_count": null,
   "metadata": {},
   "outputs": [],
   "source": [
    "%load_ext autoreload\n",
    "%autoreload 2\n",
    "\n",
    "import datetime as dt\n",
    "from swarmpal.toolboxes.tfa import (\n",
    "    TfaMagInputs,\n",
    "    TfaProcessor,\n",
    "    Cadence,\n",
    "    Cleaning,\n",
    "    Filtering,\n",
    "    Wavelet,\n",
    ")"
   ]
  },
  {
   "cell_type": "markdown",
   "metadata": {},
   "source": [
    "## Loading data\n",
    "\n",
    "The `TfaMagInputs` is prepared with some default options about data to fetch. This includes a time-padding to fetch an extra window of time around the analysis window requested."
   ]
  },
  {
   "cell_type": "code",
   "execution_count": null,
   "metadata": {},
   "outputs": [],
   "source": [
    "TfaMagInputs.COLLECTIONS"
   ]
  },
  {
   "cell_type": "code",
   "execution_count": null,
   "metadata": {},
   "outputs": [],
   "source": [
    "TfaMagInputs.DEFAULTS"
   ]
  },
  {
   "cell_type": "code",
   "execution_count": null,
   "metadata": {},
   "outputs": [],
   "source": [
    "data = TfaMagInputs(\n",
    "    collection=\"SW_OPER_MAGA_LR_1B\",\n",
    "    model=\"IGRF\",\n",
    "    start_time=dt.datetime(2015, 6, 23, 0, 0, 0),\n",
    "    end_time=dt.datetime(2015, 6, 23, 3, 0, 0),\n",
    "    # viresclient_kwargs={\"asynchronous\": False, \"show_progress\": False}\n",
    ")"
   ]
  },
  {
   "cell_type": "markdown",
   "metadata": {},
   "source": [
    "Notes that the `.analysis_window` property stores the original time window requested by the user, while the actual data contains the padded window."
   ]
  },
  {
   "cell_type": "code",
   "execution_count": null,
   "metadata": {},
   "outputs": [],
   "source": [
    "data.analysis_window"
   ]
  },
  {
   "cell_type": "code",
   "execution_count": null,
   "metadata": {},
   "outputs": [],
   "source": [
    "data.xarray"
   ]
  },
  {
   "cell_type": "markdown",
   "metadata": {},
   "source": [
    "## Applying the processor\n",
    "\n",
    "Create the *processor* object (this holds both the data above and a connection to the processing tools):"
   ]
  },
  {
   "cell_type": "code",
   "execution_count": null,
   "metadata": {},
   "outputs": [],
   "source": [
    "processor = TfaProcessor(data, X_varname=\"B_NEC_res_Model\")"
   ]
  },
  {
   "cell_type": "markdown",
   "metadata": {},
   "source": [
    "Metadata about the process applied is stored here"
   ]
  },
  {
   "cell_type": "code",
   "execution_count": null,
   "metadata": {},
   "outputs": [],
   "source": [
    "processor.meta"
   ]
  },
  {
   "cell_type": "markdown",
   "metadata": {},
   "source": [
    "Create *process* objects like `process = Wavelet()` which provide some tools that can act on a *processor* object. Apply them using `processor.apply(process)`:"
   ]
  },
  {
   "cell_type": "code",
   "execution_count": null,
   "metadata": {},
   "outputs": [],
   "source": [
    "## broken (changes the length of t? expects time not in seconds?)\n",
    "# processor.apply(Cadence())"
   ]
  },
  {
   "cell_type": "code",
   "execution_count": null,
   "metadata": {},
   "outputs": [],
   "source": [
    "processor.apply(Cleaning())"
   ]
  },
  {
   "cell_type": "code",
   "execution_count": null,
   "metadata": {},
   "outputs": [],
   "source": [
    "processor.apply(Filtering())"
   ]
  },
  {
   "cell_type": "code",
   "execution_count": null,
   "metadata": {},
   "outputs": [],
   "source": [
    "processor.apply(Wavelet())"
   ]
  },
  {
   "cell_type": "markdown",
   "metadata": {},
   "source": [
    "The metadata has been updated with details about what has been applied:"
   ]
  },
  {
   "cell_type": "code",
   "execution_count": null,
   "metadata": {},
   "outputs": [],
   "source": [
    "processor.meta"
   ]
  },
  {
   "cell_type": "markdown",
   "metadata": {},
   "source": [
    "Now we can use some of the built-in plotting utilities:"
   ]
  },
  {
   "cell_type": "code",
   "execution_count": null,
   "metadata": {},
   "outputs": [],
   "source": [
    "processor.plot(data=\"Series\")"
   ]
  },
  {
   "cell_type": "code",
   "execution_count": null,
   "metadata": {},
   "outputs": [],
   "source": [
    "# plot the wave index (available as processor.wave_index)\n",
    "processor.plot(data=\"Index\")"
   ]
  },
  {
   "cell_type": "code",
   "execution_count": null,
   "metadata": {},
   "outputs": [],
   "source": [
    "processor.image()"
   ]
  }
 ],
 "metadata": {
  "language_info": {
   "codemirror_mode": {
    "name": "ipython",
    "version": 3
   },
   "file_extension": ".py",
   "mimetype": "text/x-python",
   "name": "python",
   "nbconvert_exporter": "python",
   "pygments_lexer": "ipython3"
  },
  "vscode": {
   "interpreter": {
    "hash": "87d67a24c2c5892c025cb327df6d3922c0a9d4e9219e4fcf3b6836bad3fb9136"
   }
  }
 },
 "nbformat": 4,
 "nbformat_minor": 2
}
