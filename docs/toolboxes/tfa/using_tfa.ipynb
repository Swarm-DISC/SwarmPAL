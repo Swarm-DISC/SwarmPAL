{
 "cells": [
  {
   "cell_type": "markdown",
   "metadata": {},
   "source": [
    "# Intro to the TFA tool and the Wavelet Transform"
   ]
  },
  {
   "cell_type": "markdown",
   "metadata": {},
   "source": [
    "   Imports:"
   ]
  },
  {
   "cell_type": "code",
   "execution_count": null,
   "metadata": {},
   "outputs": [],
   "source": [
    "import datetime as dt\n",
    "\n",
    "import matplotlib.pyplot as plt\n",
    "import numpy as np\n",
    "\n",
    "import swarmpal.toolboxes.tfa.tfa_processor as tfa"
   ]
  },
  {
   "cell_type": "markdown",
   "metadata": {},
   "source": [
    "Provide values for the parameters of the analysis.  The `dataset` can be chosen from one of the compatible magnetic data collections, and the `var` is a VirES-compatible variable string (see [viresclient](https://viresclient.readthedocs.io/en/latest/available_parameters.html) for more information). The \"start\" and \"end\" times must be given as a datetime object. If the data are required as they are, set the `remove_chaos_model` parameter to False. Otherwise, if the inputs are magnetic field data and the analysis requires subtraction of the model field, set the parameter to True. "
   ]
  },
  {
   "cell_type": "code",
   "execution_count": null,
   "metadata": {},
   "outputs": [],
   "source": [
    "dataset = \"SW_OPER_MAGA_LR_1B\"\n",
    "var = \"F\"\n",
    "remove_chaos_model = False\n",
    "time_start = dt.datetime(2015, 3, 18)\n",
    "time_end = dt.datetime(2015, 3, 18, 0, 15, 0)"
   ]
  },
  {
   "cell_type": "markdown",
   "metadata": {},
   "source": [
    "Now run the TfaInput to retrieve the selected data."
   ]
  },
  {
   "cell_type": "code",
   "execution_count": null,
   "metadata": {},
   "outputs": [],
   "source": [
    "inputs = tfa.TfaInput(\n",
    "    collection=dataset,\n",
    "    start_time=time_start,\n",
    "    end_time=time_end,\n",
    "    initialise=True,\n",
    "    varname=var,\n",
    "    sampling_time=\"PT1S\",\n",
    "    remove_chaos=remove_chaos_model,\n",
    ")"
   ]
  },
  {
   "cell_type": "code",
   "execution_count": null,
   "metadata": {},
   "outputs": [],
   "source": [
    "# inputs.to_file('using_tfa.nc')\n",
    "# inputs.initialise('using_tfa.nc')"
   ]
  },
  {
   "cell_type": "markdown",
   "metadata": {},
   "source": [
    "The data now contains everything we need to start the processing. This data is contained in the `.xarray` attribute:"
   ]
  },
  {
   "cell_type": "code",
   "execution_count": null,
   "metadata": {},
   "outputs": [],
   "source": [
    "inputs.xarray"
   ]
  },
  {
   "cell_type": "markdown",
   "metadata": {},
   "source": [
    "Let's first test the analysis with an artificial series, so we'll replace the `F` variable with a time series of our choice, with a specific frequency of 40 mHz (i.e. 25 sec) and amplitude of 4 nT. \n",
    "\n",
    "To test the cleaning we'll add some random spikes as well"
   ]
  },
  {
   "cell_type": "code",
   "execution_count": null,
   "metadata": {},
   "outputs": [],
   "source": [
    "N = inputs.xarray[\"F\"].shape[0]  # get the length of the data\n",
    "test_wave = 4 * np.sin(2 * np.pi * np.arange(N) / 50)\n",
    "# test_wave = np.ones(N)\n",
    "\n",
    "# create ten spikes at ten random locations\n",
    "spike_locations = np.random.randint(0, 1000, 10) + int(N / 2) - 500\n",
    "test_wave[spike_locations] = test_wave[spike_locations] + 4\n",
    "inputs.xarray[\"F\"].data = test_wave"
   ]
  },
  {
   "cell_type": "markdown",
   "metadata": {},
   "source": [
    "To use the processing capabilities of TFA we create a `TfaProcessor` object, that contains the variable of choice."
   ]
  },
  {
   "cell_type": "code",
   "execution_count": null,
   "metadata": {},
   "outputs": [],
   "source": [
    "processor = tfa.TfaProcessor(inputs, active_variable={\"varname\": var})"
   ]
  },
  {
   "cell_type": "code",
   "execution_count": null,
   "metadata": {},
   "outputs": [],
   "source": [
    "processor.plotX()"
   ]
  },
  {
   "cell_type": "markdown",
   "metadata": {},
   "source": [
    "To perform cleaning on the data, we initialize a `Cleaning` object with the parameters of our choice and then apply it on the data with the `TfaProcessor` `apply()` function.\n",
    "The active variable series can be plotted by means of the `plotX()` function."
   ]
  },
  {
   "cell_type": "code",
   "execution_count": null,
   "metadata": {},
   "outputs": [],
   "source": [
    "c = tfa.Cleaning()\n",
    "processor.apply(c)\n",
    "processor.plotX()"
   ]
  },
  {
   "cell_type": "markdown",
   "metadata": {},
   "source": [
    "Similarly, the filtering can be performed by first initializing a `Filtering` object with the parameters of our choosing and the applying in on the data."
   ]
  },
  {
   "cell_type": "code",
   "execution_count": null,
   "metadata": {},
   "outputs": [],
   "source": [
    "f = tfa.Filtering()\n",
    "processor.apply(f)"
   ]
  },
  {
   "cell_type": "markdown",
   "metadata": {},
   "source": [
    "In the same way, the wavelet transform is applied"
   ]
  },
  {
   "cell_type": "code",
   "execution_count": null,
   "metadata": {},
   "outputs": [],
   "source": [
    "w = tfa.Wavelet()\n",
    "processor.apply(w)"
   ]
  },
  {
   "cell_type": "markdown",
   "metadata": {},
   "source": [
    "The result of the wavelet can be visualized by means of the `image()` function. Set the `log` parameter to True to plot the log-10 of the results or False to plot them as they are. The optional parameter `cbar_lims` can be set to specify the limits of the colorbar for the spectral plot."
   ]
  },
  {
   "cell_type": "code",
   "execution_count": null,
   "metadata": {},
   "outputs": [],
   "source": [
    "processor.image(log=False, cbar_lims=[0, 4])"
   ]
  },
  {
   "cell_type": "code",
   "execution_count": null,
   "metadata": {},
   "outputs": [],
   "source": [
    "plt.plot(\n",
    "    1 / processor.input_data.xarray[\"scale\"].data,\n",
    "    processor.input_data.xarray[\"wavelet_power\"][:, int(N / 2)],\n",
    "    \"-x\",\n",
    ")"
   ]
  },
  {
   "cell_type": "code",
   "execution_count": null,
   "metadata": {},
   "outputs": [],
   "source": [
    "fft_freq = np.arange(1, 2190) / N\n",
    "F = np.abs(np.fft.fft(processor.input_data.xarray[\"X\"].data)[1:2190]) / (N / 2)\n",
    "plt.plot(fft_freq, F)"
   ]
  },
  {
   "cell_type": "code",
   "execution_count": null,
   "metadata": {},
   "outputs": [],
   "source": [
    "(\n",
    "    np.sum(processor.input_data.xarray[\"wavelet_power\"].data[:, int(N / 2)]),\n",
    "    np.sum(F**2),\n",
    ")"
   ]
  },
  {
   "cell_type": "markdown",
   "metadata": {},
   "source": [
    "The same result holds even if one changes the frequency resolution."
   ]
  },
  {
   "cell_type": "code",
   "execution_count": null,
   "metadata": {},
   "outputs": [],
   "source": [
    "w = tfa.Wavelet(\n",
    "    {\n",
    "        \"Min_Scale\": 1000 / 50,\n",
    "        \"Max_Scale\": 1000 / 5,\n",
    "        \"dj\": 0.01,\n",
    "    }\n",
    ")\n",
    "processor.apply(w)\n",
    "plt.subplot(1, 2, 1)\n",
    "plt.plot(\n",
    "    1 / processor.input_data.xarray[\"scale\"].data,\n",
    "    processor.input_data.xarray[\"wavelet_power\"][:, int(N / 2)],\n",
    "    \"-x\",\n",
    ")\n",
    "plt.subplot(1, 2, 2)\n",
    "processor.image(log=False, cbar_lims=[0, 0.2])\n",
    "np.sum(processor.input_data.xarray[\"wavelet_power\"].data[:, int(N / 2)])"
   ]
  }
 ],
 "metadata": {
  "interpreter": {
   "hash": "87d67a24c2c5892c025cb327df6d3922c0a9d4e9219e4fcf3b6836bad3fb9136"
  },
  "language_info": {
   "codemirror_mode": {
    "name": "ipython",
    "version": 3
   },
   "file_extension": ".py",
   "mimetype": "text/x-python",
   "name": "python",
   "nbconvert_exporter": "python",
   "pygments_lexer": "ipython3"
  }
 },
 "nbformat": 4,
 "nbformat_minor": 2
}
