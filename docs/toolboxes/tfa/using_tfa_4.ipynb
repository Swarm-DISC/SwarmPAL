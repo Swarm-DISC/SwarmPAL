{
 "cells": [
  {
   "cell_type": "markdown",
   "metadata": {},
   "source": [
    "# Analysis of Ground Station data"
   ]
  },
  {
   "cell_type": "markdown",
   "metadata": {},
   "source": [
    "   Imports:"
   ]
  },
  {
   "cell_type": "code",
   "execution_count": null,
   "metadata": {},
   "outputs": [],
   "source": [
    "import datetime as dt\n",
    "import swarmpal.toolboxes.tfa.tfa_processor as tfa"
   ]
  },
  {
   "cell_type": "markdown",
   "metadata": {},
   "source": [
    "Provide values for the parameters of the analysis.  The `dataset` can be chosen from one of the compatible magnetic data collections, and the `var` is a VirES-compatible variable string (see [viresclient](https://viresclient.readthedocs.io/en/latest/available_parameters.html) for more information). The \"start\" and \"end\" times must be given as a datetime object. If the data are required as they are, set the `remove_chaos_model` parameter to False. Otherwise, if the inputs are magnetic field data and the analysis requires subtraction of the model field, set the parameter to True. "
   ]
  },
  {
   "cell_type": "markdown",
   "metadata": {},
   "source": [
    "Ground Station data can be requested by using the Collection name `SW_OPER_AUX_OBSM2_:` followed by the three letter IAGA code of the station of interenst. In example, to get data from the Hornsund station in Svalbard, use \"HRN\". Available fields are `F` and `B_NEC`, as for the Swarm case.\n",
    "\n",
    "WARNING: Ground Station data are given in 1-minute time resolution, so can only be used for the very low frequency bands (i.e. Pc5)."
   ]
  },
  {
   "cell_type": "code",
   "execution_count": null,
   "metadata": {},
   "outputs": [],
   "source": [
    "dataset = \"SW_OPER_AUX_OBSM2_:HRN\"\n",
    "series_dt = \"PT1M\"\n",
    "var = \"B_NEC\"\n",
    "remove_chaos_model = True\n",
    "time_start = dt.datetime(2015, 3, 14, 0, 0, 0)\n",
    "time_end = dt.datetime(2015, 3, 14, 23, 59, 59)"
   ]
  },
  {
   "cell_type": "markdown",
   "metadata": {},
   "source": [
    "Now run the TfaInput to retrieve the selected data."
   ]
  },
  {
   "cell_type": "code",
   "execution_count": null,
   "metadata": {},
   "outputs": [],
   "source": [
    "inputs = tfa.TfaInput(\n",
    "    collection=dataset,\n",
    "    start_time=time_start,\n",
    "    end_time=time_end,\n",
    "    initialise=True,\n",
    "    varname=var,\n",
    "    sampling_time=series_dt,\n",
    "    remove_chaos=remove_chaos_model,\n",
    ")"
   ]
  },
  {
   "cell_type": "markdown",
   "metadata": {},
   "source": [
    "Note: This is a dataset that is not yet supported officially by SwarmPAL. The TFA bypasses that, by calling the ViresClient directly, behind the scenes, in order to get the data and then formats them so that they become of similar type with the other commonly used products. This will be updated soon, to be correctly supported through the normal channels."
   ]
  },
  {
   "cell_type": "markdown",
   "metadata": {},
   "source": [
    "Now that the data have been retrieved, we can proceed to for Wavelet processing by initiating the `TfaProcessor` object and specifying the name of the variable and the component of choice (0 for North, 1 for East and 2 for Center)."
   ]
  },
  {
   "cell_type": "code",
   "execution_count": null,
   "metadata": {},
   "outputs": [],
   "source": [
    "processor = tfa.TfaProcessor(\n",
    "    inputs, active_variable={\"varname\": \"B_NEC\", \"component\": 0}\n",
    ")"
   ]
  },
  {
   "cell_type": "code",
   "execution_count": null,
   "metadata": {},
   "outputs": [],
   "source": [
    "processor.plotX()"
   ]
  },
  {
   "cell_type": "markdown",
   "metadata": {},
   "source": [
    "To perform cleaning on the data, we initialize a `Cleaning` object with the parameters of our choice and then apply it on the data with the `TfaProcessor` `apply()` function.\n",
    "The active variable series can be plotted by means of the `plotX()` function."
   ]
  },
  {
   "cell_type": "code",
   "execution_count": null,
   "metadata": {},
   "outputs": [],
   "source": [
    "c = tfa.Cleaning({\"Window_Size\": 10, \"Method\": \"iqr\", \"Multiplier\": 1})\n",
    "processor.apply(c)\n",
    "processor.plotX()"
   ]
  },
  {
   "cell_type": "markdown",
   "metadata": {},
   "source": [
    "Similarly, the filtering can be performed by first initializing a `Filtering` object with the parameters of our choosing and the applying in on the data."
   ]
  },
  {
   "cell_type": "code",
   "execution_count": null,
   "metadata": {},
   "outputs": [],
   "source": [
    "f = tfa.Filtering({\"Cutoff_Frequency\": 1 / 1000})\n",
    "processor.apply(f)\n",
    "processor.plotX()"
   ]
  },
  {
   "cell_type": "markdown",
   "metadata": {},
   "source": [
    "In the same way, the wavelet transform is applied. The result of the wavelet can be visualized by means of the image() function.\n",
    "\n",
    "Note that since the ground station data are provided in a 1-minute sampling time, the frequency range to be studied must be very low, i.e. Pc5 (2 - 7 mHz). Frequencies higher than 8 mHz cannot really be captured with these data, since the Nyquist frequency for a sampling time dt of 60 seconds is 1/(2*60) = 8.33 mHz!"
   ]
  },
  {
   "cell_type": "code",
   "execution_count": null,
   "metadata": {},
   "outputs": [],
   "source": [
    "w = tfa.Wavelet(\n",
    "    {\n",
    "        \"Min_Scale\": 1000 / 8,\n",
    "        \"Max_Scale\": 1000 / 1,\n",
    "        \"dj\": 0.1,\n",
    "    }\n",
    ")\n",
    "processor.apply(w)\n",
    "processor.image(cbar_lims=[-2, 2])"
   ]
  },
  {
   "cell_type": "markdown",
   "metadata": {},
   "source": [
    "Produce an index of wave activity by simply running the `wave_index()` function. The results can be visualized by using the `plotI()` function, similar to the `plotX()` that is used to display the field time series data."
   ]
  },
  {
   "cell_type": "code",
   "execution_count": null,
   "metadata": {},
   "outputs": [],
   "source": [
    "processor.wave_index()\n",
    "processor.plotI()"
   ]
  }
 ],
 "metadata": {
  "interpreter": {
   "hash": "87d67a24c2c5892c025cb327df6d3922c0a9d4e9219e4fcf3b6836bad3fb9136"
  },
  "language_info": {
   "codemirror_mode": {
    "name": "ipython",
    "version": 3
   },
   "file_extension": ".py",
   "mimetype": "text/x-python",
   "name": "python",
   "nbconvert_exporter": "python",
   "pygments_lexer": "ipython3"
  }
 },
 "nbformat": 4,
 "nbformat_minor": 2
}
