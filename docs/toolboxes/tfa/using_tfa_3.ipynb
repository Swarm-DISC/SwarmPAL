{
 "cells": [
  {
   "cell_type": "markdown",
   "metadata": {},
   "source": [
    "# Analysis of Swarm Electric Field data"
   ]
  },
  {
   "cell_type": "markdown",
   "metadata": {},
   "source": [
    "   Imports:"
   ]
  },
  {
   "cell_type": "code",
   "execution_count": null,
   "metadata": {},
   "outputs": [],
   "source": [
    "import datetime as dt\n",
    "import swarmpal.toolboxes.tfa.tfa_processor as tfa"
   ]
  },
  {
   "cell_type": "markdown",
   "metadata": {},
   "source": [
    "Provide values for the parameters of the analysis.  The `dataset` can be chosen from one of the compatible magnetic data collections, and the `var` is a VirES-compatible variable string (see [viresclient](https://viresclient.readthedocs.io/en/latest/available_parameters.html) for more information). The \"start\" and \"end\" times must be given as a datetime object. If the data are required as they are, set the `remove_chaos_model` parameter to False. Otherwise, if the inputs are magnetic field data and the analysis requires subtraction of the model field, set the parameter to True. \n",
    "For the electric field, the `SW_EXPT_EFIA_TCT02` has to be used, which includes electric field measurements from the VxB product, in two directions, \"horizonta\" or \"vertical\", both in the instrument XYZ cartesian coordinate frame. Each of these can be selected with the `Eh_XYV` or `Ev_XYZ` variables."
   ]
  },
  {
   "cell_type": "code",
   "execution_count": null,
   "metadata": {},
   "outputs": [],
   "source": [
    "dataset = \"SW_EXPT_EFIA_TCT02\"\n",
    "series_dt = \"PT1S\"\n",
    "var = \"Eh_XYZ\"\n",
    "remove_chaos_model = False\n",
    "time_start = dt.datetime(2015, 3, 14, 12, 5, 0)\n",
    "time_end = dt.datetime(2015, 3, 14, 12, 30, 0)"
   ]
  },
  {
   "cell_type": "markdown",
   "metadata": {},
   "source": [
    "Now run the TfaInput to retrieve the selected data."
   ]
  },
  {
   "cell_type": "code",
   "execution_count": null,
   "metadata": {},
   "outputs": [],
   "source": [
    "inputs = tfa.TfaInput(\n",
    "    collection=dataset,\n",
    "    start_time=time_start,\n",
    "    end_time=time_end,\n",
    "    initialise=True,\n",
    "    varname=var,\n",
    "    sampling_time=series_dt,\n",
    "    remove_chaos=remove_chaos_model,\n",
    ")"
   ]
  },
  {
   "cell_type": "markdown",
   "metadata": {},
   "source": [
    "Note: This is a dataset that is not yet supported officially by SwarmPAL. The TFA bypasses that, by calling the ViresClient directly, behind the scenes, in order to get the data and then formats them so that they become of similar type with the other commonly used products. This will be updated soon, to be correctly supported through the normal channels."
   ]
  },
  {
   "cell_type": "markdown",
   "metadata": {},
   "source": [
    "Now that the input instance is ready, we can proceed to for Wavelet processing by initiating the `TfaProcessor` object and specifying the name of the variable and the component of choice, 0 for X, 1 for Y and 2 for the Z one."
   ]
  },
  {
   "cell_type": "code",
   "execution_count": null,
   "metadata": {},
   "outputs": [],
   "source": [
    "processor = tfa.TfaProcessor(\n",
    "    inputs, active_variable={\"varname\": \"Eh_XYZ\", \"component\": 0}\n",
    ")"
   ]
  },
  {
   "cell_type": "code",
   "execution_count": null,
   "metadata": {},
   "outputs": [],
   "source": [
    "processor.plotX()"
   ]
  },
  {
   "cell_type": "markdown",
   "metadata": {},
   "source": [
    "To perform cleaning on the data, we initialize a `Cleaning` object with the parameters of our choice and then apply it on the data with the `TfaProcessor` `apply()` function.\n",
    "The active variable series can be plotted by means of the `plotX()` function."
   ]
  },
  {
   "cell_type": "code",
   "execution_count": null,
   "metadata": {},
   "outputs": [],
   "source": [
    "c = tfa.Cleaning({\"Window_Size\": 300, \"Method\": \"iqr\", \"Multiplier\": 1})\n",
    "processor.apply(c)\n",
    "processor.plotX()"
   ]
  },
  {
   "cell_type": "markdown",
   "metadata": {},
   "source": [
    "Similarly, the filtering can be performed by first initializing a `Filtering` object with the parameters of our choosing and the applying in on the data."
   ]
  },
  {
   "cell_type": "code",
   "execution_count": null,
   "metadata": {},
   "outputs": [],
   "source": [
    "f = tfa.Filtering({\"Cutoff_Frequency\": 10 / 1000})\n",
    "processor.apply(f)\n",
    "processor.plotX()"
   ]
  },
  {
   "cell_type": "markdown",
   "metadata": {},
   "source": [
    "In the same way, the wavelet transform is applied. The result of the wavelet can be visualized by means of the image() function"
   ]
  },
  {
   "cell_type": "code",
   "execution_count": null,
   "metadata": {},
   "outputs": [],
   "source": [
    "w = tfa.Wavelet(\n",
    "    {\n",
    "        \"Min_Frequency\": 20 / 1000,\n",
    "        \"Max_Frequency\": 200 / 1000,\n",
    "        \"dj\": 0.1,\n",
    "    }\n",
    ")\n",
    "processor.apply(w)\n",
    "processor.image(cbar_lims=[-2, 2])"
   ]
  }
 ],
 "metadata": {
  "interpreter": {
   "hash": "87d67a24c2c5892c025cb327df6d3922c0a9d4e9219e4fcf3b6836bad3fb9136"
  },
  "language_info": {
   "codemirror_mode": {
    "name": "ipython",
    "version": 3
   },
   "file_extension": ".py",
   "mimetype": "text/x-python",
   "name": "python",
   "nbconvert_exporter": "python",
   "pygments_lexer": "ipython3"
  }
 },
 "nbformat": 4,
 "nbformat_minor": 2
}
