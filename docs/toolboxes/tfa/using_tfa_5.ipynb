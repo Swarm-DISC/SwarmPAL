{
 "cells": [
  {
   "cell_type": "markdown",
   "metadata": {},
   "source": [
    "# Inserting other data into the TFA (Cluster test case)"
   ]
  },
  {
   "cell_type": "markdown",
   "metadata": {},
   "source": [
    "   Imports:"
   ]
  },
  {
   "cell_type": "code",
   "execution_count": null,
   "metadata": {},
   "outputs": [],
   "source": [
    "import datetime as dt\n",
    "\n",
    "import matplotlib.pyplot as plt\n",
    "import numpy as np\n",
    "import xarray as xr\n",
    "\n",
    "import swarmpal.toolboxes.tfa.tfa_processor as tfa"
   ]
  },
  {
   "cell_type": "markdown",
   "metadata": {},
   "source": [
    "Provide values for the parameters of the analysis.  The `dataset` can be chosen from one of the compatible magnetic data collections, and the `var` is a VirES-compatible variable string (see [viresclient](https://viresclient.readthedocs.io/en/latest/available_parameters.html) for more information). The \"start\" and \"end\" times must be given as a datetime object. If the data are required as they are, set the `remove_chaos_model` parameter to False. Otherwise, if the inputs are magnetic field data and the analysis requires subtraction of the model field, set the parameter to True. "
   ]
  },
  {
   "cell_type": "markdown",
   "metadata": {},
   "source": [
    "Cluster data, as downloaded by CDAWeb can be side-loaded into a `TfaInput` instance. Fist read the data as normal."
   ]
  },
  {
   "cell_type": "code",
   "execution_count": null,
   "metadata": {},
   "outputs": [],
   "source": [
    "fname = \"C3_CP_FGM_SPIN_104449.txt\"\n",
    "cl_mag = np.genfromtxt(\n",
    "    fname,\n",
    "    comments=\"#\",\n",
    "    delimiter=[23, 14],\n",
    "    skip_header=136,\n",
    "    converters={0: str, 1: float},\n",
    ")\n",
    "i = 0\n",
    "cl_mag_t = [\n",
    "    dt.datetime.strptime(cl_mag[i][0], \"b'%d-%m-%Y %H:%M:%S.%f'\")\n",
    "    for i in range(len(cl_mag))\n",
    "]\n",
    "cl_mag_t = np.array(cl_mag_t).astype(np.datetime64)\n",
    "cl_mag_x = np.array([float(cl_mag[i][1]) for i in range(len(cl_mag))]).astype(\n",
    "    np.float64\n",
    ")"
   ]
  },
  {
   "cell_type": "markdown",
   "metadata": {},
   "source": [
    "Define the time limits for this analysis (must be contained within the file)"
   ]
  },
  {
   "cell_type": "code",
   "execution_count": null,
   "metadata": {},
   "outputs": [],
   "source": [
    "t_lims = [dt.datetime(2015, 3, 29, 17, 0, 0), dt.datetime(2015, 3, 29, 18, 59, 59)]"
   ]
  },
  {
   "cell_type": "markdown",
   "metadata": {},
   "source": [
    "Create a TfaInput instance, but don't initialize it. Set the collection to a random value from one of the permitted choices for now. "
   ]
  },
  {
   "cell_type": "code",
   "execution_count": null,
   "metadata": {},
   "outputs": [],
   "source": [
    "c = tfa.TfaInput(\n",
    "    collection=\"SW_OPER_MAGA_LR_1B\",\n",
    "    start_time=t_lims[0],\n",
    "    end_time=t_lims[1],\n",
    "    initialise=False,\n",
    "    varname=\"F\",\n",
    "    sampling_time=\"PT4S\",\n",
    "    remove_chaos=False,\n",
    ")"
   ]
  },
  {
   "cell_type": "markdown",
   "metadata": {},
   "source": [
    "Insert the new data to the `xarray` of the `TfaInput` and rename the collection to something that makes sense."
   ]
  },
  {
   "cell_type": "code",
   "execution_count": null,
   "metadata": {},
   "outputs": [],
   "source": [
    "data_vars = {\"F\": ([\"Timestamp\"], cl_mag_x, {\"units\": \"nT\"})}\n",
    "coords = {\"Timestamp\": ([\"Timestamp\"], cl_mag_t)}\n",
    "attrs = {}\n",
    "c.xarray = xr.Dataset(data_vars, coords, attrs)\n",
    "\n",
    "c.COLLECTION = \"C3_CP_FGM_SPIN\""
   ]
  },
  {
   "cell_type": "markdown",
   "metadata": {},
   "source": [
    "From now on, proceed as normal"
   ]
  },
  {
   "cell_type": "code",
   "execution_count": null,
   "metadata": {},
   "outputs": [],
   "source": [
    "processor = tfa.TfaProcessor(c, active_variable={\"varname\": \"F\"})"
   ]
  },
  {
   "cell_type": "code",
   "execution_count": null,
   "metadata": {},
   "outputs": [],
   "source": [
    "processor.interp_nans()"
   ]
  },
  {
   "cell_type": "code",
   "execution_count": null,
   "metadata": {},
   "outputs": [],
   "source": [
    "processor.plotX()"
   ]
  },
  {
   "cell_type": "code",
   "execution_count": null,
   "metadata": {},
   "outputs": [],
   "source": [
    "f = tfa.Filtering(\n",
    "    {\"Cutoff_Frequency\": 20 / 1000}\n",
    ")\n",
    "processor.apply(f)"
   ]
  },
  {
   "cell_type": "code",
   "execution_count": null,
   "metadata": {},
   "outputs": [],
   "source": [
    "processor.plotX()\n",
    "plt.ylim([-1, 1])"
   ]
  },
  {
   "cell_type": "code",
   "execution_count": null,
   "metadata": {},
   "outputs": [],
   "source": [
    "w = tfa.Wavelet(\n",
    "    {\n",
    "        \"Min_Frequency\": 20 / 1000,\n",
    "        \"Max_Frequency\": 100 / 1000,\n",
    "        \"dj\": 0.1,\n",
    "    }\n",
    ")\n",
    "processor.apply(w)"
   ]
  },
  {
   "cell_type": "code",
   "execution_count": null,
   "metadata": {},
   "outputs": [],
   "source": [
    "processor.image()"
   ]
  }
 ],
 "metadata": {
  "interpreter": {
   "hash": "87d67a24c2c5892c025cb327df6d3922c0a9d4e9219e4fcf3b6836bad3fb9136"
  },
  "kernelspec": {
   "display_name": "swarmpal",
   "language": "python",
   "name": "swarmpal"
  },
  "language_info": {
   "codemirror_mode": {
    "name": "ipython",
    "version": 3
   },
   "file_extension": ".py",
   "mimetype": "text/x-python",
   "name": "python",
   "nbconvert_exporter": "python",
   "pygments_lexer": "ipython3",
   "version": "3.8.13"
  }
 },
 "nbformat": 4,
 "nbformat_minor": 2
}
