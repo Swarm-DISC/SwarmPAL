{
 "cells": [
  {
   "cell_type": "markdown",
   "metadata": {},
   "source": [
    "# Using the SECS toolbox"
   ]
  },
  {
   "cell_type": "code",
   "execution_count": null,
   "metadata": {},
   "outputs": [],
   "source": [
    "import datetime as dt\n",
    "from swarmx.toolboxes.secs import SecsInputs"
   ]
  },
  {
   "cell_type": "markdown",
   "metadata": {},
   "source": [
    "`SecsInputs` fetches data from Swarm Alpha and Charlie. The default model used is `\"'CHAOS-Core' + 'CHAOS-Static'\"` (i.e. the internal field model from CHAOS), which can be replaced with, for example, `model=\"IGRF\"` as below (which is faster but less accurate)."
   ]
  },
  {
   "cell_type": "code",
   "execution_count": null,
   "metadata": {},
   "outputs": [],
   "source": [
    "inputs = SecsInputs(\n",
    "    start_time=dt.datetime(2019, 1, 1, hour=0),\n",
    "    end_time=dt.datetime(2019, 1, 2, hour=2),\n",
    "    model=\"IGRF\",\n",
    ")"
   ]
  },
  {
   "cell_type": "markdown",
   "metadata": {},
   "source": [
    "The data are now available within xarray objects underneath `inputs.s1` (for Swarm Alpha) and `inputs.s2` (for Swarm Charlie)."
   ]
  },
  {
   "cell_type": "code",
   "execution_count": null,
   "metadata": {},
   "outputs": [],
   "source": [
    "inputs.s1.xarray"
   ]
  },
  {
   "cell_type": "code",
   "execution_count": null,
   "metadata": {},
   "outputs": [],
   "source": [
    "inputs.s2.xarray"
   ]
  },
  {
   "cell_type": "markdown",
   "metadata": {},
   "source": [
    "The numpy arrays can be extracted using the xarray interface:"
   ]
  },
  {
   "cell_type": "code",
   "execution_count": null,
   "metadata": {},
   "outputs": [],
   "source": [
    "inputs.s1.xarray[\"Timestamp\"].data"
   ]
  }
 ],
 "metadata": {
  "interpreter": {
   "hash": "f067c6c47a2cb62bc6a3bfa24319dda2792b1a63487d0a36b8f09a14a2a18616"
  },
  "language_info": {
   "codemirror_mode": {
    "name": "ipython",
    "version": 3
   },
   "file_extension": ".py",
   "mimetype": "text/x-python",
   "name": "python",
   "nbconvert_exporter": "python",
   "pygments_lexer": "ipython3"
  }
 },
 "nbformat": 4,
 "nbformat_minor": 4
}
