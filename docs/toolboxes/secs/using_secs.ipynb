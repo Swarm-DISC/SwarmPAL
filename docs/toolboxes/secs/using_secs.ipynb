{
 "cells": [
  {
   "cell_type": "markdown",
   "metadata": {},
   "source": [
    "# Using the SECS toolbox"
   ]
  },
  {
   "cell_type": "code",
   "execution_count": null,
   "metadata": {},
   "outputs": [],
   "source": [
    "import datetime as dt\n",
    "from swarmx.toolboxes.secs import SecsInputs"
   ]
  },
  {
   "cell_type": "markdown",
   "metadata": {},
   "source": [
    "## Fetching inputs to the toolbox"
   ]
  },
  {
   "cell_type": "markdown",
   "metadata": {},
   "source": [
    "`SecsInputs` fetches data from Swarm Alpha and Charlie. The default model used is `\"'CHAOS-Core' + 'CHAOS-Static'\"` (i.e. the internal field model from CHAOS), which can be replaced with, for example, `model=\"IGRF\"` as below (which is faster but less accurate. In real-world usage replace it with, for example:\n",
    "- `model=\"'CHAOS-Core' + 'CHAOS-Static'\"`\n",
    "- `model=\"'CHAOS-Core' + 'CHAOS-Static' + 'CHAOS-MMA-Primary' + 'CHAOS-MMA-Secondary'\"`  \n",
    "   or equivalently `model=\"CHAOS\"` (an alias for the above)Data is fetched separately for each spacecraft and stored together in the returned object."
   ]
  },
  {
   "cell_type": "code",
   "execution_count": null,
   "metadata": {},
   "outputs": [],
   "source": [
    "inputs = SecsInputs(\n",
    "    start_time=dt.datetime(2019, 1, 1, hour=0),\n",
    "    end_time=dt.datetime(2019, 1, 2, hour=2),\n",
    "    model=\"IGRF\",\n",
    ")"
   ]
  },
  {
   "cell_type": "markdown",
   "metadata": {},
   "source": [
    "Data are fetched separately for each spacecraft and stored together in the returned object. In addition, magnetic apex coordinates are calculated locally and included with the data. Note that the model used is renamed to just `Model` in the dataset (i.e. in the variable `B_NEC_Model`), but the details of the model are available within the `MagneticModels` attribute.\n",
    "\n",
    "The data are now available within xarray objects underneath `inputs.s1` (for Swarm Alpha) and `inputs.s2` (for Swarm Charlie)."
   ]
  },
  {
   "cell_type": "code",
   "execution_count": null,
   "metadata": {},
   "outputs": [],
   "source": [
    "inputs.s1.xarray"
   ]
  },
  {
   "cell_type": "code",
   "execution_count": null,
   "metadata": {},
   "outputs": [],
   "source": [
    "inputs.s2.xarray"
   ]
  },
  {
   "cell_type": "markdown",
   "metadata": {},
   "source": [
    "The numpy arrays can be extracted using the xarray interface:"
   ]
  },
  {
   "cell_type": "code",
   "execution_count": null,
   "metadata": {},
   "outputs": [],
   "source": [
    "inputs.s1.xarray[\"Timestamp\"].data"
   ]
  },
  {
   "cell_type": "markdown",
   "metadata": {},
   "source": [
    "Or using methods built within SwarmX:"
   ]
  },
  {
   "cell_type": "code",
   "execution_count": null,
   "metadata": {},
   "outputs": [],
   "source": [
    "inputs.s1.get_array(\"Timestamp\")"
   ]
  },
  {
   "cell_type": "code",
   "execution_count": null,
   "metadata": {},
   "outputs": [],
   "source": [
    "inputs.s1.get_array(\"B_NEC\")"
   ]
  }
 ],
 "metadata": {
  "interpreter": {
   "hash": "f067c6c47a2cb62bc6a3bfa24319dda2792b1a63487d0a36b8f09a14a2a18616"
  },
  "language_info": {
   "codemirror_mode": {
    "name": "ipython",
    "version": 3
   },
   "file_extension": ".py",
   "mimetype": "text/x-python",
   "name": "python",
   "nbconvert_exporter": "python",
   "pygments_lexer": "ipython3"
  }
 },
 "nbformat": 4,
 "nbformat_minor": 4
}
