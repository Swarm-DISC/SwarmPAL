{
 "cells": [
  {
   "cell_type": "markdown",
   "metadata": {},
   "source": [
    "# Data I/O (old)"
   ]
  },
  {
   "cell_type": "markdown",
   "metadata": {},
   "source": [
    "A temporary demonstration of how the input data to toolboxes can be loaded.\n",
    "\n",
    "The `ExternalData` class is not intended to be used directly. `ExternalData` defines some general utilities which are useful for handling the input (and output) data for each toolbox. Each toolbox defines its own subclasses of this, e.g. `SecsInputs`, `TfaMagInputs`. These define which datasets to connect to, supply some default configuration for those datasets, and perform some preprocessing (e.g. generation of auxiliary/derived parameters).\n",
    "\n",
    "An example subclass, `MagExternalData(ExternalData)`, is provided and used below to demonstrate the general behaviour of the data objects.\n",
    "\n",
    "Some behaviours of `ExternalData`:\n",
    "- Each subclass defines which datasets to plug into, and which parameters to fetch etc.\n",
    "- The user chooses which particular dataset to fetch\n",
    "- `ExternalData` objects only hold a single time series, represented as an xarray Dataset\n",
    "- Remote datasets are by default configured to come from VirES\n",
    "\n",
    "Some methods added to make the usage more flexible:\n",
    "- The expensive part (fetching data) happens at a step:  \n",
    "  `.initialise()`  \n",
    "  which is run by default when fetching data from VirES (but can be disabled by passing `initialise=False`)\n",
    "- Preloaded data can be saved to a file:  \n",
    "  `.to_file(\"filename.nc\")`  (saves a netCDF file from the xarray object)  \n",
    "  This can be useful to prepare a bulk dataset to be processed (i.e. download all the data first, then apply the algorithms from the toolbox)\n",
    "- Choose where data will come from to initialise the data object. On object creation, pass `source = \"vires\" | \"swarmpal_file\" | \"manual\"`:\n",
    "  - `\"vires\"` (default) to fetch from VirES\n",
    "  - `\"swarmpal_file\"` to provide a file prepared from the `.to_file()` method\n",
    "  - `\"manual\"` to manually pass an xarray Dataset\n",
    "  - Data from file or manual are loaded after object creation in a second step:\n",
    "    `.initialise(xarray)`  \n",
    "    `.initialise(\"filename.nc\")`"
   ]
  },
  {
   "cell_type": "code",
   "execution_count": null,
   "metadata": {},
   "outputs": [],
   "source": [
    "# This allows module code to be reloaded live\n",
    "# - useful for testing out things when working on an editable install of the package\n",
    "%load_ext autoreload\n",
    "%autoreload 2"
   ]
  },
  {
   "cell_type": "code",
   "execution_count": null,
   "metadata": {},
   "outputs": [],
   "source": [
    "from swarmpal.io import ExternalData, MagExternalData"
   ]
  },
  {
   "cell_type": "markdown",
   "metadata": {},
   "source": [
    "## Properties of `ExternalData` objects"
   ]
  },
  {
   "cell_type": "markdown",
   "metadata": {},
   "source": [
    "The base `ExternalData` class has unset collections and defaults. These configure which dataset (collection) to connect to, and the default (user-overridable) parameters to pass to VirES."
   ]
  },
  {
   "cell_type": "code",
   "execution_count": null,
   "metadata": {},
   "outputs": [],
   "source": [
    "ExternalData.COLLECTIONS"
   ]
  },
  {
   "cell_type": "code",
   "execution_count": null,
   "metadata": {},
   "outputs": [],
   "source": [
    "ExternalData.DEFAULTS"
   ]
  },
  {
   "cell_type": "markdown",
   "metadata": {},
   "source": [
    "Subclasses replace these to configure the data they require access to:"
   ]
  },
  {
   "cell_type": "code",
   "execution_count": null,
   "metadata": {},
   "outputs": [],
   "source": [
    "MagExternalData.COLLECTIONS"
   ]
  },
  {
   "cell_type": "code",
   "execution_count": null,
   "metadata": {},
   "outputs": [],
   "source": [
    "MagExternalData.DEFAULTS"
   ]
  },
  {
   "cell_type": "markdown",
   "metadata": {},
   "source": [
    "## Get data from VirES"
   ]
  },
  {
   "cell_type": "markdown",
   "metadata": {},
   "source": [
    "The user creates a data object, specifying the details of the particular collection and time window they choose to use:"
   ]
  },
  {
   "cell_type": "code",
   "execution_count": null,
   "metadata": {},
   "outputs": [],
   "source": [
    "d_vires = MagExternalData(\n",
    "    collection=\"SW_OPER_MAGA_LR_1B\",\n",
    "    model=\"IGRF\",\n",
    "    start_time=\"2022-01-01\",\n",
    "    end_time=\"2022-01-01T01:00:00\",\n",
    "    viresclient_kwargs=dict(\n",
    "        asynchronous=True, show_progress=True\n",
    "    ),  # optional (default)\n",
    "    source=\"vires\",  # optional (default)\n",
    "    initialise=False,  # defaults to True\n",
    ")"
   ]
  },
  {
   "cell_type": "markdown",
   "metadata": {},
   "source": [
    "Data is stored in the .xarray property\n",
    "\n",
    "This is not available yet because we set `initialise=False`"
   ]
  },
  {
   "cell_type": "code",
   "execution_count": null,
   "metadata": {},
   "outputs": [],
   "source": [
    "# catch the error and just print the error message\n",
    "try:\n",
    "    d_vires.xarray\n",
    "except AttributeError as e:\n",
    "    print(e)"
   ]
  },
  {
   "cell_type": "code",
   "execution_count": null,
   "metadata": {},
   "outputs": [],
   "source": [
    "d_vires.initialise()"
   ]
  },
  {
   "cell_type": "code",
   "execution_count": null,
   "metadata": {},
   "outputs": [],
   "source": [
    "d_vires.xarray"
   ]
  },
  {
   "cell_type": "markdown",
   "metadata": {},
   "source": [
    "## Use data from above to manually create the `ExternalData`"
   ]
  },
  {
   "cell_type": "code",
   "execution_count": null,
   "metadata": {},
   "outputs": [],
   "source": [
    "d_manual = MagExternalData(source=\"manual\")"
   ]
  },
  {
   "cell_type": "code",
   "execution_count": null,
   "metadata": {},
   "outputs": [],
   "source": [
    "try:\n",
    "    d_manual.xarray\n",
    "except AttributeError as e:\n",
    "    print(e)"
   ]
  },
  {
   "cell_type": "markdown",
   "metadata": {},
   "source": [
    "Initialise it with the data we fetched earlier\n",
    "\n",
    "One could supply any data here but it is up to the user to ensure the data is valid input"
   ]
  },
  {
   "cell_type": "code",
   "execution_count": null,
   "metadata": {},
   "outputs": [],
   "source": [
    "d_manual.initialise(d_vires.xarray.copy())"
   ]
  },
  {
   "cell_type": "code",
   "execution_count": null,
   "metadata": {},
   "outputs": [],
   "source": [
    "d_manual.xarray"
   ]
  },
  {
   "cell_type": "markdown",
   "metadata": {},
   "source": [
    "## Create `ExternalData` from a file"
   ]
  },
  {
   "cell_type": "markdown",
   "metadata": {},
   "source": [
    "Suppose we prepared the input in an earlier step:"
   ]
  },
  {
   "cell_type": "code",
   "execution_count": null,
   "metadata": {},
   "outputs": [],
   "source": [
    "d1 = MagExternalData(\n",
    "    collection=\"SW_OPER_MAGA_LR_1B\",\n",
    "    model=\"IGRF\",\n",
    "    start_time=\"2022-01-01\",\n",
    "    end_time=\"2022-01-01T01:00:00\",\n",
    "    viresclient_kwargs=dict(asynchronous=True, show_progress=True),\n",
    ")\n",
    "d1.to_file(\"test_file.nc\")"
   ]
  },
  {
   "cell_type": "markdown",
   "metadata": {},
   "source": [
    "Now we can create the object from this file directly:"
   ]
  },
  {
   "cell_type": "code",
   "execution_count": null,
   "metadata": {},
   "outputs": [],
   "source": [
    "d2 = MagExternalData(source=\"swarmpal_file\")"
   ]
  },
  {
   "cell_type": "code",
   "execution_count": null,
   "metadata": {},
   "outputs": [],
   "source": [
    "d2.initialise(\"test_file.nc\")\n",
    "d2.xarray"
   ]
  },
  {
   "cell_type": "code",
   "execution_count": null,
   "metadata": {},
   "outputs": [],
   "source": [
    "from os import remove\n",
    "\n",
    "remove(\"test_file.nc\")"
   ]
  }
 ],
 "metadata": {
  "language_info": {
   "codemirror_mode": {
    "name": "ipython",
    "version": 3
   },
   "file_extension": ".py",
   "mimetype": "text/x-python",
   "name": "python",
   "nbconvert_exporter": "python",
   "pygments_lexer": "ipython3"
  },
  "vscode": {
   "interpreter": {
    "hash": "87d67a24c2c5892c025cb327df6d3922c0a9d4e9219e4fcf3b6836bad3fb9136"
   }
  }
 },
 "nbformat": 4,
 "nbformat_minor": 2
}
