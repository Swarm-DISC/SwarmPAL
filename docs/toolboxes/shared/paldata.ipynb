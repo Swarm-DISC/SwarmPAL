{
 "cells": [
  {
   "cell_type": "markdown",
   "metadata": {},
   "source": [
    "# PalData (new)"
   ]
  },
  {
   "cell_type": "markdown",
   "metadata": {},
   "source": [
    "Data can be retrieved or loaded into the SwarmPAL framework using the `PalData` construct. This construct can hold multiple datasets (in the form of `PalDataItem`'s), connecting in one direction to tools to fetch data, and in the other direction to tools that process and visualise data."
   ]
  },
  {
   "cell_type": "code",
   "execution_count": null,
   "metadata": {},
   "outputs": [],
   "source": [
    "from swarmpal.io import PalData, PalDataItem"
   ]
  },
  {
   "cell_type": "markdown",
   "metadata": {},
   "source": [
    "\n",
    "A `PalData` object is created by passing a series of `PalDataItem` objects. Each `PalDataItem` can be created through different methods..."
   ]
  },
  {
   "cell_type": "markdown",
   "metadata": {},
   "source": [
    "## PalDataItem from VirES"
   ]
  },
  {
   "cell_type": "code",
   "execution_count": null,
   "metadata": {},
   "outputs": [],
   "source": [
    "# Pass parameters to the .from_vires method to fetch data from VirES (via viresclient)\n",
    "item_v = PalDataItem.from_vires(\n",
    "    server_url=\"https://vires.services/ows\",\n",
    "    collection=\"SW_OPER_MAGA_LR_1B\",\n",
    "    measurements=[\"F\", \"B_NEC\"],\n",
    "    models=[\"IGRF\"],\n",
    "    start_time=\"2016-01-01T00:00:00\",\n",
    "    end_time=\"2016-01-01T00:00:10\",\n",
    "    kwargs=dict(asynchronous=False, show_progress=False),\n",
    ")"
   ]
  },
  {
   "cell_type": "markdown",
   "metadata": {},
   "source": [
    "The above code will just create the object (with some light validation), without fetching and loading the data. To do that, run `.initialise()`, and then the dataset will be made available in the `.xarray` attribute:"
   ]
  },
  {
   "cell_type": "code",
   "execution_count": null,
   "metadata": {},
   "outputs": [],
   "source": [
    "item_v.initialise()\n",
    "item_v.xarray"
   ]
  },
  {
   "cell_type": "markdown",
   "metadata": {},
   "source": [
    "## PalDataItem from HAPI"
   ]
  },
  {
   "cell_type": "code",
   "execution_count": null,
   "metadata": {},
   "outputs": [],
   "source": [
    "# Pass parameters to the .from_hapi method to fetch data from any HAPI servier (via hapiclient)\n",
    "# Note that the available parameters are different from VirES\n",
    "item_h = PalDataItem.from_hapi(\n",
    "    server_url=\"https://vires.services/hapi\",\n",
    "    collection=\"SW_OPER_MAGA_LR_1B\",\n",
    "    measurements=[\"F\", \"B_NEC\"],\n",
    "    start_time=\"2016-01-01T00:00:00\",\n",
    "    end_time=\"2016-01-01T00:00:10\",\n",
    "    options=dict(logging=False),\n",
    ")\n",
    "item_h.initialise()\n",
    "item_h.xarray"
   ]
  },
  {
   "cell_type": "markdown",
   "metadata": {},
   "source": [
    "## PalDataItem from local file or object"
   ]
  },
  {
   "cell_type": "code",
   "execution_count": null,
   "metadata": {},
   "outputs": [],
   "source": [
    "# Get a copy of the data above to use as a test\n",
    "ds = item_h.xarray.copy()\n",
    "ds.to_netcdf(\"test.nc\")\n",
    "# Create identical Pal objects from that data\n",
    "item_f = PalDataItem.from_file(\"test.nc\")\n",
    "item_m = PalDataItem.from_manual(ds)"
   ]
  },
  {
   "cell_type": "markdown",
   "metadata": {},
   "source": [
    "## Assembling PalData objects"
   ]
  },
  {
   "cell_type": "markdown",
   "metadata": {},
   "source": [
    "Any number of items can be attached to `PalData` (and the `.initialise()` is passed through to each item).\n",
    "\n",
    "Items can either be referenced by a simple index:"
   ]
  },
  {
   "cell_type": "code",
   "execution_count": null,
   "metadata": {},
   "outputs": [],
   "source": [
    "my_pal = PalData(item_v, item_h, item_f, item_m)\n",
    "my_pal.initialise()\n",
    "my_pal[0], my_pal[1], my_pal[2], my_pal[3]"
   ]
  },
  {
   "cell_type": "markdown",
   "metadata": {},
   "source": [
    "... or by passing keywords:"
   ]
  },
  {
   "cell_type": "code",
   "execution_count": null,
   "metadata": {},
   "outputs": [],
   "source": [
    "my_pal = PalData(one=item_v, two=item_h, three=item_f, four=item_m)\n",
    "my_pal.initialise()\n",
    "my_pal[\"one\"], my_pal[\"two\"], my_pal[\"three\"], my_pal[\"four\"]"
   ]
  },
  {
   "cell_type": "markdown",
   "metadata": {},
   "source": [
    "Putting the above steps together, we can create a `PalData` directly with:"
   ]
  },
  {
   "cell_type": "code",
   "execution_count": null,
   "metadata": {},
   "outputs": [],
   "source": [
    "my_pal = PalData(\n",
    "    one=PalDataItem.from_file(\"test.nc\"),\n",
    "    two=PalDataItem.from_file(\"test.nc\"),\n",
    ")"
   ]
  },
  {
   "cell_type": "code",
   "execution_count": null,
   "metadata": {},
   "outputs": [],
   "source": [
    "params = dict(\n",
    "    server_url=\"https://vires.services/ows\",\n",
    "    collection=\"SW_OPER_MAGA_LR_1B\",\n",
    "    measurements=[\"F\", \"B_NEC\"],\n",
    "    models=[\"IGRF\"],\n",
    "    start_time=\"2016-01-01T00:00:00\",\n",
    "    end_time=\"2016-01-01T00:00:10\",\n",
    "    kwargs=dict(asynchronous=False, show_progress=False),\n",
    ")\n",
    "my_pal = PalData(PalDataItem.from_vires(**params))\n",
    "my_pal.initialise()\n",
    "my_pal[0].xarray"
   ]
  },
  {
   "cell_type": "code",
   "execution_count": null,
   "metadata": {},
   "outputs": [],
   "source": [
    "# A final cleanup to remove that file\n",
    "from os import remove\n",
    "\n",
    "remove(\"test.nc\")"
   ]
  }
 ],
 "metadata": {
  "language_info": {
   "codemirror_mode": {
    "name": "ipython",
    "version": 3
   },
   "file_extension": ".py",
   "mimetype": "text/x-python",
   "name": "python",
   "nbconvert_exporter": "python",
   "pygments_lexer": "ipython3"
  },
  "vscode": {
   "interpreter": {
    "hash": "75048f8b19dc2376e8ce021c430fd300fc261773814cb02da2fef53030a6379a"
   }
  }
 },
 "nbformat": 4,
 "nbformat_minor": 2
}
