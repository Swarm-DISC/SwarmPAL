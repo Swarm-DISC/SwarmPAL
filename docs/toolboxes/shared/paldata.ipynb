{
 "cells": [
  {
   "cell_type": "markdown",
   "metadata": {},
   "source": [
    "# PalData (new)"
   ]
  },
  {
   "cell_type": "markdown",
   "metadata": {},
   "source": [
    "Data can be retrieved or loaded into the SwarmPAL framework using the `PalData` construct. This construct can hold multiple datasets (in the form of `PalDataItem`'s), connecting in one direction to tools to fetch data, and in the other direction to tools that process and visualise data."
   ]
  },
  {
   "cell_type": "code",
   "execution_count": null,
   "metadata": {},
   "outputs": [],
   "source": [
    "from datetime import timedelta\n",
    "\n",
    "from swarmpal.io import PalData, PalDataItem"
   ]
  },
  {
   "cell_type": "markdown",
   "metadata": {},
   "source": [
    "\n",
    "A `PalData` object is created by passing a series of `PalDataItem` objects. Each `PalDataItem` can be created through different methods..."
   ]
  },
  {
   "cell_type": "markdown",
   "metadata": {},
   "source": [
    "## PalDataItem from VirES\n",
    "\n",
    "Pass parameters to the `.from_vires` method to fetch data from VirES (via viresclient)"
   ]
  },
  {
   "cell_type": "code",
   "execution_count": null,
   "metadata": {},
   "outputs": [],
   "source": [
    "item_v = PalDataItem.from_vires(\n",
    "    server_url=\"https://vires.services/ows\",\n",
    "    collection=\"SW_OPER_MAGA_LR_1B\",\n",
    "    measurements=[\"F\", \"B_NEC\"],\n",
    "    models=[\"IGRF\"],\n",
    "    start_time=\"2016-01-01T00:00:00\",\n",
    "    end_time=\"2016-01-01T00:00:10\",\n",
    "    filters=[\"(Longitude > 92.8) AND (Latitude < -72.57)\"],\n",
    "    options=dict(asynchronous=False, show_progress=False),\n",
    ")"
   ]
  },
  {
   "cell_type": "markdown",
   "metadata": {},
   "source": [
    "The above code will just create the object (with some light validation), without fetching and loading the data. To do that, run `.initialise()`, and then the dataset will be made available in the `.xarray` attribute:"
   ]
  },
  {
   "cell_type": "code",
   "execution_count": null,
   "metadata": {},
   "outputs": [],
   "source": [
    "item_v.initialise()\n",
    "item_v.xarray"
   ]
  },
  {
   "cell_type": "markdown",
   "metadata": {},
   "source": [
    "## PalDataItem from HAPI"
   ]
  },
  {
   "cell_type": "markdown",
   "metadata": {},
   "source": [
    "Pass parameters to the `.from_hapi` method to fetch data from any HAPI server (via hapiclient)\n",
    "\n",
    "- Note that the available parameters are different from VirES\n",
    "- Note that the terminology follows the VirES request above,\n",
    "  rather than the usual HAPI terminology [(see example)](http://hapi-server.org/servers/#server=VirES-for-Swarm&dataset=SW_OPER_MAGA_HR_1B&parameters=B_NEC&start=2013-11-25T11:02:51.642562Z&stop=2013-11-25T11:03:51.642Z&return=script&format=python), i.e.:  \n",
    "  \"collection\" = \"dataset\"  \n",
    "  \"measurements\" is a list of values, rather than the comma-separated string \"parameters\"  \n",
    "  \"start_time\", \"end_time\" = \"start\", \"stop\"\n",
    "- Note that there is not a 1-1 match between data from VirES and HAPI, in terms of metadata (e.g. `B_NEC` dimension labels are currently missing)"
   ]
  },
  {
   "cell_type": "code",
   "execution_count": null,
   "metadata": {},
   "outputs": [],
   "source": [
    "item_h = PalDataItem.from_hapi(\n",
    "    server_url=\"https://vires.services/hapi\",\n",
    "    collection=\"SW_OPER_MAGA_LR_1B\",\n",
    "    measurements=[\"Latitude\", \"Longitude\", \"F\", \"B_NEC\"],\n",
    "    start_time=\"2016-01-01T00:00:00\",\n",
    "    end_time=\"2016-01-01T00:00:10\",\n",
    "    options=dict(logging=False),\n",
    ")\n",
    "item_h.initialise()\n",
    "item_h.xarray"
   ]
  },
  {
   "cell_type": "markdown",
   "metadata": {},
   "source": [
    "## PalDataItem from local file or object"
   ]
  },
  {
   "cell_type": "code",
   "execution_count": null,
   "metadata": {},
   "outputs": [],
   "source": [
    "# Get a copy of the data above to use as a test\n",
    "ds = item_h.xarray.copy()\n",
    "ds.to_netcdf(\"test.nc\")\n",
    "# Create identical Pal objects from that data\n",
    "item_f = PalDataItem.from_file(\"test.nc\")\n",
    "item_m = PalDataItem.from_manual(ds)"
   ]
  },
  {
   "cell_type": "markdown",
   "metadata": {},
   "source": [
    "## Assembling PalData objects"
   ]
  },
  {
   "cell_type": "markdown",
   "metadata": {},
   "source": [
    "Any number of items can be attached to `PalData` (and the `.initialise()` is passed through to each item).\n",
    "\n",
    "Items can either be referenced by a simple index:"
   ]
  },
  {
   "cell_type": "code",
   "execution_count": null,
   "metadata": {},
   "outputs": [],
   "source": [
    "my_pal = PalData(item_v, item_h, item_f, item_m)\n",
    "my_pal.initialise()\n",
    "my_pal[0], my_pal[1], my_pal[2], my_pal[3]"
   ]
  },
  {
   "cell_type": "markdown",
   "metadata": {},
   "source": [
    "... or by passing keywords:"
   ]
  },
  {
   "cell_type": "code",
   "execution_count": null,
   "metadata": {},
   "outputs": [],
   "source": [
    "my_pal = PalData(one=item_v, two=item_h, three=item_f, four=item_m)\n",
    "my_pal.initialise()\n",
    "my_pal[\"one\"], my_pal[\"two\"], my_pal[\"three\"], my_pal[\"four\"]"
   ]
  },
  {
   "cell_type": "markdown",
   "metadata": {},
   "source": [
    "Putting the above steps together, we can create a `PalData` directly with:"
   ]
  },
  {
   "cell_type": "code",
   "execution_count": null,
   "metadata": {},
   "outputs": [],
   "source": [
    "my_pal = PalData(\n",
    "    one=PalDataItem.from_file(\"test.nc\"),\n",
    "    two=PalDataItem.from_file(\"test.nc\"),\n",
    ")"
   ]
  },
  {
   "cell_type": "markdown",
   "metadata": {},
   "source": [
    "... or from a vires/hapi requests directly:"
   ]
  },
  {
   "cell_type": "code",
   "execution_count": null,
   "metadata": {},
   "outputs": [],
   "source": [
    "params = dict(\n",
    "    server_url=\"https://vires.services/ows\",\n",
    "    collection=\"SW_OPER_MAGA_LR_1B\",\n",
    "    measurements=[\"F\", \"B_NEC\"],\n",
    "    models=[\"IGRF\"],\n",
    "    start_time=\"2016-01-01T00:00:00\",\n",
    "    end_time=\"2016-01-01T00:00:10\",\n",
    "    pad_times=[timedelta(seconds=1), timedelta(seconds=1)],\n",
    "    options=dict(asynchronous=False, show_progress=False),\n",
    ")\n",
    "my_pal = PalData(PalDataItem.from_vires(**params))\n",
    "my_pal.initialise()\n",
    "my_pal[0].xarray"
   ]
  },
  {
   "cell_type": "markdown",
   "metadata": {},
   "source": [
    "### Time padding\n",
    "\n",
    "Note above that we also supplied the `pad_times` option (a tuple of `datetime.timedelta` instances) that expands the time range being fetched by the specified amounts at the start and end of the window. The original start/end times supplied are available in the `analysis_window` property:"
   ]
  },
  {
   "cell_type": "code",
   "execution_count": null,
   "metadata": {},
   "outputs": [],
   "source": [
    "my_pal[0].analysis_window"
   ]
  },
  {
   "cell_type": "code",
   "execution_count": null,
   "metadata": {},
   "outputs": [],
   "source": [
    "# A final cleanup to remove the file we created earlier\n",
    "from os import remove\n",
    "\n",
    "remove(\"test.nc\")"
   ]
  }
 ],
 "metadata": {
  "language_info": {
   "codemirror_mode": {
    "name": "ipython",
    "version": 3
   },
   "file_extension": ".py",
   "mimetype": "text/x-python",
   "name": "python",
   "nbconvert_exporter": "python",
   "pygments_lexer": "ipython3"
  },
  "vscode": {
   "interpreter": {
    "hash": "75048f8b19dc2376e8ce021c430fd300fc261773814cb02da2fef53030a6379a"
   }
  }
 },
 "nbformat": 4,
 "nbformat_minor": 2
}
