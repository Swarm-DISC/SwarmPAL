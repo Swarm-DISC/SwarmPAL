{
 "cells": [
  {
   "cell_type": "markdown",
   "metadata": {},
   "source": [
    "# DSECS: Dipolar Spherical Elementary Current Systems"
   ]
  },
  {
   "cell_type": "markdown",
   "metadata": {},
   "source": [
    "For more information about the project and the technique, see:\n",
    "- <https://earth.esa.int/eogateway/activities/dsecs>\n",
    "- Vanhamäki, H., Maute, A., Alken, P. et al. Dipolar elementary current systems for ionospheric current reconstruction at low and middle latitudes. Earth Planets Space 72, 146 (2020). <https://doi.org/10.1186/s40623-020-01284-1>"
   ]
  },
  {
   "cell_type": "code",
   "execution_count": null,
   "metadata": {},
   "outputs": [],
   "source": [
    "import logging\n",
    "import datetime as dt\n",
    "from swarmpal.io import create_paldata, PalDataItem\n",
    "from swarmpal.toolboxes import dsecs\n",
    "import matplotlib.pyplot as plt"
   ]
  },
  {
   "cell_type": "code",
   "execution_count": null,
   "metadata": {},
   "outputs": [],
   "source": [
    "# To enable logging in the notebook, uncomment this line:\n",
    "# logging.basicConfig(level=logging.INFO, force=True)"
   ]
  },
  {
   "cell_type": "markdown",
   "metadata": {},
   "source": [
    "## Fetching inputs to the toolbox"
   ]
  },
  {
   "cell_type": "code",
   "execution_count": null,
   "metadata": {},
   "outputs": [],
   "source": [
    "def data_params(spacecraft=\"A\"):\n",
    "    return dict(\n",
    "        collection=f\"SW_OPER_MAG{spacecraft}_LR_1B\",\n",
    "        measurements=[\"B_NEC\"],\n",
    "        models=[\"Model = CHAOS\"],  # currently must use name \"Model\"\n",
    "        auxiliaries=[\"QDLat\"],\n",
    "        start_time=\"2016-03-18T11:00:00\",\n",
    "        end_time=\"2016-03-18T11:50:00\",\n",
    "        server_url=\"https://vires.services/ows\",\n",
    "        options=dict(asynchronous=False, show_progress=False),\n",
    "    )\n",
    "\n",
    "\n",
    "data = create_paldata(\n",
    "    PalDataItem.from_vires(**data_params(\"A\")),\n",
    "    PalDataItem.from_vires(**data_params(\"C\")),\n",
    ")\n",
    "\n",
    "print(data)"
   ]
  },
  {
   "cell_type": "markdown",
   "metadata": {},
   "source": [
    "## Applying the DSECS process"
   ]
  },
  {
   "cell_type": "markdown",
   "metadata": {},
   "source": [
    "### Preprocess"
   ]
  },
  {
   "cell_type": "markdown",
   "metadata": {},
   "source": [
    "This initial process adds in Apex coordinates to the datasets."
   ]
  },
  {
   "cell_type": "code",
   "execution_count": null,
   "metadata": {},
   "outputs": [],
   "source": [
    "p1 = dsecs.processes.Preprocess()\n",
    "p1(data)\n",
    "print(data)"
   ]
  },
  {
   "cell_type": "markdown",
   "metadata": {},
   "source": [
    "### Analysis"
   ]
  },
  {
   "cell_type": "markdown",
   "metadata": {},
   "source": [
    "This process performs the DSECS analysis. It currently takes about 3 minutes to process one pass over the mid-latitudes."
   ]
  },
  {
   "cell_type": "code",
   "execution_count": null,
   "metadata": {},
   "outputs": [],
   "source": [
    "%%time\n",
    "p2 = dsecs.processes.Analysis()\n",
    "data = p2(data)"
   ]
  },
  {
   "cell_type": "markdown",
   "metadata": {},
   "source": [
    "Outputs are stored under a new \"DSECS_output\" branch of the datatree. This branch is further divided into N branches (\"0\", \"1\", \"2\", ...) depending on how many passes have been analysed, and under each branch into \"currents\" (the estimated current densities), \"Fit_Alpha\" and \"Fit_Charlie\" (the residuals for the fitted magnetic data)."
   ]
  },
  {
   "cell_type": "code",
   "execution_count": null,
   "metadata": {},
   "outputs": [],
   "source": [
    "print(data[\"DSECS_output\"])"
   ]
  },
  {
   "cell_type": "markdown",
   "metadata": {},
   "source": [
    "## Plotting the outputs and fitted magnetic field \n",
    "\n",
    "### Simple line plots of the currents from the central latitudinal slice\n",
    "\n",
    "The outputs in the datatree are enumerated, for each analyzed equatorial crossing included inside the timestamps. (\"DSECS_output/0/currents\",\"DSECS_output/1/currents\" etc.) "
   ]
  },
  {
   "cell_type": "code",
   "execution_count": null,
   "metadata": {},
   "outputs": [],
   "source": [
    "print(data[\"DSECS_output/0/currents\"].coords)\n",
    "print(data[\"DSECS_output/0/currents\"].data_vars)"
   ]
  },
  {
   "cell_type": "code",
   "execution_count": null,
   "metadata": {},
   "outputs": [],
   "source": [
    "latitudes = data[\"DSECS_output/0/currents\"][\"Latitude\"][:, 3]\n",
    "fig, ax = plt.subplots(4, 1, figsize=(10, 20))\n",
    "lineE = ax[0].plot(\n",
    "    latitudes,\n",
    "    data[\"DSECS_output/0/currents\"][\"JEastTotal\"][:, 3],\n",
    "    \"r\",\n",
    "    label=\"Eastward\",\n",
    ")\n",
    "lineN = ax[0].plot(\n",
    "    latitudes,\n",
    "    data[\"DSECS_output/0/currents\"][\"JNorthTotal\"][:, 3],\n",
    "    \"k\",\n",
    "    label=\"Northward\",\n",
    ")\n",
    "ax[0].set_title(\"Total Current\")\n",
    "ax[0].set_ylabel(\"Current density (A/km)\")\n",
    "\n",
    "\n",
    "lineE = ax[1].plot(\n",
    "    latitudes, data[\"DSECS_output/0/currents\"][\"JEastCf\"][:, 3], \"r\", label=\"Eastward\"\n",
    ")\n",
    "lineN = ax[1].plot(\n",
    "    latitudes, data[\"DSECS_output/0/currents\"][\"JNorthCf\"][:, 3], \"k\", label=\"Northward\"\n",
    ")\n",
    "ax[1].set_title(\"Curl free current\")\n",
    "ax[1].set_ylabel(\"Current density (A/km)\")\n",
    "\n",
    "# ax[0].set_title('Total Current (DF + CF)')\n",
    "\n",
    "lineE = ax[2].plot(\n",
    "    latitudes, data[\"DSECS_output/0/currents\"][\"JEastDf\"][:, 3], \"r\", label=\"Eastward\"\n",
    ")\n",
    "lineN = ax[2].plot(\n",
    "    latitudes, data[\"DSECS_output/0/currents\"][\"JNorthDf\"][:, 3], \"k\", label=\"Northward\"\n",
    ")\n",
    "ax[2].set_title(\"Divergence free current\")\n",
    "ax[2].set_ylabel(\"Current density (A/km)\")\n",
    "\n",
    "liner = ax[3].plot(\n",
    "    latitudes,\n",
    "    data[\"DSECS_output/0/currents\"][\"Jr\"][:, 3],\n",
    "    \"r\",\n",
    "    label=\"Radial current density\",\n",
    ")\n",
    "ax[3].set_title(\"Radial current density\")\n",
    "ax[3].set_ylabel(\"Current density (nA/m^2)\")\n",
    "\n",
    "for axv in ax:\n",
    "    axv.set_xlabel(\"Latitude\", loc=\"left\")\n",
    "    axv.legend()"
   ]
  }
 ],
 "metadata": {
  "language_info": {
   "codemirror_mode": {
    "name": "ipython",
    "version": 3
   },
   "file_extension": ".py",
   "mimetype": "text/x-python",
   "name": "python",
   "nbconvert_exporter": "python",
   "pygments_lexer": "ipython3"
  },
  "vscode": {
   "interpreter": {
    "hash": "75048f8b19dc2376e8ce021c430fd300fc261773814cb02da2fef53030a6379a"
   }
  }
 },
 "nbformat": 4,
 "nbformat_minor": 4
}
