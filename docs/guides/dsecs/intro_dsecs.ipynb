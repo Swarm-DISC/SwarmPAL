{
 "cells": [
  {
   "cell_type": "markdown",
   "metadata": {},
   "source": [
    "# DSECS: Dipolar Spherical Elementary Current Systems (WIP)"
   ]
  },
  {
   "cell_type": "code",
   "execution_count": null,
   "metadata": {},
   "outputs": [],
   "source": [
    "import logging\n",
    "import datetime as dt\n",
    "from swarmpal.io import create_paldata, PalDataItem\n",
    "from swarmpal.toolboxes import dsecs\n",
    "import matplotlib.pyplot as plt"
   ]
  },
  {
   "cell_type": "code",
   "execution_count": null,
   "metadata": {},
   "outputs": [],
   "source": [
    "# Enable logging in notebook. Remove this line to disable.\n",
    "logging.basicConfig(level=logging.INFO, force=True)"
   ]
  },
  {
   "cell_type": "markdown",
   "metadata": {},
   "source": [
    "## Fetching inputs to the toolbox"
   ]
  },
  {
   "cell_type": "code",
   "execution_count": null,
   "metadata": {},
   "outputs": [],
   "source": [
    "def data_params(sc=\"A\"):\n",
    "    return dict(\n",
    "        collection=f\"SW_OPER_MAG{sc}_LR_1B\",\n",
    "        measurements=[\"B_NEC\"],\n",
    "        models=[\"Model = CHAOS\"],  # currently must use name \"Model\"\n",
    "        auxiliaries=[\"QDLat\"],\n",
    "        start_time=\"2016-03-18T11:00:00\",\n",
    "        end_time=\"2016-03-18T11:50:00\",\n",
    "        server_url=\"https://vires.services/ows\",\n",
    "        options=dict(asynchronous=False, show_progress=False),\n",
    "    )\n",
    "\n",
    "\n",
    "data = create_paldata(\n",
    "    PalDataItem.from_vires(**data_params(\"A\")),\n",
    "    PalDataItem.from_vires(**data_params(\"C\")),\n",
    ")\n",
    "\n",
    "print(data)"
   ]
  },
  {
   "cell_type": "markdown",
   "metadata": {},
   "source": [
    "## Applying the DSECS process"
   ]
  },
  {
   "cell_type": "code",
   "execution_count": null,
   "metadata": {},
   "outputs": [],
   "source": [
    "%%time\n",
    "process = dsecs.processes.DSECS_Process()\n",
    "process.set_config(\n",
    "    dataset_alpha=\"SW_OPER_MAGA_LR_1B\", dataset_charlie=\"SW_OPER_MAGC_LR_1B\"\n",
    ")\n",
    "data = process(data)"
   ]
  },
  {
   "cell_type": "code",
   "execution_count": null,
   "metadata": {},
   "outputs": [],
   "source": [
    "print(data)"
   ]
  },
  {
   "attachments": {},
   "cell_type": "markdown",
   "metadata": {},
   "source": [
    "## Plotting the outputs and fitted magnetic field \n",
    "\n",
    "### Simple line plots of the currents from the central latitudinal slice\n",
    "\n",
    "The outputs in the datatree are enumerated, for each analyzed equatorial crossing included inside the timestamps. (output_0,output_1 etc.) "
   ]
  },
  {
   "cell_type": "code",
   "execution_count": null,
   "metadata": {},
   "outputs": [],
   "source": [
    "print(data[\"output_0\"].coords)\n",
    "print(data[\"output_0\"].data_vars)"
   ]
  },
  {
   "cell_type": "code",
   "execution_count": null,
   "metadata": {},
   "outputs": [],
   "source": [
    "latitudes = data[\"output_0\"][\"Latitude\"][:, 3]\n",
    "fig, ax = plt.subplots(4, 1, figsize=(10, 20))\n",
    "lineE = ax[0].plot(\n",
    "    latitudes, data[\"output_0\"][\"JEastTotal\"][:, 3], \"r\", label=\"Eastward\"\n",
    ")\n",
    "lineN = ax[0].plot(\n",
    "    latitudes, data[\"output_0\"][\"JNorthTotal\"][:, 3], \"k\", label=\"Northward\"\n",
    ")\n",
    "ax[0].set_title(\"Total Current\")\n",
    "ax[0].set_ylabel(\"Current density (A/km)\")\n",
    "\n",
    "\n",
    "lineE = ax[1].plot(latitudes, data[\"output_0\"][\"JEastCf\"][:, 3], \"r\", label=\"Eastward\")\n",
    "lineN = ax[1].plot(\n",
    "    latitudes, data[\"output_0\"][\"JNorthCf\"][:, 3], \"k\", label=\"Northward\"\n",
    ")\n",
    "ax[1].set_title(\"Curl free current\")\n",
    "ax[1].set_ylabel(\"Current density (A/km)\")\n",
    "\n",
    "# ax[0].set_title('Total Current (DF + CF)')\n",
    "\n",
    "lineE = ax[2].plot(latitudes, data[\"output_0\"][\"JEastDf\"][:, 3], \"r\", label=\"Eastward\")\n",
    "lineN = ax[2].plot(\n",
    "    latitudes, data[\"output_0\"][\"JNorthDf\"][:, 3], \"k\", label=\"Northward\"\n",
    ")\n",
    "ax[2].set_title(\"Divergence free current\")\n",
    "ax[2].set_ylabel(\"Current density (A/km)\")\n",
    "\n",
    "liner = ax[3].plot(\n",
    "    latitudes, data[\"output_0\"][\"Jr\"][:, 3], \"r\", label=\"Radial current density\"\n",
    ")\n",
    "ax[3].set_title(\"Radial current density\")\n",
    "ax[3].set_ylabel(\"Current density (nA/m^2)\")\n",
    "\n",
    "for axv in ax:\n",
    "    axv.set_xlabel(\"Latitude\", loc=\"left\")\n",
    "    axv.legend()"
   ]
  }
 ],
 "metadata": {
  "language_info": {
   "codemirror_mode": {
    "name": "ipython",
    "version": 3
   },
   "file_extension": ".py",
   "mimetype": "text/x-python",
   "name": "python",
   "nbconvert_exporter": "python",
   "pygments_lexer": "ipython3"
  },
  "vscode": {
   "interpreter": {
    "hash": "75048f8b19dc2376e8ce021c430fd300fc261773814cb02da2fef53030a6379a"
   }
  }
 },
 "nbformat": 4,
 "nbformat_minor": 4
}
