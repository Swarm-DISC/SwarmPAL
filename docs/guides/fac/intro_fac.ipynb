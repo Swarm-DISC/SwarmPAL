{
 "cells": [
  {
   "cell_type": "markdown",
   "metadata": {},
   "source": [
    "# FAC: Field-aligned currents"
   ]
  },
  {
   "cell_type": "markdown",
   "metadata": {},
   "source": [
    "The FAC toolbox provides the ability to calculate FACs on-demand, given magnetic measurements and model predictions.\n",
    "\n",
    "Currently, the single-satellite algorithm is implemented and provides very similar output as the operational product [`SW_FACxTMS_2F`](https://swarmhandbook.earth.esa.int/catalogue/SW_FACxTMS_2F). The results are not identical because of differences in the processing chain (for example, using the POMME model instead of the CHAOS model to supply the background magnetic field, or \"mean field\")\n",
    "\n",
    "For a description of the method, see:  \n",
    "Ritter, P., Lühr, H. & Rauberg, J. Determining field-aligned currents with the Swarm constellation mission. Earth Planet Sp 65, 1285–1294 (2013). https://doi.org/10.5047/eps.2013.09.006\n",
    "\n",
    "For more sophisticated FAC estimates, see https://github.com/ablagau/SwarmFACE"
   ]
  },
  {
   "cell_type": "code",
   "execution_count": null,
   "metadata": {},
   "outputs": [],
   "source": [
    "import datetime as dt\n",
    "import numpy as np\n",
    "import matplotlib.pyplot as plt\n",
    "\n",
    "from swarmpal.io import create_paldata, PalDataItem\n",
    "from swarmpal.toolboxes import fac"
   ]
  },
  {
   "cell_type": "markdown",
   "metadata": {},
   "source": [
    "## Fetching data"
   ]
  },
  {
   "cell_type": "code",
   "execution_count": null,
   "metadata": {},
   "outputs": [],
   "source": [
    "data_params = dict(\n",
    "    collection=\"SW_OPER_MAGA_LR_1B\",\n",
    "    measurements=[\"B_NEC\"],\n",
    "    models=[\"CHAOS\"],\n",
    "    start_time=\"2016-01-01T00:00:00\",\n",
    "    end_time=\"2016-01-01T03:00:00\",\n",
    "    server_url=\"https://vires.services/ows\",\n",
    "    options=dict(asynchronous=False, show_progress=False),\n",
    ")\n",
    "\n",
    "data = create_paldata(PalDataItem.from_vires(**data_params))\n",
    "print(data)"
   ]
  },
  {
   "cell_type": "code",
   "execution_count": null,
   "metadata": {},
   "outputs": [],
   "source": [
    "data.swarmpal.pal_meta"
   ]
  },
  {
   "cell_type": "markdown",
   "metadata": {},
   "source": [
    "## Applying a process and viewing the results"
   ]
  },
  {
   "cell_type": "code",
   "execution_count": null,
   "metadata": {},
   "outputs": [],
   "source": [
    "process = fac.processes.FAC_singlesat(\n",
    "    config={\n",
    "        \"dataset\": \"SW_OPER_MAGA_LR_1B\",\n",
    "        \"model_varname\": \"B_NEC_CHAOS\",\n",
    "        \"measurement_varname\": \"B_NEC\",\n",
    "    },\n",
    ")\n",
    "data = data.swarmpal.apply(process)\n",
    "print(data)"
   ]
  },
  {
   "cell_type": "code",
   "execution_count": null,
   "metadata": {},
   "outputs": [],
   "source": [
    "data.swarmpal.pal_meta"
   ]
  },
  {
   "cell_type": "code",
   "execution_count": null,
   "metadata": {},
   "outputs": [],
   "source": [
    "print(data[\"SW_OPER_MAGA_LR_1B\"][\"PAL:FAC_output\"])"
   ]
  },
  {
   "cell_type": "code",
   "execution_count": null,
   "metadata": {},
   "outputs": [],
   "source": [
    "data.swarmpal_fac.quicklook();"
   ]
  },
  {
   "cell_type": "markdown",
   "metadata": {},
   "source": [
    "## Retrying with data subselection"
   ]
  },
  {
   "cell_type": "markdown",
   "metadata": {},
   "source": [
    "This time we will fetch data with a filter applied to the request from VirES\n",
    "\n",
    "See [viresclient.SwarmRequest.add_filter](https://viresclient.readthedocs.io/en/latest/api.html#viresclient.SwarmRequest.add_filter) for how these behave. `swarmpal.io.PalDataItem.from_vires` accepts a list of such filters.\n",
    "\n",
    "NB. there is currently a bug requiring that each filter string is enclosed in parentheses."
   ]
  },
  {
   "cell_type": "code",
   "execution_count": null,
   "metadata": {},
   "outputs": [],
   "source": [
    "data_params = dict(\n",
    "    collection=\"SW_OPER_MAGA_LR_1B\",\n",
    "    measurements=[\"B_NEC\"],\n",
    "    models=[\"CHAOS\"],\n",
    "    start_time=\"2016-01-01T00:00:00\",\n",
    "    end_time=\"2016-01-01T03:00:00\",\n",
    "    server_url=\"https://vires.services/ows\",\n",
    "    options=dict(asynchronous=False, show_progress=False),\n",
    "    filters=[\n",
    "        \"((QDLat > 50) OR (QDLat < -50))\",  # the algorithm is only valid at high latitude\n",
    "        \"(Flags_B <= 9)\",  # Exclude particularly bad data\n",
    "    ],\n",
    ")\n",
    "\n",
    "data = create_paldata(PalDataItem.from_vires(**data_params))\n",
    "data = data.swarmpal.apply(process)\n",
    "data.swarmpal_fac.quicklook();"
   ]
  },
  {
   "cell_type": "markdown",
   "metadata": {},
   "source": [
    "## Comparing with FAC product"
   ]
  },
  {
   "cell_type": "code",
   "execution_count": null,
   "metadata": {},
   "outputs": [],
   "source": [
    "# Fetch the input to the FAC process...\n",
    "data_params_fac_input = dict(\n",
    "    collection=\"SW_OPER_MAGA_LR_1B\",\n",
    "    measurements=[\"B_NEC\"],\n",
    "    models=[\"CHAOS\"],\n",
    "    start_time=\"2016-01-01T00:00:00\",\n",
    "    end_time=\"2016-01-01T03:00:00\",\n",
    "    server_url=\"https://vires.services/ows\",\n",
    "    options=dict(asynchronous=False, show_progress=False),\n",
    ")\n",
    "# ... and the FAC product itself\n",
    "data_params_fac_product = dict(\n",
    "    collection=\"SW_OPER_FACATMS_2F\",\n",
    "    measurements=[\"IRC\", \"FAC\"],\n",
    "    start_time=\"2016-01-01T00:00:00\",\n",
    "    end_time=\"2016-01-01T03:00:00\",\n",
    "    server_url=\"https://vires.services/ows\",\n",
    "    options=dict(asynchronous=False, show_progress=False),\n",
    ")\n",
    "data = create_paldata(\n",
    "    PalDataItem.from_vires(**data_params_fac_input),\n",
    "    PalDataItem.from_vires(**data_params_fac_product),\n",
    ")\n",
    "\n",
    "# Apply the FAC process\n",
    "process = fac.processes.FAC_singlesat(\n",
    "    config={\n",
    "        \"dataset\": \"SW_OPER_MAGA_LR_1B\",\n",
    "        \"model_varname\": \"B_NEC_CHAOS\",\n",
    "        \"measurement_varname\": \"B_NEC\",\n",
    "    },\n",
    ")\n",
    "data = data.swarmpal.apply(process)"
   ]
  },
  {
   "cell_type": "code",
   "execution_count": null,
   "metadata": {},
   "outputs": [],
   "source": [
    "# Plot comparing them\n",
    "fig, axes = plt.subplots(nrows=3, figsize=(15, 10), sharex=True)\n",
    "data[\"SW_OPER_MAGA_LR_1B\"][\"PAL:FAC_output\"][\"IRC\"].plot(ax=axes[0])\n",
    "data[\"SW_OPER_FACATMS_2F\"][\"IRC\"].plot(ax=axes[1])\n",
    "(\n",
    "    data[\"SW_OPER_MAGA_LR_1B\"][\"PAL:FAC_output\"][\"IRC\"]\n",
    "    - data[\"SW_OPER_FACATMS_2F\"][\"IRC\"]\n",
    ").plot(ax=axes[2])\n",
    "axes[0].set_ylabel(f\"SwarmPAL on-demand\\n{axes[0].get_ylabel()}\")\n",
    "axes[1].set_ylabel(f\"Official product\\n{axes[1].get_ylabel()}\")\n",
    "axes[2].set_ylabel(\"Difference between the above\")\n",
    "for ax in axes:\n",
    "    ax.grid()\n",
    "    ax.set_xlabel(\"\")"
   ]
  }
 ],
 "metadata": {
  "language_info": {
   "codemirror_mode": {
    "name": "ipython",
    "version": 3
   },
   "file_extension": ".py",
   "mimetype": "text/x-python",
   "name": "python",
   "nbconvert_exporter": "python",
   "pygments_lexer": "ipython3"
  }
 },
 "nbformat": 4,
 "nbformat_minor": 4
}
