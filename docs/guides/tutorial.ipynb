{
 "cells": [
  {
   "cell_type": "markdown",
   "metadata": {},
   "source": [
    "# Tutorial"
   ]
  },
  {
   "cell_type": "markdown",
   "metadata": {},
   "source": [
    "There are two main concepts to understand in SwarmPAL, *data* and *processes*. *Data* live within a [xarray DataTree](https://docs.xarray.dev/en/latest/user-guide/data-structures.html#datatree), and *processes* behave like functions (and are of type [`PalProcess`](#swarmpal.io.PalProcess)). *Processes* act on data to transform them by adding derived parameters into the data object.\n",
    "\n",
    "We logically separate a workflow into two steps:\n",
    "- *fetching data*: data are downloaded from VirES or any [HAPI server](https://hapi-server.org/)\n",
    "- *applying processes*: apply a \"PalProcess\" to your data to perform a given analysis routine"
   ]
  },
  {
   "cell_type": "markdown",
   "metadata": {},
   "source": [
    "## Fetching data\n",
    "\n",
    "Data are pulled in over the web and organised as a `DataTree`, which is done using [`create_paldata`](#swarmpal.io.create_paldata) and [`PalDataItem`](#swarmpal.io.PalDataItem):"
   ]
  },
  {
   "cell_type": "code",
   "execution_count": null,
   "metadata": {},
   "outputs": [],
   "source": [
    "from swarmpal.io import create_paldata, PalDataItem\n",
    "\n",
    "data = create_paldata(\n",
    "    PalDataItem.from_vires(\n",
    "        server_url=\"https://vires.services/ows\",\n",
    "        collection=\"SW_OPER_MAGA_LR_1B\",\n",
    "        measurements=[\"B_NEC\"],\n",
    "        start_time=\"2020-01-01T00:00:00\",\n",
    "        end_time=\"2020-01-01T03:00:00\",\n",
    "    ),\n",
    "    PalDataItem.from_vires(\n",
    "        server_url=\"https://vires.services/ows\",\n",
    "        collection=\"SW_OPER_MAGC_LR_1B\",\n",
    "        measurements=[\"B_NEC\"],\n",
    "        start_time=\"2020-01-01T00:00:00\",\n",
    "        end_time=\"2020-01-01T03:00:00\",\n",
    "    )\n",
    ")\n",
    "print(data)"
   ]
  },
  {
   "cell_type": "markdown",
   "metadata": {},
   "source": [
    "The DataTree is the top-level data structure within Xarray and allows organising any number of datasets in a hierarchical way (like a directory tree in a file system). In this example, the `data` variable is an instance of `DataTree` containing Swarm data grouped by collections (`SW_OPER_MAGA_LR_1B` and `SW_OPER_MAGC_LR_1B`). Each group independently contains dimensions, coordinates, data variables, and attributes that describe the data.\n",
    "\n",
    "When we use [`PalDataItem.from_vires`](#swarmpal.io.PalDataItem.from_vires), data are fetched from the [VirES service](https://vires.services/) (using the [`viresclient`](https://viresclient.readthedocs.io/) package underneath). Similarly, we can use [`PalDataItem.from_hapi`](#swarmpal.io.PalDataItem.from_hapi) to fetch data from any HAPI server (which uses [`hapiclient`](https://github.com/hapi-server/client-python) underneath).\n",
    "\n",
    "`create_paldata` and `PalDataItem` have a few features for flexible use:\n",
    "- Pass multiple items to `create_paldata` to assemble a complex datatree. Pass them as keyword arguments (e.g. `HAPI_SW_OPER_MAGA_LR_1B=...` below) if you want to manually change the name in the datatree, otherwise they will default to the collection/dataset name.\n",
    "- Use `.from_vires()` and `.from_hapi()` to fetch data from different services. Note that the argument names and usage are a bit different (though equivalent) in each case. These follow the nomenclature used in `viresclient` and `hapiclient` respectively.\n",
    "\n",
    "For example:\n",
    "\n",
    "```python\n",
    "data = create_paldata(\n",
    "    PalDataItem.from_vires(\n",
    "        server_url=\"https://vires.services/ows\",\n",
    "        collection=\"SW_OPER_MAGA_LR_1B\",\n",
    "        measurements=[\"B_NEC\"],\n",
    "        start_time=\"2020-01-01T00:00:00\",\n",
    "        end_time=\"2020-01-01T03:00:00\",\n",
    "    ),\n",
    "    HAPI_SW_OPER_MAGA_LR_1B=PalDataItem.from_hapi(\n",
    "        server=\"https://vires.services/hapi\",\n",
    "        dataset=\"SW_OPER_MAGA_LR_1B\",\n",
    "        parameters=\"Latitude,Longitude,Radius,B_NEC\",\n",
    "        start=\"2020-01-01T00:00:00\",\n",
    "        stop=\"2020-01-01T03:00:00\",\n",
    "    ),\n",
    ")\n",
    "```"
   ]
  },
  {
   "cell_type": "markdown",
   "metadata": {},
   "source": [
    "While you can learn more about using datatrees on the [xarray documentation](https://docs.xarray.dev/), this should not be necessary for basic usage of SwarmPAL. If you are familiar with xarray, you can access a dataset by browsing the datatree like a dictionary, then using either the `.ds` accessor to get an immutable view of the dataset, or `.to_dataset()` to extract a mutable copy."
   ]
  },
  {
   "cell_type": "code",
   "execution_count": null,
   "metadata": {},
   "outputs": [],
   "source": [
    "data[\"SW_OPER_MAGA_LR_1B\"].ds"
   ]
  },
  {
   "cell_type": "markdown",
   "metadata": {},
   "source": [
    "Using the VirES API, there are additional things that can be requested outwith the original dataset (models and auxiliaries). See [the viresclient documentation](https://viresclient.readthedocs.io/en/latest/available_parameters.html) for details, or [Swarm Notebooks](https://notebooks.vires.services/) for more examples. The extra `options` below specifies an extendable dictionary of special options which are passed to `viresclient`. In this case we specify `asynchronous=False` to process the request synchronously (faster, but will fail for longer requests), and disable the progress bars with `show_progress=False`."
   ]
  },
  {
   "cell_type": "code",
   "execution_count": null,
   "metadata": {},
   "outputs": [],
   "source": [
    "data = create_paldata(\n",
    "    PalDataItem.from_vires(\n",
    "        server_url=\"https://vires.services/ows\",\n",
    "        collection=\"SW_OPER_MAGA_LR_1B\",\n",
    "        measurements=[\"B_NEC\"],\n",
    "        models=[\"IGRF\"],\n",
    "        auxiliaries=[\"QDLat\", \"MLT\"],\n",
    "        start_time=\"2020-01-01T00:00:00\",\n",
    "        end_time=\"2020-01-01T03:00:00\",\n",
    "        options=dict(asynchronous=False, show_progress=False),\n",
    "    )\n",
    ")\n",
    "print(data)"
   ]
  },
  {
   "cell_type": "markdown",
   "metadata": {},
   "source": [
    "## Applying Processes"
   ]
  },
  {
   "cell_type": "markdown",
   "metadata": {},
   "source": [
    "A process is a special object type you can import from different toolboxes in SwarmPAL.\n",
    "\n",
    "First we import the relevant toolbox and create a process from the `.processes` submodule:"
   ]
  },
  {
   "cell_type": "code",
   "execution_count": null,
   "metadata": {},
   "outputs": [],
   "source": [
    "from swarmpal.toolboxes import fac\n",
    "\n",
    "process = fac.processes.FAC_single_sat()"
   ]
  },
  {
   "cell_type": "markdown",
   "metadata": {},
   "source": [
    "Each process has a `.set_config()` method which configures the behaviour of the process:"
   ]
  },
  {
   "cell_type": "code",
   "execution_count": null,
   "metadata": {},
   "outputs": [],
   "source": [
    "help(process.set_config)"
   ]
  },
  {
   "cell_type": "code",
   "execution_count": null,
   "metadata": {},
   "outputs": [],
   "source": [
    "process.set_config(\n",
    "    dataset=\"SW_OPER_MAGA_LR_1B\",\n",
    "    model_varname=\"B_NEC_IGRF\",\n",
    "    measurement_varname=\"B_NEC\",\n",
    ")"
   ]
  },
  {
   "cell_type": "markdown",
   "metadata": {},
   "source": [
    "Processes are *callable*, which means they can be used like functions. They act on datatrees to alter them. We can use this process on the the data we built above."
   ]
  },
  {
   "cell_type": "code",
   "execution_count": null,
   "metadata": {},
   "outputs": [],
   "source": [
    "data = process(data)\n",
    "print(data)"
   ]
  },
  {
   "cell_type": "markdown",
   "metadata": {},
   "source": [
    "The data has been modified, in this case adding a new group called `PAL_FAC_single_sat`. We can inspect it using the usual xarray/matplotlib tooling, for example:"
   ]
  },
  {
   "cell_type": "code",
   "execution_count": null,
   "metadata": {},
   "outputs": [],
   "source": [
    "data[\"PAL_FAC_single_sat\"][\"IRC\"].plot.line(x=\"Timestamp\")"
   ]
  },
  {
   "cell_type": "markdown",
   "metadata": {},
   "source": [
    "## Saving/loading data"
   ]
  },
  {
   "cell_type": "markdown",
   "metadata": {},
   "source": [
    "Since `data` is just a normal datatree, we can use the usual xarray tools to write and read files. Some situations this might be useful in are:\n",
    "- Saving preprocessed (i.e. interim) data, then later reloading it for further processing. One might download a whole series of data, then in a second, more iterative workflow, analyse it (without having to wait again for the download)\n",
    "- Saving the output of a process to use in other tools\n",
    "- Saving the output of a process to later reload just for visualisation"
   ]
  },
  {
   "cell_type": "code",
   "execution_count": null,
   "metadata": {},
   "outputs": [],
   "source": [
    "from os import remove\n",
    "from xarray import open_datatree\n",
    "\n",
    "# Save the file as NetCDF\n",
    "data.to_netcdf(\"testdata.nc\")\n",
    "# Load the data as a new datatree\n",
    "reloaded_data = open_datatree(\"testdata.nc\")\n",
    "# Remove that file we just made\n",
    "remove(\"testdata.nc\")\n",
    "print(reloaded_data)"
   ]
  },
  {
   "cell_type": "markdown",
   "metadata": {},
   "source": [
    "## The `.swarmpal` accessor"
   ]
  },
  {
   "cell_type": "markdown",
   "metadata": {},
   "source": [
    "Whenever you `import swarmpal`, this registers an *accessor* to datatrees, with extra tools available under `<datatree>.swarmpal.<...>`. One way in which this is used is to read metadata (stored within the datatree). Here we see that the `Preprocess` process from the `FAC` toolbox has saved the configuration which was used:"
   ]
  },
  {
   "cell_type": "code",
   "execution_count": null,
   "metadata": {},
   "outputs": [],
   "source": [
    "reloaded_data.swarmpal.pal_meta"
   ]
  },
  {
   "cell_type": "markdown",
   "metadata": {},
   "source": [
    "Since this is stored within the data itself, this is preserved over round trips through files so that a following process can see this information, even in a different session."
   ]
  }
 ],
 "metadata": {
  "language_info": {
   "codemirror_mode": {
    "name": "ipython",
    "version": 3
   },
   "file_extension": ".py",
   "mimetype": "text/x-python",
   "name": "python",
   "nbconvert_exporter": "python",
   "pygments_lexer": "ipython3"
  }
 },
 "nbformat": 4,
 "nbformat_minor": 4
}
