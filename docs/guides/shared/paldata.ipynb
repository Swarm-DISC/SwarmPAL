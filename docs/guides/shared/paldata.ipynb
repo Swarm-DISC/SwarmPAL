{
 "cells": [
  {
   "cell_type": "markdown",
   "metadata": {},
   "source": [
    "# PAL-flavoured Datatree"
   ]
  },
  {
   "cell_type": "markdown",
   "metadata": {},
   "source": [
    "The [xarray Datatree](https://xarray-datatree.readthedocs.io) is used as the core data structure for SwarmPAL. You can think of this like a file directory (a tree) which contains an arbitrary number of related xarray datasets. Data can be fetched from different resources (including VirES) and stored in a `Datatree`.\n",
    "\n",
    "`PalDataItem` provides tools to construct an `xarray.Dataset` from different sources (VirES, HAPI, etc). `create_paldata` helps to construct a `Datatree` from a set of those datasets."
   ]
  },
  {
   "cell_type": "code",
   "execution_count": null,
   "metadata": {},
   "outputs": [],
   "source": [
    "import datetime as dt"
   ]
  },
  {
   "cell_type": "markdown",
   "metadata": {},
   "source": [
    "## Fetching data"
   ]
  },
  {
   "cell_type": "code",
   "execution_count": null,
   "metadata": {},
   "outputs": [],
   "source": [
    "from swarmpal.io import create_paldata, PalDataItem"
   ]
  },
  {
   "cell_type": "markdown",
   "metadata": {},
   "source": [
    "### from VirES API"
   ]
  },
  {
   "cell_type": "code",
   "execution_count": null,
   "metadata": {},
   "outputs": [],
   "source": [
    "# Set of options which are passed to viresclient\n",
    "data_params = dict(\n",
    "    collection=\"SW_OPER_MAGA_LR_1B\",\n",
    "    measurements=[\"B_NEC\"],\n",
    "    models=[\"IGRF\"],\n",
    "    start_time=\"2016-01-01T00:00:00\",\n",
    "    end_time=\"2016-01-01T03:00:00\",\n",
    "    # start_time=dt.datetime(2016, 1, 1),  # Can use ISO string or datetime\n",
    "    # end_time=dt.datetime(2016, 1, 1, 3),\n",
    "    server_url=\"https://vires.services/ows\",\n",
    "    options=dict(asynchronous=False, show_progress=False),\n",
    ")\n",
    "# create_paldata takes an arbitrary number of args & kwargs\n",
    "# If using args, dataset names will be used as tree names\n",
    "# If using kwargs, user specifies the tree name/path\n",
    "data = create_paldata(PalDataItem.from_vires(**data_params))\n",
    "print(data)"
   ]
  },
  {
   "cell_type": "code",
   "execution_count": null,
   "metadata": {},
   "outputs": [],
   "source": [
    "# Interactive view of the datatree\n",
    "data"
   ]
  },
  {
   "cell_type": "code",
   "execution_count": null,
   "metadata": {},
   "outputs": [],
   "source": [
    "# Refer to a branch of the tree like:\n",
    "data[\"SW_OPER_MAGA_LR_1B\"]"
   ]
  },
  {
   "cell_type": "code",
   "execution_count": null,
   "metadata": {},
   "outputs": [],
   "source": [
    "# Note that the above is actually a Datatree object\n",
    "# To get a view of the Dataset:\n",
    "data[\"SW_OPER_MAGA_LR_1B\"].ds"
   ]
  },
  {
   "cell_type": "markdown",
   "metadata": {},
   "source": [
    "## `swarmpal` accessor"
   ]
  },
  {
   "cell_type": "markdown",
   "metadata": {},
   "source": [
    "The behaviour of the datatree is extended by the addition of an [\"accessor\"](https://docs.xarray.dev/en/stable/internals/extending-xarray.html) that adds functionality from SwarmPAL under the `.swarmpal` namespace, e.g.:"
   ]
  },
  {
   "cell_type": "code",
   "execution_count": null,
   "metadata": {},
   "outputs": [],
   "source": [
    "# Metadata related to the SwarmPAL framework\n",
    "data.swarmpal.pal_meta"
   ]
  },
  {
   "cell_type": "code",
   "execution_count": null,
   "metadata": {},
   "outputs": [],
   "source": [
    "data.swarmpal.magnetic_model_name"
   ]
  },
  {
   "cell_type": "markdown",
   "metadata": {},
   "source": [
    "The above properties are constructed from metadata which are stored within the datatree itself:"
   ]
  },
  {
   "cell_type": "code",
   "execution_count": null,
   "metadata": {},
   "outputs": [],
   "source": [
    "data[\"SW_OPER_MAGA_LR_1B\"].attrs[\"PAL_meta\"]"
   ]
  },
  {
   "cell_type": "markdown",
   "metadata": {},
   "source": [
    "It is possible to add more complex methods that work on the datasets:"
   ]
  },
  {
   "cell_type": "code",
   "execution_count": null,
   "metadata": {},
   "outputs": [],
   "source": [
    "data[\"SW_OPER_MAGA_LR_1B\"].swarmpal.magnetic_residual()"
   ]
  },
  {
   "cell_type": "markdown",
   "metadata": {},
   "source": [
    "## Defining and running a `PalProcess`"
   ]
  },
  {
   "cell_type": "markdown",
   "metadata": {},
   "source": [
    "A process can be defined which will act on datatrees obtained as above. Define processes by subclassing the abstract `PalProcess` class."
   ]
  },
  {
   "cell_type": "code",
   "execution_count": null,
   "metadata": {},
   "outputs": [],
   "source": [
    "from swarmpal.io import PalProcess"
   ]
  },
  {
   "cell_type": "code",
   "execution_count": null,
   "metadata": {},
   "outputs": [],
   "source": [
    "help(PalProcess)"
   ]
  },
  {
   "cell_type": "markdown",
   "metadata": {},
   "source": [
    "Here is an example of defining a process. Still subject to change!\n",
    "\n",
    "Three methods must be set:\n",
    "- `process_name` identifies the process, and is used to update the `\"PAL_meta\"` attribute in the datatree when the process is applied.\n",
    "- `set_config` takes keyword arguments and stores them as a dict in the `config` property.\n",
    "- `_call` defines the behaviour of the process itself, and should accept the input datatree and return a modified datatree\n",
    "\n",
    "When a process object is instantiated, the user optionally provides two arguments which are set as properties of the process\n",
    "- `active_tree (str)` selects which branch of the tree is to be used\n",
    "- `config (dict)` provides parameters to control the behaviour of the process\n",
    "\n",
    "The config can also be provided using `.set_config()` after the process object is created. This enables the process to provide and document default configurations, as well allowing the IDE to provide hints for what configuration is available."
   ]
  },
  {
   "cell_type": "code",
   "execution_count": null,
   "metadata": {},
   "outputs": [],
   "source": [
    "from datatree import DataTree\n",
    "from xarray import Dataset\n",
    "\n",
    "\n",
    "class MyProcess(PalProcess):\n",
    "    \"\"\"Compute the first differences on a given variable\"\"\"\n",
    "\n",
    "    @property\n",
    "    def process_name(self):\n",
    "        return \"MyProcess\"\n",
    "\n",
    "    def set_config(self, dataset=\"SW_OPER_MAGA_LR_1B\", parameter=\"B_NEC\"):\n",
    "        self.config = dict(dataset=dataset, parameter=parameter)\n",
    "\n",
    "    def _call(self, datatree):\n",
    "        # Identify inputs for algorithm\n",
    "        subtree = datatree[f\"{self.config.get('dataset')}\"]\n",
    "        dataset = subtree.ds\n",
    "        parameter = self.config.get(\"parameter\")\n",
    "        # Apply the algorithm\n",
    "        output_data = dataset[parameter].diff(dim=\"Timestamp\")\n",
    "        # Create an output dataset\n",
    "        data_out = Dataset(\n",
    "            data_vars={\n",
    "                f\"d/dt ({parameter})\": output_data,\n",
    "            }\n",
    "        )\n",
    "        # Write the output into a new path in the datatree and return it\n",
    "        subtree[\"output\"] = DataTree(data=data_out)\n",
    "        return datatree"
   ]
  },
  {
   "cell_type": "markdown",
   "metadata": {},
   "source": [
    "The process can now be created with some configuration:"
   ]
  },
  {
   "cell_type": "code",
   "execution_count": null,
   "metadata": {},
   "outputs": [],
   "source": [
    "process = MyProcess(\n",
    "    config={\"dataset\": \"SW_OPER_MAGA_LR_1B\", \"parameter\": \"B_NEC\"},\n",
    ")"
   ]
  },
  {
   "cell_type": "markdown",
   "metadata": {},
   "source": [
    "...and there is a tool to apply this process to the datatree:"
   ]
  },
  {
   "cell_type": "code",
   "execution_count": null,
   "metadata": {},
   "outputs": [],
   "source": [
    "data = data.swarmpal.apply(process)\n",
    "print(data)"
   ]
  },
  {
   "cell_type": "markdown",
   "metadata": {},
   "source": [
    "The resulting data can be interrogated with the usual tools (in this case we added a new dataset to the tree under `\"SW_OPER_MAGA_LR_1B/output\"`):"
   ]
  },
  {
   "cell_type": "code",
   "execution_count": null,
   "metadata": {},
   "outputs": [],
   "source": [
    "data[\"SW_OPER_MAGA_LR_1B/output\"].ds[\"d/dt (B_NEC)\"].plot.line(x=\"Timestamp\");"
   ]
  },
  {
   "cell_type": "markdown",
   "metadata": {},
   "source": [
    "... and the datatree carries with it the metadata about the process which has been applied:"
   ]
  },
  {
   "cell_type": "code",
   "execution_count": null,
   "metadata": {},
   "outputs": [],
   "source": [
    "data.swarmpal.pal_meta"
   ]
  },
  {
   "cell_type": "markdown",
   "metadata": {},
   "source": [
    "## More tricks with `create_paldata`"
   ]
  },
  {
   "cell_type": "markdown",
   "metadata": {},
   "source": [
    "### Fetching data from HAPI"
   ]
  },
  {
   "cell_type": "markdown",
   "metadata": {},
   "source": [
    "Two differences from using VirES:\n",
    "- Parameters follow the scheme in `hapiclient`  \n",
    "  Example: http://hapi-server.org/servers/#server=VirES-for-Swarm&dataset=SW_OPER_MAGA_LR_1B&parameters=B_NEC&start=2016-01-01T00:00:00&stop=2016-01-01T03:00:00&return=script&format=python\n",
    "- The output dataset is not identical to that retrieved from VirES (variables and their content are the same, but less metadata etc)"
   ]
  },
  {
   "cell_type": "code",
   "execution_count": null,
   "metadata": {},
   "outputs": [],
   "source": [
    "data_params = dict(\n",
    "    server=\"https://vires.services/hapi\",\n",
    "    dataset=\"SW_OPER_MAGA_LR_1B\",\n",
    "    parameters=\"B_NEC\",\n",
    "    start=\"2016-01-01T00:00:00\",\n",
    "    stop=\"2016-01-01T03:00:00\",\n",
    ")\n",
    "data_hapi = create_paldata(alpha_hapi=PalDataItem.from_hapi(**data_params))\n",
    "print(data_hapi)"
   ]
  },
  {
   "cell_type": "markdown",
   "metadata": {},
   "source": [
    "### Time padding"
   ]
  },
  {
   "cell_type": "markdown",
   "metadata": {},
   "source": [
    "A tuple of `timedelta` can be given as an extra parameter. This extends the retrieved time interval, while storing the original time interval in `\"analysis_window\"` within the `\"Pal_meta\"` attribute."
   ]
  },
  {
   "cell_type": "code",
   "execution_count": null,
   "metadata": {},
   "outputs": [],
   "source": [
    "data_params = dict(\n",
    "    server=\"https://vires.services/hapi\",\n",
    "    dataset=\"SW_OPER_MAGA_LR_1B\",\n",
    "    parameters=\"B_NEC\",\n",
    "    start=\"2016-01-01T00:00:00\",\n",
    "    stop=\"2016-01-01T03:00:00\",\n",
    "    pad_times=(dt.timedelta(hours=1), dt.timedelta(hours=1)),\n",
    ")\n",
    "data_hapi = create_paldata(alpha_hapi=PalDataItem.from_hapi(**data_params))\n",
    "print(data_hapi)"
   ]
  }
 ],
 "metadata": {
  "language_info": {
   "codemirror_mode": {
    "name": "ipython",
    "version": 3
   },
   "file_extension": ".py",
   "mimetype": "text/x-python",
   "name": "python",
   "nbconvert_exporter": "python",
   "pygments_lexer": "ipython3"
  },
  "vscode": {
   "interpreter": {
    "hash": "75048f8b19dc2376e8ce021c430fd300fc261773814cb02da2fef53030a6379a"
   }
  }
 },
 "nbformat": 4,
 "nbformat_minor": 4
}
