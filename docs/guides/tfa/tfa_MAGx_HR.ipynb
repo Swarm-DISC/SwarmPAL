{
 "cells": [
  {
   "cell_type": "markdown",
   "id": "0",
   "metadata": {
    "tags": []
   },
   "source": [
    "# Analysis of Swarm MAG HR data (50Hz)"
   ]
  },
  {
   "cell_type": "markdown",
   "id": "1",
   "metadata": {},
   "source": [
    "For more information about the data and other ways to access it, see:\n",
    "\n",
    "- [Data handbook](https://swarmhandbook.earth.esa.int/catalogue/SW_MAGx_HR_1B)\n",
    "- [viresclient documentation](https://viresclient.readthedocs.io/en/latest/available_parameters.html)\n",
    "- [MAGx_HR demo notebook](https://notebooks.vires.services/notebooks/03a2_demo-magx_hr_1b)"
   ]
  },
  {
   "cell_type": "code",
   "execution_count": null,
   "id": "2",
   "metadata": {},
   "outputs": [],
   "source": [
    "from __future__ import annotations\n",
    "\n",
    "import datetime as dt\n",
    "\n",
    "import matplotlib.pyplot as plt\n",
    "import numpy as np\n",
    "\n",
    "from swarmpal.io import PalDataItem, create_paldata\n",
    "from swarmpal.toolboxes import tfa"
   ]
  },
  {
   "cell_type": "markdown",
   "id": "3",
   "metadata": {},
   "source": [
    "## Fetching data"
   ]
  },
  {
   "cell_type": "markdown",
   "id": "4",
   "metadata": {},
   "source": [
    "Fetching data is much the same as before, switching \"LR\" for \"HR\". Note that the data volume is 50 times larger so processing will take longer! It's also appropriate to use a shorter time padding."
   ]
  },
  {
   "cell_type": "code",
   "execution_count": null,
   "id": "5",
   "metadata": {},
   "outputs": [],
   "source": [
    "data_params = dict(\n",
    "    collection=\"SW_OPER_MAGB_HR_1B\",\n",
    "    measurements=[\"B_NEC\"],\n",
    "    models=[\"Model=CHAOS\"],\n",
    "    auxiliaries=[\"QDLat\", \"MLT\"],\n",
    "    start_time=dt.datetime(2015, 3, 14, 12, 5, 0),\n",
    "    end_time=dt.datetime(2015, 3, 14, 12, 30, 0),\n",
    "    pad_times=(dt.timedelta(minutes=10), dt.timedelta(minutes=10)),\n",
    "    server_url=\"https://vires.services/ows\",\n",
    "    options=dict(asynchronous=False, show_progress=False),\n",
    ")\n",
    "data = create_paldata(PalDataItem.from_vires(**data_params))"
   ]
  },
  {
   "cell_type": "markdown",
   "id": "6",
   "metadata": {},
   "source": [
    "## Processing"
   ]
  },
  {
   "cell_type": "markdown",
   "id": "7",
   "metadata": {},
   "source": [
    "Here we need to identify the different sampling rate `sampling_rate=50`, and we will also choose to instead use the vector magnitude rather than a single component (`use_magnitude=True`)."
   ]
  },
  {
   "cell_type": "code",
   "execution_count": null,
   "id": "8",
   "metadata": {},
   "outputs": [],
   "source": [
    "p1 = tfa.processes.Preprocess()\n",
    "p1.set_config(\n",
    "    dataset=\"SW_OPER_MAGB_HR_1B\",\n",
    "    active_variable=\"B_NEC_res_Model\",\n",
    "    sampling_rate=50,\n",
    "    remove_model=True,\n",
    "    use_magnitude=True,\n",
    ")\n",
    "p2 = tfa.processes.Clean()\n",
    "p2.set_config(\n",
    "    window_size=300,\n",
    "    method=\"iqr\",\n",
    "    multiplier=1,\n",
    ")\n",
    "p3 = tfa.processes.Filter()\n",
    "p3.set_config(\n",
    "    cutoff_frequency=0.1,\n",
    ")\n",
    "p4 = tfa.processes.Wavelet()\n",
    "p4.set_config(\n",
    "    min_frequency=1,\n",
    "    max_frequency=25,\n",
    "    dj=0.1,\n",
    ")"
   ]
  },
  {
   "cell_type": "code",
   "execution_count": null,
   "id": "9",
   "metadata": {},
   "outputs": [],
   "source": [
    "p1(data)\n",
    "p2(data)\n",
    "p3(data)\n",
    "p4(data);"
   ]
  },
  {
   "cell_type": "markdown",
   "id": "10",
   "metadata": {},
   "source": [
    "## Plotting"
   ]
  },
  {
   "cell_type": "markdown",
   "id": "11",
   "metadata": {},
   "source": [
    "A couple of other tricks with the plotting function:\n",
    "- Create a figure directly with matplotlib then pass an `Axes` object with `ax=ax` to the function to direct the plot onto that figure\n",
    "- Customise the range and number of levels used in the spectrum colour bar"
   ]
  },
  {
   "cell_type": "code",
   "execution_count": null,
   "id": "12",
   "metadata": {},
   "outputs": [],
   "source": [
    "fig, ax = plt.subplots(1, 1, figsize=(15, 5))\n",
    "tfa.plotting.spectrum(data, levels=np.linspace(-6, -3, 20), ax=ax)"
   ]
  }
 ],
 "metadata": {
  "language_info": {
   "codemirror_mode": {
    "name": "ipython",
    "version": 3
   },
   "file_extension": ".py",
   "mimetype": "text/x-python",
   "name": "python",
   "nbconvert_exporter": "python",
   "pygments_lexer": "ipython3"
  }
 },
 "nbformat": 4,
 "nbformat_minor": 5
}
