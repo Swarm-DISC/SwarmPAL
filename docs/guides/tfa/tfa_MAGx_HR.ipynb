{
 "cells": [
  {
   "cell_type": "markdown",
   "id": "3a4f6b0d-c2f1-4123-8f40-6cf61588e4d2",
   "metadata": {
    "tags": []
   },
   "source": [
    "# Analysis of Swarm MAG HR data (50Hz)"
   ]
  },
  {
   "cell_type": "markdown",
   "id": "86de11d1-0750-41db-9069-7e3b7c29f177",
   "metadata": {},
   "source": [
    "For more information about the data and other ways to access it, see:\n",
    "\n",
    "- [Data handbook](https://swarmhandbook.earth.esa.int/catalogue/SW_MAGx_HR_1B)\n",
    "- [viresclient documentation](https://viresclient.readthedocs.io/en/latest/available_parameters.html)\n",
    "- [MAGx_HR demo notebook](https://notebooks.vires.services/notebooks/03a2_demo-magx_hr_1b)"
   ]
  },
  {
   "cell_type": "code",
   "execution_count": null,
   "id": "5f8c8b61-3d88-486b-a993-b5944c84e50f",
   "metadata": {},
   "outputs": [],
   "source": [
    "import datetime as dt\n",
    "import matplotlib.pyplot as plt\n",
    "import numpy as np\n",
    "\n",
    "from swarmpal.io import create_paldata, PalDataItem\n",
    "from swarmpal.toolboxes import tfa"
   ]
  },
  {
   "cell_type": "markdown",
   "id": "ee5d1261-057a-42be-8bd6-aa320c8cc53a",
   "metadata": {},
   "source": [
    "## Fetching data"
   ]
  },
  {
   "cell_type": "markdown",
   "id": "f599465b-753e-4f0d-8f72-1ff29423ac8e",
   "metadata": {},
   "source": [
    "Fetching data is much the same as before, switching \"LR\" for \"HR\". Note that the data volume is 50 times larger so processing will take longer! It's also appropriate to use a shorter time padding."
   ]
  },
  {
   "cell_type": "code",
   "execution_count": null,
   "id": "32b9127b-3660-4879-807f-d9b82ad128db",
   "metadata": {},
   "outputs": [],
   "source": [
    "data_params = dict(\n",
    "    collection=\"SW_OPER_MAGB_HR_1B\",\n",
    "    measurements=[\"B_NEC\"],\n",
    "    models=[\"Model=CHAOS\"],\n",
    "    auxiliaries=[\"QDLat\", \"MLT\"],\n",
    "    start_time=dt.datetime(2015, 3, 14, 12, 5, 0),\n",
    "    end_time=dt.datetime(2015, 3, 14, 12, 30, 0),\n",
    "    pad_times=(dt.timedelta(minutes=10), dt.timedelta(minutes=10)),\n",
    "    server_url=\"https://vires.services/ows\",\n",
    "    options=dict(asynchronous=False, show_progress=False),\n",
    ")\n",
    "data = create_paldata(PalDataItem.from_vires(**data_params))"
   ]
  },
  {
   "cell_type": "markdown",
   "id": "f8d41967-0fa0-469d-a317-80d6bbe6331f",
   "metadata": {},
   "source": [
    "## Processing"
   ]
  },
  {
   "cell_type": "markdown",
   "id": "8942d6c1-416a-40c3-a9ed-ff9d4fc9817c",
   "metadata": {},
   "source": [
    "Here we need to identify the different sampling rate `sampling_rate=50`, and we will also choose to instead use the vector magnitude rather than a single component (`use_magnitude=True`)."
   ]
  },
  {
   "cell_type": "code",
   "execution_count": null,
   "id": "c7b703cc-2708-4677-99a1-1014740aaf0c",
   "metadata": {},
   "outputs": [],
   "source": [
    "p1 = tfa.processes.Preprocess()\n",
    "p1.set_config(\n",
    "    dataset=\"SW_OPER_MAGB_HR_1B\",\n",
    "    active_variable=\"B_NEC_res_Model\",\n",
    "    sampling_rate=50,\n",
    "    remove_model=True,\n",
    "    use_magnitude=True,\n",
    ")\n",
    "p2 = tfa.processes.Clean()\n",
    "p2.set_config(\n",
    "    window_size=300,\n",
    "    method=\"iqr\",\n",
    "    multiplier=1,\n",
    ")\n",
    "p3 = tfa.processes.Filter()\n",
    "p3.set_config(\n",
    "    cutoff_frequency=0.1,\n",
    ")\n",
    "p4 = tfa.processes.Wavelet()\n",
    "p4.set_config(\n",
    "    min_frequency=1,\n",
    "    max_frequency=25,\n",
    "    dj=0.1,\n",
    ")"
   ]
  },
  {
   "cell_type": "code",
   "execution_count": null,
   "id": "d076d20c-7772-4798-9df7-62e0d26353a2",
   "metadata": {},
   "outputs": [],
   "source": [
    "p1(data)\n",
    "p2(data)\n",
    "p3(data)\n",
    "p4(data);"
   ]
  },
  {
   "cell_type": "markdown",
   "id": "da3d6c0f-55e7-4d16-a307-da5d6dc9ae18",
   "metadata": {},
   "source": [
    "## Plotting"
   ]
  },
  {
   "cell_type": "markdown",
   "id": "6579d336-04f8-4027-912a-a786617bd5b3",
   "metadata": {},
   "source": [
    "A couple of other tricks with the plotting function:\n",
    "- Create a figure directly with matplotlib then pass an `Axes` object with `ax=ax` to the function to direct the plot onto that figure\n",
    "- Customise the range and number of levels used in the spectrum colour bar"
   ]
  },
  {
   "cell_type": "code",
   "execution_count": null,
   "id": "497325a6-9c6e-4e60-8239-4d2785eed8c3",
   "metadata": {},
   "outputs": [],
   "source": [
    "fig, ax = plt.subplots(1, 1, figsize=(15, 5))\n",
    "tfa.plotting.spectrum(data, levels=np.linspace(-6, -3, 20), ax=ax)"
   ]
  }
 ],
 "metadata": {
  "language_info": {
   "codemirror_mode": {
    "name": "ipython",
    "version": 3
   },
   "file_extension": ".py",
   "mimetype": "text/x-python",
   "name": "python",
   "nbconvert_exporter": "python",
   "pygments_lexer": "ipython3"
  }
 },
 "nbformat": 4,
 "nbformat_minor": 5
}
