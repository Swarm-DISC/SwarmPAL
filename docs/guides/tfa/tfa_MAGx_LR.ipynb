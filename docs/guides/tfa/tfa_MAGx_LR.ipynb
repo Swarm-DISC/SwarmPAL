{
 "cells": [
  {
   "cell_type": "markdown",
   "id": "68c253c7-1b1c-48d3-82eb-cedf959c7a6d",
   "metadata": {},
   "source": [
    "# Analysis of Swarm MAG LR data (1Hz)\n",
    "\n",
    "For more information about the data and other ways to access it, see:\n",
    "\n",
    "- [Data handbook](https://swarmhandbook.earth.esa.int/catalogue/SW_MAGx_LR_1B)\n",
    "- [viresclient documentation](https://viresclient.readthedocs.io/en/latest/available_parameters.html)\n",
    "- [MAGx_LR demo notebook](https://notebooks.vires.services/notebooks/03a1_demo-magx_lr_1b)"
   ]
  },
  {
   "cell_type": "code",
   "execution_count": null,
   "id": "92f4673e-491d-4c59-b376-e86a254d2fd9",
   "metadata": {},
   "outputs": [],
   "source": [
    "import datetime as dt\n",
    "import matplotlib.pyplot as plt\n",
    "\n",
    "from swarmpal.io import create_paldata, PalDataItem\n",
    "from swarmpal.toolboxes import tfa"
   ]
  },
  {
   "cell_type": "markdown",
   "id": "a90ecd00-48ed-4dbd-9b23-931ba654fc27",
   "metadata": {},
   "source": [
    "## Fetching data"
   ]
  },
  {
   "cell_type": "markdown",
   "id": "f8b55f7c-06e3-43be-86b2-c61d5c4ea6e6",
   "metadata": {},
   "source": [
    "As in the introduction example, we will fetch the MAG LR data."
   ]
  },
  {
   "cell_type": "code",
   "execution_count": null,
   "id": "44ea9d02-db7f-4a54-b22c-16fd708ef70a",
   "metadata": {},
   "outputs": [],
   "source": [
    "data = create_paldata(\n",
    "    PalDataItem.from_vires(\n",
    "        collection=\"SW_OPER_MAGA_LR_1B\",\n",
    "        measurements=[\"B_NEC\"],\n",
    "        models=[\"Model=CHAOS\"],\n",
    "        auxiliaries=[\"QDLat\", \"MLT\"],\n",
    "        start_time=dt.datetime(2015, 3, 14),\n",
    "        end_time=dt.datetime(2015, 3, 14, 3, 59, 59),\n",
    "        pad_times=(dt.timedelta(hours=3), dt.timedelta(hours=3)),\n",
    "        server_url=\"https://vires.services/ows\",\n",
    "        options=dict(asynchronous=False, show_progress=False),\n",
    "    )\n",
    ")\n",
    "print(data)"
   ]
  },
  {
   "cell_type": "markdown",
   "id": "bece3525-5191-4c2f-afa4-78cb9bcac85d",
   "metadata": {},
   "source": [
    "## Processing"
   ]
  },
  {
   "cell_type": "markdown",
   "id": "6295e255-87e9-4914-98e0-3b9067ea1db9",
   "metadata": {},
   "source": [
    "This time we will use the `convert_to_mfa` option to rotate the B_NEC vector to the mean-field aligned (MFA) frame. When the MFA frame is used, the `active_component` must be set to one of (0, 1, 2): 0 is the poloidal component, 1 the toroidal and 2 the compressional. Similarly for B_NEC, the numbers correspond to the North (0), East (1) or Center (2) components."
   ]
  },
  {
   "cell_type": "code",
   "execution_count": null,
   "id": "e74fe86b-ab51-4160-860a-fff44fd17f6e",
   "metadata": {},
   "outputs": [],
   "source": [
    "p1 = tfa.processes.Preprocess()\n",
    "p1.set_config(\n",
    "    dataset=\"SW_OPER_MAGA_LR_1B\",\n",
    "    active_variable=\"B_MFA\",\n",
    "    active_component=2,\n",
    "    sampling_rate=1,\n",
    "    remove_model=True,\n",
    "    convert_to_mfa=True,\n",
    ")\n",
    "p1(data);"
   ]
  },
  {
   "cell_type": "markdown",
   "id": "89c48259-d5b4-425e-8614-939da0622dfb",
   "metadata": {},
   "source": [
    "Even though `B_MFA` isn't available in the original data, this variable becomes available when we select `convert_to_mfa=True`. For more information on the other options, refer to the documentation:"
   ]
  },
  {
   "cell_type": "code",
   "execution_count": null,
   "id": "8d65aa75-d058-419c-94bf-0b017b72b219",
   "metadata": {},
   "outputs": [],
   "source": [
    "help(tfa.processes.Preprocess.set_config)"
   ]
  },
  {
   "cell_type": "markdown",
   "id": "f0e2d565-ab59-4618-a88e-64938a65e6b0",
   "metadata": {},
   "source": [
    "We can inspect the data directly to get an idea about what has happened using `Preprocess`.\n",
    "\n",
    "In the figure below, the input `B_NEC` (first row) and `B_NEC_Model` have been taken to produce `B_NEC_res_Model` (second row), and then that has been rotated to the MFA frame (third row). Component \"2\" is identified from B_MFA and used as the TFA variable (`active_component=2` in the above config)."
   ]
  },
  {
   "cell_type": "code",
   "execution_count": null,
   "id": "c383e483-2ff0-438a-b485-4403b6f12639",
   "metadata": {},
   "outputs": [],
   "source": [
    "fig, axes = plt.subplots(3, 1, sharex=True)\n",
    "data[\"SW_OPER_MAGA_LR_1B\"][\"B_NEC\"].plot.line(x=\"Timestamp\", ax=axes[0])\n",
    "data[\"SW_OPER_MAGA_LR_1B\"][\"B_NEC_res_Model\"].plot.line(x=\"Timestamp\", ax=axes[1])\n",
    "data[\"SW_OPER_MAGA_LR_1B\"][\"B_MFA\"].plot.line(x=\"Timestamp\", ax=axes[2])\n",
    "axes[1].set_ylim(-200, 200)\n",
    "axes[2].set_ylim(-200, 200);"
   ]
  },
  {
   "cell_type": "markdown",
   "id": "0944c3d2-d8f5-4cc5-9c35-e9cc1abe5185",
   "metadata": {},
   "source": [
    "Let's prepare the other processes..."
   ]
  },
  {
   "cell_type": "code",
   "execution_count": null,
   "id": "5c1e2a51-a17d-48e6-a988-519b9d9a70d4",
   "metadata": {},
   "outputs": [],
   "source": [
    "p2 = tfa.processes.Clean()\n",
    "p2.set_config(\n",
    "    window_size=300,\n",
    "    method=\"iqr\",\n",
    "    multiplier=1,\n",
    ")\n",
    "p3 = tfa.processes.Filter()\n",
    "p3.set_config(\n",
    "    cutoff_frequency=20 / 1000,\n",
    ")\n",
    "p4 = tfa.processes.Wavelet()\n",
    "p4.set_config(\n",
    "    min_frequency=20 / 1000,\n",
    "    max_frequency=100 / 1000,\n",
    "    dj=0.1,\n",
    ")"
   ]
  },
  {
   "cell_type": "markdown",
   "id": "949003be-c283-4cfe-9701-3b0f1e04b551",
   "metadata": {},
   "source": [
    "In practice, you might want to prepare and apply each process in turn to make sure things work right. Here however, we will just apply them all together. Make sure you apply them in the right order!"
   ]
  },
  {
   "cell_type": "code",
   "execution_count": null,
   "id": "0c518412-513f-4fab-a065-b77347a65609",
   "metadata": {},
   "outputs": [],
   "source": [
    "p2(data)\n",
    "p3(data)\n",
    "p4(data);"
   ]
  },
  {
   "cell_type": "markdown",
   "id": "768468ae-2beb-4fe1-aec2-25b3190372f7",
   "metadata": {},
   "source": [
    "## Plotting"
   ]
  },
  {
   "cell_type": "code",
   "execution_count": null,
   "id": "0fde2ec2-4366-43de-b8ad-7514754434b5",
   "metadata": {},
   "outputs": [],
   "source": [
    "tfa.plotting.quicklook(data);"
   ]
  }
 ],
 "metadata": {
  "language_info": {
   "codemirror_mode": {
    "name": "ipython",
    "version": 3
   },
   "file_extension": ".py",
   "mimetype": "text/x-python",
   "name": "python",
   "nbconvert_exporter": "python",
   "pygments_lexer": "ipython3"
  }
 },
 "nbformat": 4,
 "nbformat_minor": 5
}
