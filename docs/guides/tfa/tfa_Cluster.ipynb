{
 "cells": [
  {
   "cell_type": "markdown",
   "id": "0",
   "metadata": {},
   "source": [
    "# Analysis of Cluster data"
   ]
  },
  {
   "cell_type": "markdown",
   "id": "1",
   "metadata": {},
   "source": [
    "In this example we will access Cluster data via a HAPI server (not from VirES)\n",
    "\n",
    "For more information about HAPI, see <http://hapi-server.org/>"
   ]
  },
  {
   "cell_type": "code",
   "execution_count": null,
   "id": "2",
   "metadata": {},
   "outputs": [],
   "source": [
    "from __future__ import annotations\n",
    "\n",
    "import datetime as dt\n",
    "\n",
    "from swarmpal.io import PalDataItem, create_paldata\n",
    "from swarmpal.toolboxes import tfa"
   ]
  },
  {
   "cell_type": "markdown",
   "id": "3",
   "metadata": {},
   "source": [
    "## Fetching data"
   ]
  },
  {
   "cell_type": "markdown",
   "id": "4",
   "metadata": {},
   "source": [
    "We can access HAPI data in an almost identical way as from VirES, instead using `PalDataItem.from_hapi`.\n",
    "\n",
    "Here we will use the AMDA service to get the data. This might change in the future.\n",
    "\n",
    "Available HAPI data can be browsed at <http://hapi-server.org/servers>, to quickly look at the data or to generate code snippets using the Python `hapiclient` package - the inputs to hapiclient can be used in `PalDataItem.from_hapi` (hapiclient is used underneath within SwarmPAL). For example:\n",
    "- <http://hapi-server.org/servers/#server=AMDA&dataset=clust3-fgm-prp&parameters=c3_b_gse&start=2015-03-29T17:00:00&stop=2015-03-29T19:00:00&return=script&format=python>\n",
    "- <http://hapi-server.org/servers/#server=CDAWeb&dataset=C3_CP_FGM_SPIN&parameters=B_vec_xyz_gse__C3_CP_FGM_SPIN&start=2015-03-29T17:00:00&stop=2015-03-29T19:00:00&return=script&format=python>\n",
    "- <https://hapi-server.org/servers/#server=CSA&dataset=C3_CP_FGM_SPIN&parameters=B_vec_xyz_gse&start=2015-03-29T17:00:00&stop=2015-03-29T19:00:00&return=script&format=python>"
   ]
  },
  {
   "cell_type": "code",
   "execution_count": null,
   "id": "5",
   "metadata": {},
   "outputs": [],
   "source": [
    "data_params = dict(\n",
    "    server=\"https://csatools.esac.esa.int/HapiServer/hapi\",\n",
    "    dataset=\"C3_CP_FGM_SPIN\",\n",
    "    parameters=\"B_vec_xyz_gse\",\n",
    "    start=\"2015-03-29T17:00:00\",\n",
    "    stop=\"2015-03-29T19:00:00\",\n",
    "    pad_times=(dt.timedelta(hours=3), dt.timedelta(hours=3)),\n",
    ")\n",
    "data = create_paldata(PalDataItem.from_hapi(**data_params))\n",
    "print(data)"
   ]
  },
  {
   "cell_type": "markdown",
   "id": "6",
   "metadata": {},
   "source": [
    "## Processing"
   ]
  },
  {
   "cell_type": "code",
   "execution_count": null,
   "id": "7",
   "metadata": {},
   "outputs": [],
   "source": [
    "p1 = tfa.processes.Preprocess()\n",
    "p1.set_config(\n",
    "    dataset=\"C3_CP_FGM_SPIN\",\n",
    "    timevar=\"time_tags\",\n",
    "    active_variable=\"B_vec_xyz_gse\",\n",
    "    active_component=2,\n",
    "    sampling_rate=1 / 4,\n",
    ")\n",
    "p2 = tfa.processes.Clean()\n",
    "p2.set_config(\n",
    "    window_size=300,\n",
    "    method=\"iqr\",\n",
    "    multiplier=1,\n",
    ")\n",
    "p3 = tfa.processes.Filter()\n",
    "p3.set_config(\n",
    "    cutoff_frequency=0.1,\n",
    ")\n",
    "p4 = tfa.processes.Wavelet()\n",
    "p4.set_config(\n",
    "    min_frequency=1,\n",
    "    max_frequency=25,\n",
    "    dj=0.1,\n",
    ")\n",
    "\n",
    "p1(data)\n",
    "p2(data)\n",
    "p3(data)\n",
    "p4(data);"
   ]
  },
  {
   "cell_type": "markdown",
   "id": "8",
   "metadata": {},
   "source": [
    "## Plotting"
   ]
  },
  {
   "cell_type": "code",
   "execution_count": null,
   "id": "9",
   "metadata": {},
   "outputs": [],
   "source": [
    "tfa.plotting.quicklook(data, extra_x=None);"
   ]
  }
 ],
 "metadata": {
  "language_info": {
   "codemirror_mode": {
    "name": "ipython",
    "version": 3
   },
   "file_extension": ".py",
   "mimetype": "text/x-python",
   "name": "python",
   "nbconvert_exporter": "python",
   "pygments_lexer": "ipython3"
  }
 },
 "nbformat": 4,
 "nbformat_minor": 5
}
