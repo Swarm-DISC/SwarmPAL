{
 "cells": [
  {
   "cell_type": "markdown",
   "id": "d5b95cd8-6f5e-4332-b70a-6716d13b7c9f",
   "metadata": {},
   "source": [
    "# Analysis of Cluster data"
   ]
  },
  {
   "cell_type": "markdown",
   "id": "f041987c-0abc-4ce0-94b2-5986254bd3ad",
   "metadata": {},
   "source": [
    "In this example we will access Cluster data via a HAPI server (not from VirES)\n",
    "\n",
    "For more information about HAPI, see <http://hapi-server.org/>"
   ]
  },
  {
   "cell_type": "code",
   "execution_count": null,
   "id": "350edcfb-60c8-4bff-9685-5846774ea760",
   "metadata": {},
   "outputs": [],
   "source": [
    "import datetime as dt\n",
    "\n",
    "from swarmpal.io import create_paldata, PalDataItem\n",
    "from swarmpal.toolboxes import tfa"
   ]
  },
  {
   "cell_type": "markdown",
   "id": "200bc103-f5bb-4d1e-8cdc-0a6b598dae14",
   "metadata": {},
   "source": [
    "## Fetching data"
   ]
  },
  {
   "cell_type": "markdown",
   "id": "01b00f2d-092c-45c9-8183-25fff1de2993",
   "metadata": {},
   "source": [
    "We can access HAPI data in an almost identical way as from VirES, instead using `PalDataItem.from_hapi`.\n",
    "\n",
    "Here we will use the AMDA service to get the data. This might change in the future.\n",
    "\n",
    "Available HAPI data can be browsed at <http://hapi-server.org/servers>, to quickly look at the data or to generate code snippets using the Python `hapiclient` package - the inputs to hapiclient can be used in `PalDataItem.from_hapi` (hapiclient is used underneath within SwarmPAL). For example:\n",
    "- <http://hapi-server.org/servers/#server=AMDA&dataset=clust3-fgm-prp&parameters=c3_b_gse&start=2015-03-29T17:00:00&stop=2015-03-29T19:00:00&return=script&format=python>\n",
    "- <http://hapi-server.org/servers/#server=CDAWeb&dataset=C3_CP_FGM_SPIN&parameters=B_vec_xyz_gse__C3_CP_FGM_SPIN&start=2015-03-29T17:00:00&stop=2015-03-29T19:00:00&return=script&format=python>"
   ]
  },
  {
   "cell_type": "code",
   "execution_count": null,
   "id": "0384448e-da8c-4b41-8ed1-dd43b611c2b9",
   "metadata": {},
   "outputs": [],
   "source": [
    "data_params = dict(\n",
    "    server=\"http://amda.irap.omp.eu/service/hapi\",\n",
    "    dataset=\"clust3-fgm-prp\",\n",
    "    parameters=\"c3_b_gse\",\n",
    "    start=\"2015-03-29T17:00:00\",\n",
    "    stop=\"2015-03-29T19:00:00\",\n",
    "    pad_times=(dt.timedelta(hours=3), dt.timedelta(hours=3)),\n",
    ")\n",
    "data = create_paldata(PalDataItem.from_hapi(**data_params))\n",
    "print(data)"
   ]
  },
  {
   "cell_type": "markdown",
   "id": "28fbf535-d448-46cd-bde3-e4e4467cef1d",
   "metadata": {},
   "source": [
    "## Processing"
   ]
  },
  {
   "cell_type": "code",
   "execution_count": null,
   "id": "0174f15b-742f-4510-9630-b602a67131cf",
   "metadata": {},
   "outputs": [],
   "source": [
    "p1 = tfa.processes.Preprocess()\n",
    "p1.set_config(\n",
    "    dataset=\"clust3-fgm-prp\",\n",
    "    timevar=\"Time\",\n",
    "    active_variable=\"c3_b_gse\",\n",
    "    active_component=2,\n",
    "    sampling_rate=1 / 4,\n",
    ")\n",
    "p2 = tfa.processes.Clean()\n",
    "p2.set_config(\n",
    "    window_size=300,\n",
    "    method=\"iqr\",\n",
    "    multiplier=1,\n",
    ")\n",
    "p3 = tfa.processes.Filter()\n",
    "p3.set_config(\n",
    "    cutoff_frequency=0.1,\n",
    ")\n",
    "p4 = tfa.processes.Wavelet()\n",
    "p4.set_config(\n",
    "    min_frequency=1,\n",
    "    max_frequency=25,\n",
    "    dj=0.1,\n",
    ")\n",
    "\n",
    "p1(data)\n",
    "p2(data)\n",
    "p3(data)\n",
    "p4(data);"
   ]
  },
  {
   "cell_type": "markdown",
   "id": "871ad53a-f00b-466f-aa84-ee3ed320f11a",
   "metadata": {},
   "source": [
    "## Plotting"
   ]
  },
  {
   "cell_type": "code",
   "execution_count": null,
   "id": "70598c47-4a29-4c39-b0aa-e6ce34188956",
   "metadata": {},
   "outputs": [],
   "source": [
    "tfa.plotting.quicklook(data, extra_x=None);"
   ]
  }
 ],
 "metadata": {
  "language_info": {
   "codemirror_mode": {
    "name": "ipython",
    "version": 3
   },
   "file_extension": ".py",
   "mimetype": "text/x-python",
   "name": "python",
   "nbconvert_exporter": "python",
   "pygments_lexer": "ipython3"
  }
 },
 "nbformat": 4,
 "nbformat_minor": 5
}
