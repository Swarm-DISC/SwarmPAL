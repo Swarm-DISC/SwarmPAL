{
 "cells": [
  {
   "cell_type": "markdown",
   "id": "5c6e9800-e9d0-498b-a4d5-e2fba6e44db7",
   "metadata": {},
   "source": [
    "# TFA: Time-Frequency Analysis"
   ]
  },
  {
   "cell_type": "markdown",
   "id": "733b5e49-b6c5-4cff-b18a-08dfa6b42953",
   "metadata": {},
   "source": [
    "An overview of usage of the TFA toolbox. (To be separated out into different notebooks as before, overwriting those old ones)"
   ]
  },
  {
   "cell_type": "code",
   "execution_count": null,
   "id": "db552755-b01d-4cb8-bd73-024ad32b35f9",
   "metadata": {},
   "outputs": [],
   "source": [
    "%load_ext autoreload\n",
    "%autoreload 2"
   ]
  },
  {
   "cell_type": "code",
   "execution_count": null,
   "id": "10d200f5-fc1b-4300-940d-91d8a5bb3347",
   "metadata": {},
   "outputs": [],
   "source": [
    "import datetime as dt\n",
    "import matplotlib.pyplot as plt\n",
    "import numpy as np\n",
    "\n",
    "from swarmpal.io import create_paldata, PalDataItem\n",
    "from swarmpal.toolboxes import tfa"
   ]
  },
  {
   "cell_type": "markdown",
   "id": "990bd998-0a70-47ad-a1d6-265f1a2744dc",
   "metadata": {},
   "source": [
    "## MAGx_LR example"
   ]
  },
  {
   "cell_type": "markdown",
   "id": "9d86d8e4-82c6-4fe0-99b3-f18463f14674",
   "metadata": {},
   "source": [
    "### Fetching data"
   ]
  },
  {
   "cell_type": "code",
   "execution_count": null,
   "id": "12d73c76-9bee-409f-8e95-76a848a2d979",
   "metadata": {},
   "outputs": [],
   "source": [
    "data_params = dict(\n",
    "    collection=\"SW_OPER_MAGA_LR_1B\",\n",
    "    measurements=[\"B_NEC\", \"F\"],\n",
    "    models=[\"Model='CHAOS-Core'+'CHAOS-Static'\"],\n",
    "    auxiliaries=[\"QDLat\", \"MLT\"],\n",
    "    start_time=dt.datetime(2015, 3, 14),\n",
    "    end_time=dt.datetime(2015, 3, 14, 3, 59, 59),\n",
    "    pad_times=(dt.timedelta(hours=3), dt.timedelta(hours=3)),\n",
    "    server_url=\"https://vires.services/ows\",\n",
    "    options=dict(asynchronous=False, show_progress=False),\n",
    ")\n",
    "data = create_paldata(PalDataItem.from_vires(**data_params))\n",
    "print(data)"
   ]
  },
  {
   "cell_type": "markdown",
   "id": "31ee1889-ffac-445f-acd9-9da89f195110",
   "metadata": {},
   "source": [
    "### Applying processes"
   ]
  },
  {
   "cell_type": "markdown",
   "id": "5d328bd6-4d50-4487-a9ef-b9ddb115c27c",
   "metadata": {},
   "source": [
    "#### TFA: Preprocess"
   ]
  },
  {
   "cell_type": "code",
   "execution_count": null,
   "id": "6215c624-7c47-4f66-9e36-efc5f9b11e7f",
   "metadata": {},
   "outputs": [],
   "source": [
    "p1 = tfa.processes.Preprocess()\n",
    "p1.set_config(\n",
    "    dataset=\"SW_OPER_MAGA_LR_1B\",\n",
    "    active_variable=\"B_MFA\",\n",
    "    active_component=2,\n",
    "    sampling_rate=1,\n",
    "    remove_model=True,\n",
    "    convert_to_mfa=True,\n",
    ")\n",
    "p1(data)\n",
    "print(data)"
   ]
  },
  {
   "cell_type": "markdown",
   "id": "bb2fc8d5",
   "metadata": {},
   "source": [
    "This `data` has been extended to include `B_NEC_res_Model`, `B_MFA`, and `TFA_Variable`. These can be inspected with the usual xarray/matplotlib tools"
   ]
  },
  {
   "cell_type": "code",
   "execution_count": null,
   "id": "be2a8135-2c58-499c-bdea-dc09f6c5a7a3",
   "metadata": {},
   "outputs": [],
   "source": [
    "fig, axes = plt.subplots(3, 1, sharex=True)\n",
    "data[\"SW_OPER_MAGA_LR_1B\"][\"B_NEC\"].plot.line(x=\"Timestamp\", ax=axes[0])\n",
    "data[\"SW_OPER_MAGA_LR_1B\"][\"B_NEC_res_Model\"].plot.line(x=\"Timestamp\", ax=axes[1])\n",
    "data[\"SW_OPER_MAGA_LR_1B\"][\"B_MFA\"].plot.line(x=\"Timestamp\", ax=axes[2])\n",
    "axes[1].set_ylim(-200, 200)\n",
    "axes[2].set_ylim(-200, 200);"
   ]
  },
  {
   "cell_type": "code",
   "execution_count": null,
   "id": "1ffeaa94-c064-4a9b-9001-a3228a3282e2",
   "metadata": {},
   "outputs": [],
   "source": [
    "data[\"SW_OPER_MAGA_LR_1B\"][\"TFA_Variable\"].plot.line(x=\"TFA_Time\");"
   ]
  },
  {
   "cell_type": "markdown",
   "id": "c02c4385-dad5-45ae-b5ae-97f716251200",
   "metadata": {},
   "source": [
    "#### TFA: Clean"
   ]
  },
  {
   "cell_type": "code",
   "execution_count": null,
   "id": "039131ed-4814-4c74-9218-9cb40188f111",
   "metadata": {},
   "outputs": [],
   "source": [
    "p2 = tfa.processes.Clean()\n",
    "p2.set_config(\n",
    "    window_size=300,\n",
    "    method=\"iqr\",\n",
    "    multiplier=1,\n",
    ")\n",
    "p2(data)\n",
    "data[\"SW_OPER_MAGA_LR_1B\"][\"TFA_Variable\"].plot.line(x=\"TFA_Time\");"
   ]
  },
  {
   "cell_type": "markdown",
   "id": "31c1214f-1123-4f04-a4ee-05b4ac8f896b",
   "metadata": {},
   "source": [
    "#### TFA: Filter"
   ]
  },
  {
   "cell_type": "code",
   "execution_count": null,
   "id": "76c7a046-2220-4681-ace4-b6dc8a8516f2",
   "metadata": {},
   "outputs": [],
   "source": [
    "p3 = tfa.processes.Filter()\n",
    "p3.set_config(\n",
    "    cutoff_frequency=20 / 1000,\n",
    ")\n",
    "p3(data)\n",
    "data[\"SW_OPER_MAGA_LR_1B\"][\"TFA_Variable\"].plot.line(x=\"TFA_Time\");"
   ]
  },
  {
   "cell_type": "markdown",
   "id": "5debff71-40ed-43e6-9460-281dc3e00995",
   "metadata": {},
   "source": [
    "#### TFA: Wavelet"
   ]
  },
  {
   "cell_type": "code",
   "execution_count": null,
   "id": "66a5cf50-837b-4dab-a785-e93037b0e0b3",
   "metadata": {},
   "outputs": [],
   "source": [
    "p4 = tfa.processes.Wavelet()\n",
    "p4.set_config(\n",
    "    min_frequency=20 / 1000,\n",
    "    max_frequency=100 / 1000,\n",
    "    dj=0.1,\n",
    ")\n",
    "p4(data)\n",
    "print(data)"
   ]
  },
  {
   "cell_type": "markdown",
   "id": "6afbd8dd-a05c-4515-8380-faa8d276827c",
   "metadata": {},
   "source": [
    "### Plotting"
   ]
  },
  {
   "cell_type": "markdown",
   "id": "780757ec-6e62-4d2b-ba4b-9be10feac2b9",
   "metadata": {},
   "source": [
    "Special plotting functions are available under `swarmpal.toolboxes.tfa.plotting`. These accept the above datatree (`data`) as input.\n",
    "\n",
    "Note that by default (see `clip_times=True`), these plots are restricted to the analysis window (the full time window minus the time pads added in the data request)."
   ]
  },
  {
   "cell_type": "code",
   "execution_count": null,
   "id": "b0038eb0-9309-4c21-a922-af444627526e",
   "metadata": {},
   "outputs": [],
   "source": [
    "tfa.plotting.time_series(data)"
   ]
  },
  {
   "cell_type": "code",
   "execution_count": null,
   "id": "41194ff2-73d7-4773-a522-a4d8e94267fc",
   "metadata": {},
   "outputs": [],
   "source": [
    "tfa.plotting.spectrum(data, levels=np.linspace(-6, -1, 20))"
   ]
  },
  {
   "cell_type": "code",
   "execution_count": null,
   "id": "2fc89da3-7d5f-4ea0-9a74-592a07d3da61",
   "metadata": {},
   "outputs": [],
   "source": [
    "tfa.plotting.quicklook(data)"
   ]
  },
  {
   "cell_type": "markdown",
   "id": "2e876d1d",
   "metadata": {},
   "source": [
    "The plots can be configured with extra options like `tlims` (subsetting the time to plot), and `extra_x` (defining which extra x-axes to make)."
   ]
  },
  {
   "cell_type": "code",
   "execution_count": null,
   "id": "bb439d65",
   "metadata": {},
   "outputs": [],
   "source": [
    "tfa.plotting.quicklook(\n",
    "    data,\n",
    "    tlims=(\"2015-03-14T03:00:00\", \"2015-03-14T03:30:00\"),\n",
    "    extra_x=(\"QDLat\", \"MLT\", \"Latitude\"),\n",
    ")"
   ]
  },
  {
   "cell_type": "markdown",
   "id": "b3ce49f1-3f8c-450b-89f6-8cd4c3f7ecab",
   "metadata": {},
   "source": [
    "## MAGx_HR"
   ]
  },
  {
   "cell_type": "code",
   "execution_count": null,
   "id": "9a4cf418-8586-46f4-b75b-c4d69018706e",
   "metadata": {},
   "outputs": [],
   "source": [
    "data_params = dict(\n",
    "    collection=\"SW_OPER_MAGB_HR_1B\",\n",
    "    measurements=[\"B_NEC\"],\n",
    "    models=[\"Model='CHAOS-Core'+'CHAOS-Static'\"],\n",
    "    auxiliaries=[\"QDLat\", \"MLT\"],\n",
    "    start_time=dt.datetime(2015, 3, 14, 12, 5, 0),\n",
    "    end_time=dt.datetime(2015, 3, 14, 12, 30, 0),\n",
    "    pad_times=(dt.timedelta(minutes=10), dt.timedelta(minutes=10)),\n",
    "    server_url=\"https://vires.services/ows\",\n",
    "    options=dict(asynchronous=False, show_progress=False),\n",
    ")\n",
    "data = create_paldata(PalDataItem.from_vires(**data_params))"
   ]
  },
  {
   "cell_type": "code",
   "execution_count": null,
   "id": "b079c11b-d446-4aaf-be21-b48ab2bb748e",
   "metadata": {},
   "outputs": [],
   "source": [
    "p1 = tfa.processes.Preprocess()\n",
    "p1.set_config(\n",
    "    dataset=\"SW_OPER_MAGB_HR_1B\",\n",
    "    active_variable=\"B_NEC_res_Model\",\n",
    "    sampling_rate=50,\n",
    "    remove_model=True,\n",
    "    use_magnitude=True,\n",
    ")\n",
    "p2 = tfa.processes.Clean()\n",
    "p2.set_config(\n",
    "    window_size=300,\n",
    "    method=\"iqr\",\n",
    "    multiplier=1,\n",
    ")\n",
    "p3 = tfa.processes.Filter()\n",
    "p3.set_config(\n",
    "    cutoff_frequency=0.1,\n",
    ")\n",
    "p4 = tfa.processes.Wavelet()\n",
    "p4.set_config(\n",
    "    min_frequency=1,\n",
    "    max_frequency=25,\n",
    "    dj=0.1,\n",
    ")"
   ]
  },
  {
   "cell_type": "code",
   "execution_count": null,
   "id": "dad7fd91-5779-4cd5-93d4-6d34f5c92abd",
   "metadata": {},
   "outputs": [],
   "source": [
    "p1(data)\n",
    "p2(data)\n",
    "p3(data)\n",
    "p4(data);"
   ]
  },
  {
   "cell_type": "code",
   "execution_count": null,
   "id": "e5e8d8fd-6af8-4e56-a255-8a01dc623143",
   "metadata": {},
   "outputs": [],
   "source": [
    "fig, ax = plt.subplots(1, 1, figsize=(15, 5))\n",
    "tfa.plotting.spectrum(data, levels=np.linspace(-6, -3, 20), ax=ax)"
   ]
  },
  {
   "cell_type": "markdown",
   "id": "c71d1299-057b-47a2-991d-bf47bd93fba8",
   "metadata": {},
   "source": [
    "## EFIx_TCT"
   ]
  },
  {
   "cell_type": "code",
   "execution_count": null,
   "id": "6a58b11c-dd5d-456e-9c6b-3a4dce5401b2",
   "metadata": {},
   "outputs": [],
   "source": [
    "data_params = dict(\n",
    "    collection=\"SW_EXPT_EFIA_TCT02\",\n",
    "    measurements=[\"Ehx\", \"Ehy\", \"Ehz\", \"Quality_flags\"],\n",
    "    auxiliaries=[\"QDLat\", \"MLT\"],\n",
    "    start_time=dt.datetime(2015, 3, 14, 12, 5, 0),\n",
    "    end_time=dt.datetime(2015, 3, 14, 12, 30, 0),\n",
    "    pad_times=(dt.timedelta(hours=3), dt.timedelta(hours=3)),\n",
    "    server_url=\"https://vires.services/ows\",\n",
    "    options=dict(asynchronous=False, show_progress=False),\n",
    ")\n",
    "data = create_paldata(PalDataItem.from_vires(**data_params))"
   ]
  },
  {
   "cell_type": "code",
   "execution_count": null,
   "id": "48aa29bc-2468-4473-bfc4-a3af6a093d3d",
   "metadata": {},
   "outputs": [],
   "source": [
    "p1 = tfa.processes.Preprocess()\n",
    "p1.set_config(\n",
    "    dataset=\"SW_EXPT_EFIA_TCT02\",\n",
    "    active_variable=\"Eh_XYZ\",\n",
    "    active_component=2,\n",
    "    sampling_rate=2,\n",
    ")\n",
    "p2 = tfa.processes.Clean()\n",
    "p2.set_config(\n",
    "    window_size=300,\n",
    "    method=\"iqr\",\n",
    "    multiplier=1,\n",
    ")\n",
    "p3 = tfa.processes.Filter()\n",
    "p3.set_config(\n",
    "    cutoff_frequency=20 / 1000,\n",
    ")\n",
    "p4 = tfa.processes.Wavelet()\n",
    "p4.set_config(\n",
    "    min_frequency=20 / 1000,\n",
    "    max_frequency=200 / 1000,\n",
    "    dj=0.1,\n",
    ")\n",
    "p1(data)\n",
    "p2(data)\n",
    "p3(data)\n",
    "p4(data);"
   ]
  },
  {
   "cell_type": "code",
   "execution_count": null,
   "id": "873d1ca2-6e7c-4e60-ae0e-0ba6cc661b61",
   "metadata": {},
   "outputs": [],
   "source": [
    "tfa.plotting.time_series(data)"
   ]
  },
  {
   "cell_type": "code",
   "execution_count": null,
   "id": "26b5b173-0f55-4293-af4e-60a96bddb4ec",
   "metadata": {},
   "outputs": [],
   "source": [
    "tfa.plotting.spectrum(data, levels=np.linspace(-2, 2, 20))"
   ]
  },
  {
   "cell_type": "markdown",
   "id": "c89ee2f7-35f8-4a39-9f2d-4ead86580a9c",
   "metadata": {},
   "source": [
    "## AUX_OBS"
   ]
  },
  {
   "cell_type": "code",
   "execution_count": null,
   "id": "56e72738-7ca8-4085-9f1d-f876527aa66d",
   "metadata": {},
   "outputs": [],
   "source": [
    "data_params = dict(\n",
    "    collection=\"SW_OPER_AUX_OBSM2_:HRN\",\n",
    "    measurements=[\"B_NEC\"],\n",
    "    models=[\"Model='CHAOS-Core'+'CHAOS-Static'\"],\n",
    "    auxiliaries=[\"MLT\"],\n",
    "    start_time=dt.datetime(2015, 3, 14, 0, 0, 0),\n",
    "    end_time=dt.datetime(2015, 3, 14, 23, 59, 59),\n",
    "    pad_times=(dt.timedelta(hours=3), dt.timedelta(hours=3)),\n",
    "    server_url=\"https://vires.services/ows\",\n",
    "    options=dict(asynchronous=False, show_progress=False),\n",
    ")\n",
    "data = create_paldata(PalDataItem.from_vires(**data_params))\n",
    "\n",
    "p1 = tfa.processes.Preprocess()\n",
    "p1.set_config(\n",
    "    dataset=\"SW_OPER_AUX_OBSM2_:HRN\",\n",
    "    active_variable=\"B_NEC_res_Model\",\n",
    "    active_component=0,\n",
    "    sampling_rate=1 / 60,\n",
    "    remove_model=True,\n",
    ")\n",
    "p2 = tfa.processes.Clean()\n",
    "p2.set_config(\n",
    "    window_size=10,\n",
    "    method=\"iqr\",\n",
    "    multiplier=1,\n",
    ")\n",
    "p3 = tfa.processes.Filter()\n",
    "p3.set_config(\n",
    "    cutoff_frequency=0.001,\n",
    ")\n",
    "p4 = tfa.processes.Wavelet()\n",
    "p4.set_config(\n",
    "    min_scale=1000 / 8,\n",
    "    max_scale=1000 / 1,\n",
    "    dj=0.1,\n",
    ")\n",
    "\n",
    "p1(data)\n",
    "p2(data)\n",
    "p3(data)\n",
    "p4(data)\n",
    "\n",
    "tfa.plotting.spectrum(data, levels=np.linspace(-2, 2))"
   ]
  },
  {
   "cell_type": "markdown",
   "id": "ca39da06",
   "metadata": {},
   "source": [
    "## Cluster"
   ]
  },
  {
   "cell_type": "markdown",
   "id": "5f599754",
   "metadata": {},
   "source": [
    "(Experimental) Note that these data are retrieved from the NASA CDAWeb HAPI server, and arguments to the data fetcher are supplied differently."
   ]
  },
  {
   "cell_type": "code",
   "execution_count": null,
   "id": "956b2e50",
   "metadata": {},
   "outputs": [],
   "source": [
    "data_params = dict(\n",
    "    server=\"https://cdaweb.gsfc.nasa.gov/hapi\",\n",
    "    dataset=\"C3_CP_FGM_SPIN\",\n",
    "    parameters=\"B_vec_xyz_gse__C3_CP_FGM_SPIN\",\n",
    "    start=\"2015-03-29T17:00:00\",\n",
    "    stop=\"2015-03-29T19:00:00\",\n",
    "    pad_times=(dt.timedelta(hours=3), dt.timedelta(hours=3)),\n",
    ")\n",
    "data = create_paldata(PalDataItem.from_hapi(**data_params))\n",
    "print(data)"
   ]
  },
  {
   "cell_type": "code",
   "execution_count": null,
   "id": "b3747e2a",
   "metadata": {},
   "outputs": [],
   "source": [
    "p1 = tfa.processes.Preprocess()\n",
    "p1.set_config(\n",
    "    dataset=\"C3_CP_FGM_SPIN\",\n",
    "    timevar=\"Time\",\n",
    "    active_variable=\"B_vec_xyz_gse__C3_CP_FGM_SPIN\",\n",
    "    active_component=2,\n",
    "    sampling_rate=1 / 4,\n",
    ")\n",
    "p2 = tfa.processes.Clean()\n",
    "p2.set_config(\n",
    "    window_size=300,\n",
    "    method=\"iqr\",\n",
    "    multiplier=1,\n",
    ")\n",
    "p3 = tfa.processes.Filter()\n",
    "p3.set_config(\n",
    "    cutoff_frequency=0.1,\n",
    ")\n",
    "p4 = tfa.processes.Wavelet()\n",
    "p4.set_config(\n",
    "    min_frequency=1,\n",
    "    max_frequency=25,\n",
    "    dj=0.1,\n",
    ")\n",
    "\n",
    "data = data.pipe(p1).pipe(p2).pipe(p3).pipe(p4)"
   ]
  },
  {
   "cell_type": "code",
   "execution_count": null,
   "id": "82fcd25c",
   "metadata": {},
   "outputs": [],
   "source": [
    "tfa.plotting.quicklook(data, extra_x=None);"
   ]
  }
 ],
 "metadata": {
  "language_info": {
   "codemirror_mode": {
    "name": "ipython",
    "version": 3
   },
   "file_extension": ".py",
   "mimetype": "text/x-python",
   "name": "python",
   "nbconvert_exporter": "python",
   "pygments_lexer": "ipython3"
  },
  "vscode": {
   "interpreter": {
    "hash": "75048f8b19dc2376e8ce021c430fd300fc261773814cb02da2fef53030a6379a"
   }
  }
 },
 "nbformat": 4,
 "nbformat_minor": 5
}
