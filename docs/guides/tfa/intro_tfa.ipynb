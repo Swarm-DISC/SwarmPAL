{
 "cells": [
  {
   "cell_type": "markdown",
   "id": "5c6e9800-e9d0-498b-a4d5-e2fba6e44db7",
   "metadata": {},
   "source": [
    "# TFA: Time-Frequency Analysis"
   ]
  },
  {
   "cell_type": "markdown",
   "id": "733b5e49-b6c5-4cff-b18a-08dfa6b42953",
   "metadata": {},
   "source": [
    "An introduction to the TFA toolbox. This gives a basic demonstration of a wavelet analysis applied to the MAGx_LR data (magnetic field 1Hz). For more details, see the following pages/notebooks."
   ]
  },
  {
   "cell_type": "code",
   "execution_count": null,
   "id": "10d200f5-fc1b-4300-940d-91d8a5bb3347",
   "metadata": {},
   "outputs": [],
   "source": [
    "import datetime as dt\n",
    "\n",
    "from swarmpal.io import create_paldata, PalDataItem\n",
    "from swarmpal.toolboxes import tfa"
   ]
  },
  {
   "cell_type": "markdown",
   "id": "976d0be4-a283-4988-8e8f-ded91bdef848",
   "metadata": {},
   "source": [
    "## Fetching data"
   ]
  },
  {
   "cell_type": "markdown",
   "id": "8aab9b74-4b36-4f94-8861-b58f59a995ab",
   "metadata": {},
   "source": [
    "`create_paldata` and `PalDataItem.from_vires` are used together to pull the desired data from VirES.\n",
    "\n",
    "- `collection=\"SW_OPER_MAGA_LR_1B\"` selects the MAGx_LR dataset from Swarm Alpha\n",
    "- `measurements=[\"B_NEC\"]` selects the magnetic vector, B_NEC, which we will analyse\n",
    "- We provide a model choice with `models=[\"Model='CHAOS-Core'+'CHAOS-Static'\"]`. This can be changed to e.g. `models=[\"Model=CHAOS\"]` which provides the full CHAOS model, including the magnetosphere. The string provided here is a VirES-compatible model string which specifies the chosen model (see [viresclient](https://viresclient.readthedocs.io/en/latest/available_parameters.html#models) for more information).\n",
    "- The start and end times select the period we want to analyse\n",
    "- The `pad_times` option supplies an extra padding of 3 hours of data before and after the analysis window, which prevents edge effects in the wavelet analysis\n",
    "\n",
    "Running this code creates a `DataTree` object in the `data` variable. This contains all the data we will use in our analysis."
   ]
  },
  {
   "cell_type": "code",
   "execution_count": null,
   "id": "6108230f-0e02-4cc3-bb43-aab1e78a65d9",
   "metadata": {},
   "outputs": [],
   "source": [
    "data = create_paldata(\n",
    "    PalDataItem.from_vires(\n",
    "        collection=\"SW_OPER_MAGA_LR_1B\",\n",
    "        measurements=[\"B_NEC\"],\n",
    "        models=[\"Model='CHAOS-Core'+'CHAOS-Static'\"],\n",
    "        auxiliaries=[\"QDLat\", \"MLT\"],\n",
    "        start_time=dt.datetime(2015, 3, 14),\n",
    "        end_time=dt.datetime(2015, 3, 14, 3, 59, 59),\n",
    "        pad_times=(dt.timedelta(hours=3), dt.timedelta(hours=3)),\n",
    "        server_url=\"https://vires.services/ows\",\n",
    "        options=dict(asynchronous=False, show_progress=False),\n",
    "    )\n",
    ")\n",
    "print(data)"
   ]
  },
  {
   "cell_type": "markdown",
   "id": "31ee1889-ffac-445f-acd9-9da89f195110",
   "metadata": {},
   "source": [
    "## Applying processes\n",
    "\n",
    "Now we will apply some processes to our data. These are all available within the `tfa` submodule which we imported earlier."
   ]
  },
  {
   "cell_type": "markdown",
   "id": "5d328bd6-4d50-4487-a9ef-b9ddb115c27c",
   "metadata": {},
   "source": [
    "### TFA: Preprocess\n",
    "\n",
    "First we *preprocess* the data. To do this we use `Preprocess`, and, using `.set_config`, supply a configuration to control how that should behave. This will create a function that we can apply to the data - we will call this function `p1` since it is the first process we will apply.\n",
    "\n",
    "(Strictly speaking `p1` is a special object rather than a regular function in Python, but has been made *callable* so that we can use it like `p1(data)` to apply it to `data`)\n",
    "\n",
    "Some of the options are used here, but refer to the other demonstrations for more detail."
   ]
  },
  {
   "cell_type": "code",
   "execution_count": null,
   "id": "fd772304-faaa-4b4f-9aef-36a70480ede0",
   "metadata": {},
   "outputs": [],
   "source": [
    "p1 = tfa.processes.Preprocess()\n",
    "p1.set_config(\n",
    "    # Identifies the data we are working with\n",
    "    # (this dataset must be available in the DataTree above)\n",
    "    dataset=\"SW_OPER_MAGA_LR_1B\",\n",
    "    # Selects the variable we want to process\n",
    "    # B_NEC_res_Model is a special variable that is added to the data\n",
    "    #   when we also specify remove_model=True\n",
    "    active_variable=\"B_NEC_res_Model\",\n",
    "    # Selects which component (0, 1, 2) to process\n",
    "    # With the NEC vectors, 2 will refer to the \"C\" (centre / downward) component\n",
    "    active_component=2,\n",
    "    # Identifies the sampling rate (in Hz) of the data\n",
    "    sampling_rate=1,\n",
    "    # Removes the magnetic model from the data\n",
    "    # i.e. gets the data-model residual / perturbation\n",
    "    remove_model=True,\n",
    ")"
   ]
  },
  {
   "cell_type": "markdown",
   "id": "3dfd918f-658d-48bd-b789-c1f6621376bd",
   "metadata": {},
   "source": [
    "Now we have a process `p1`, we can apply that to the data:"
   ]
  },
  {
   "cell_type": "code",
   "execution_count": null,
   "id": "01cf9e9c-1033-468a-b70d-c11f4f95bf5f",
   "metadata": {},
   "outputs": [],
   "source": [
    "p1(data);"
   ]
  },
  {
   "cell_type": "markdown",
   "id": "8367c494-f158-4fb7-968d-f236beeaeee7",
   "metadata": {},
   "source": [
    "The preprocessing plays a number of roles but most importantly it sets a new array, `TFA_Variable`, in the data, which will be used in the following steps."
   ]
  },
  {
   "cell_type": "markdown",
   "id": "6b74173e-d3ad-4ba6-9247-5db6cee85f5b",
   "metadata": {},
   "source": [
    "This data can be inspected directly using tools available through xarray:"
   ]
  },
  {
   "cell_type": "code",
   "execution_count": null,
   "id": "d6d11b66-cb1d-48bb-ad74-cb0db5f60211",
   "metadata": {},
   "outputs": [],
   "source": [
    "data[\"SW_OPER_MAGA_LR_1B\"][\"TFA_Variable\"]"
   ]
  },
  {
   "cell_type": "code",
   "execution_count": null,
   "id": "ac4479e0-760e-4f43-afa6-2b4e3870f2cb",
   "metadata": {},
   "outputs": [],
   "source": [
    "data[\"SW_OPER_MAGA_LR_1B\"][\"TFA_Variable\"].plot.line(x=\"TFA_Time\");"
   ]
  },
  {
   "cell_type": "markdown",
   "id": "a92ad613-db84-4cb3-b703-3e044e42983d",
   "metadata": {},
   "source": [
    "The TFA toolbox also provides a function to inspect the data, `tfa.plotting.time_series`:"
   ]
  },
  {
   "cell_type": "code",
   "execution_count": null,
   "id": "910195b5-7f28-4521-a03f-af657930cb7b",
   "metadata": {},
   "outputs": [],
   "source": [
    "tfa.plotting.time_series(data);"
   ]
  },
  {
   "cell_type": "markdown",
   "id": "aa6d3c85-a1b6-4edf-ba24-f2f7d34e192e",
   "metadata": {},
   "source": [
    "We can see an unphysical spike in the data. In this case we could have removed this bad data in the data request step (by filtering according to flag values), but here we will demonstrate the functionality of the TFA toolbox in removing this spike."
   ]
  },
  {
   "cell_type": "markdown",
   "id": "090c9713-b744-45de-8183-23dbd8c6acae",
   "metadata": {},
   "source": [
    "### TFA: Clean\n",
    "\n",
    "Just as with `Preprocess`, there is `Clean` which provides a data cleaning function to remove outliers."
   ]
  },
  {
   "cell_type": "code",
   "execution_count": null,
   "id": "65f1ac2e-43f0-4440-9577-b23c21f61325",
   "metadata": {},
   "outputs": [],
   "source": [
    "p2 = tfa.processes.Clean()\n",
    "p2.set_config(\n",
    "    window_size=300,\n",
    "    method=\"iqr\",\n",
    "    multiplier=1,\n",
    ")\n",
    "p2(data)\n",
    "tfa.plotting.time_series(data);"
   ]
  },
  {
   "cell_type": "markdown",
   "id": "da183cc5-22f8-4246-8678-0870964cfea3",
   "metadata": {},
   "source": [
    "### TFA: Filter\n",
    "\n",
    "Next we use `Filter`, which applies a high-pass filter to the data."
   ]
  },
  {
   "cell_type": "code",
   "execution_count": null,
   "id": "cf2e3bd5-204a-4f41-abb2-795ac3c7e9ce",
   "metadata": {},
   "outputs": [],
   "source": [
    "p3 = tfa.processes.Filter()\n",
    "p3.set_config(\n",
    "    cutoff_frequency=20 / 1000,\n",
    ")\n",
    "p3(data)\n",
    "tfa.plotting.time_series(data);"
   ]
  },
  {
   "cell_type": "markdown",
   "id": "61e91fd2-f3da-4df8-adf6-c70c2840f6b3",
   "metadata": {},
   "source": [
    "### TFA: Wavelet\n",
    "\n",
    "Now we get to the most interesting part: applying a wavelet analysis."
   ]
  },
  {
   "cell_type": "code",
   "execution_count": null,
   "id": "9c4b855e-2a45-441c-8274-46c564f4978f",
   "metadata": {},
   "outputs": [],
   "source": [
    "p4 = tfa.processes.Wavelet()\n",
    "p4.set_config(\n",
    "    min_frequency=20 / 1000,\n",
    "    max_frequency=100 / 1000,\n",
    "    dj=0.1,\n",
    ")\n",
    "p4(data);"
   ]
  },
  {
   "cell_type": "markdown",
   "id": "44f7f78a-65a5-4892-a722-b3f5e2bcffad",
   "metadata": {},
   "source": [
    "The results of the wavelet analysis are stored as a spectrum in a new `wavelet_power` array:"
   ]
  },
  {
   "cell_type": "code",
   "execution_count": null,
   "id": "17999e51-fdbb-4dd1-9061-43bba6fec799",
   "metadata": {},
   "outputs": [],
   "source": [
    "data[\"SW_OPER_MAGA_LR_1B\"][\"wavelet_power\"]"
   ]
  },
  {
   "cell_type": "markdown",
   "id": "480d2b7f-42db-4645-b313-267e0776053c",
   "metadata": {},
   "source": [
    "And we can view it with `tfa.plotting.spectrum`:"
   ]
  },
  {
   "cell_type": "code",
   "execution_count": null,
   "id": "52cd01ed-4afa-47d6-82aa-6f0aeae8d626",
   "metadata": {},
   "outputs": [],
   "source": [
    "tfa.plotting.spectrum(data)"
   ]
  },
  {
   "cell_type": "markdown",
   "id": "20be4ca4-5e09-447d-80a1-9d275d3ee0e8",
   "metadata": {},
   "source": [
    "## Plotting"
   ]
  },
  {
   "cell_type": "markdown",
   "id": "65078a3c-ef7c-4c9d-b2f9-3b3a4011cf45",
   "metadata": {},
   "source": [
    "We showed basic usage of `tfa.plotting.time_series` and `tfa.plotting.spectrum` above. These have some extra options to control their behaviour. For example:\n",
    "\n",
    "- Adding extra x axes with `extra_x`\n",
    "- Selecting a specific time window with `tlims`"
   ]
  },
  {
   "cell_type": "code",
   "execution_count": null,
   "id": "f0628630-1e81-4066-8a62-18cfe171dbae",
   "metadata": {},
   "outputs": [],
   "source": [
    "tfa.plotting.time_series(\n",
    "    data,\n",
    "    extra_x=(\"QDLat\", \"MLT\", \"Latitude\"),\n",
    "    tlims=(\"2015-03-14T03:00:00\", \"2015-03-14T03:30:00\"),\n",
    ");"
   ]
  },
  {
   "cell_type": "markdown",
   "id": "8ededed6-a2e1-45c9-8b97-ec58cfd73724",
   "metadata": {},
   "source": [
    "There is also a quicklook plot that combines the time series, spectrum, and wave power (from `tfa.plotting.wave_index`) into one figure:"
   ]
  },
  {
   "cell_type": "code",
   "execution_count": null,
   "id": "ab2925a8-4322-4231-a935-626e0b9991a4",
   "metadata": {},
   "outputs": [],
   "source": [
    "tfa.plotting.quicklook(\n",
    "    data,\n",
    "    tlims=(\"2015-03-14T03:00:00\", \"2015-03-14T03:30:00\"),\n",
    "    extra_x=(\"QDLat\", \"MLT\", \"Latitude\"),\n",
    ");"
   ]
  }
 ],
 "metadata": {
  "language_info": {
   "codemirror_mode": {
    "name": "ipython",
    "version": 3
   },
   "file_extension": ".py",
   "mimetype": "text/x-python",
   "name": "python",
   "nbconvert_exporter": "python",
   "pygments_lexer": "ipython3"
  },
  "vscode": {
   "interpreter": {
    "hash": "75048f8b19dc2376e8ce021c430fd300fc261773814cb02da2fef53030a6379a"
   }
  }
 },
 "nbformat": 4,
 "nbformat_minor": 5
}
