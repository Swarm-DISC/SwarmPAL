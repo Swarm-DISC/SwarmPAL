{
 "cells": [
  {
   "cell_type": "markdown",
   "id": "5c6e9800-e9d0-498b-a4d5-e2fba6e44db7",
   "metadata": {},
   "source": [
    "# TFA: Time-Frequency Analysis (WIP)"
   ]
  },
  {
   "cell_type": "markdown",
   "id": "733b5e49-b6c5-4cff-b18a-08dfa6b42953",
   "metadata": {},
   "source": [
    "A work in progress for the new interface for TFA, just showing the data access and process application."
   ]
  },
  {
   "cell_type": "code",
   "execution_count": null,
   "id": "db552755-b01d-4cb8-bd73-024ad32b35f9",
   "metadata": {},
   "outputs": [],
   "source": [
    "%load_ext autoreload\n",
    "%autoreload 2"
   ]
  },
  {
   "cell_type": "code",
   "execution_count": null,
   "id": "10d200f5-fc1b-4300-940d-91d8a5bb3347",
   "metadata": {},
   "outputs": [],
   "source": [
    "import datetime as dt\n",
    "import numpy as np\n",
    "\n",
    "from swarmpal.io import create_paldata, PalDataItem\n",
    "from swarmpal.toolboxes import tfa"
   ]
  },
  {
   "cell_type": "markdown",
   "id": "990bd998-0a70-47ad-a1d6-265f1a2744dc",
   "metadata": {},
   "source": [
    "## MAGx_LR example"
   ]
  },
  {
   "cell_type": "markdown",
   "id": "9d86d8e4-82c6-4fe0-99b3-f18463f14674",
   "metadata": {},
   "source": [
    "### Fetching data"
   ]
  },
  {
   "cell_type": "code",
   "execution_count": null,
   "id": "12d73c76-9bee-409f-8e95-76a848a2d979",
   "metadata": {},
   "outputs": [],
   "source": [
    "data_params = dict(\n",
    "    collection=\"SW_OPER_MAGA_LR_1B\",\n",
    "    measurements=[\"B_NEC\"],\n",
    "    models=[\"Model='CHAOS-Core'+'CHAOS-Static'\"],\n",
    "    start_time=dt.datetime(2015, 3, 14),\n",
    "    end_time=dt.datetime(2015, 3, 14, 3, 59, 59),\n",
    "    server_url=\"https://vires.services/ows\",\n",
    "    options=dict(asynchronous=False, show_progress=False),\n",
    ")\n",
    "data = create_paldata(PalDataItem.from_vires(**data_params))\n",
    "print(data)"
   ]
  },
  {
   "cell_type": "markdown",
   "id": "31ee1889-ffac-445f-acd9-9da89f195110",
   "metadata": {},
   "source": [
    "### Applying processes"
   ]
  },
  {
   "cell_type": "markdown",
   "id": "5d328bd6-4d50-4487-a9ef-b9ddb115c27c",
   "metadata": {},
   "source": [
    "#### TFA: Preprocess"
   ]
  },
  {
   "cell_type": "code",
   "execution_count": null,
   "id": "6215c624-7c47-4f66-9e36-efc5f9b11e7f",
   "metadata": {},
   "outputs": [],
   "source": [
    "p1 = tfa.processes.Preprocess()\n",
    "p1.set_config(\n",
    "    dataset=\"SW_OPER_MAGA_LR_1B\",\n",
    "    active_variable=\"B_MFA\",\n",
    "    active_component=2,\n",
    "    remove_model=True,\n",
    "    convert_to_mfa=True,\n",
    ")\n",
    "p1(data)\n",
    "print(data)"
   ]
  },
  {
   "cell_type": "code",
   "execution_count": null,
   "id": "af2f78a2-1c6b-4b97-879b-fa6aa55f1a27",
   "metadata": {},
   "outputs": [],
   "source": [
    "data[\"SW_OPER_MAGA_LR_1B\"][\"B_NEC_res_Model\"].plot.line(x=\"Timestamp\");"
   ]
  },
  {
   "cell_type": "code",
   "execution_count": null,
   "id": "be2a8135-2c58-499c-bdea-dc09f6c5a7a3",
   "metadata": {},
   "outputs": [],
   "source": [
    "data[\"SW_OPER_MAGA_LR_1B\"][\"B_MFA\"].plot.line(x=\"Timestamp\");"
   ]
  },
  {
   "cell_type": "code",
   "execution_count": null,
   "id": "1ffeaa94-c064-4a9b-9001-a3228a3282e2",
   "metadata": {},
   "outputs": [],
   "source": [
    "data[\"SW_OPER_MAGA_LR_1B\"][\"TFA_Variable\"].plot.line(x=\"Timestamp\");"
   ]
  },
  {
   "cell_type": "markdown",
   "id": "c02c4385-dad5-45ae-b5ae-97f716251200",
   "metadata": {},
   "source": [
    "#### TFA: Clean"
   ]
  },
  {
   "cell_type": "code",
   "execution_count": null,
   "id": "039131ed-4814-4c74-9218-9cb40188f111",
   "metadata": {},
   "outputs": [],
   "source": [
    "p2 = tfa.processes.Clean()\n",
    "p2.set_config(\n",
    "    window_size=300,\n",
    "    method=\"iqr\",\n",
    "    multiplier=1,\n",
    ")\n",
    "p2(data)\n",
    "data[\"SW_OPER_MAGA_LR_1B\"][\"TFA_Variable\"].plot.line(x=\"Timestamp\");"
   ]
  },
  {
   "cell_type": "markdown",
   "id": "31c1214f-1123-4f04-a4ee-05b4ac8f896b",
   "metadata": {},
   "source": [
    "#### TFA: Filter"
   ]
  },
  {
   "cell_type": "code",
   "execution_count": null,
   "id": "76c7a046-2220-4681-ace4-b6dc8a8516f2",
   "metadata": {},
   "outputs": [],
   "source": [
    "p3 = tfa.processes.Filter()\n",
    "p3.set_config(\n",
    "    sampling_rate=1,\n",
    "    cutoff_frequency=20 / 1000,\n",
    ")\n",
    "p3(data)\n",
    "data[\"SW_OPER_MAGA_LR_1B\"][\"TFA_Variable\"].plot.line(x=\"Timestamp\");"
   ]
  },
  {
   "cell_type": "markdown",
   "id": "5debff71-40ed-43e6-9460-281dc3e00995",
   "metadata": {},
   "source": [
    "#### TFA: Wavelet"
   ]
  },
  {
   "cell_type": "code",
   "execution_count": null,
   "id": "66a5cf50-837b-4dab-a785-e93037b0e0b3",
   "metadata": {},
   "outputs": [],
   "source": [
    "p4 = tfa.processes.Wavelet()\n",
    "p4.set_config(\n",
    "    min_frequency=20 / 1000,\n",
    "    max_frequency=100 / 1000,\n",
    "    dj=0.1,\n",
    ")\n",
    "p4(data)\n",
    "print(data)"
   ]
  },
  {
   "cell_type": "markdown",
   "id": "6afbd8dd-a05c-4515-8380-faa8d276827c",
   "metadata": {},
   "source": [
    "### Plotting"
   ]
  },
  {
   "cell_type": "code",
   "execution_count": null,
   "id": "b0038eb0-9309-4c21-a922-af444627526e",
   "metadata": {},
   "outputs": [],
   "source": [
    "tfa.plotting.time_series(data)"
   ]
  },
  {
   "cell_type": "code",
   "execution_count": null,
   "id": "41194ff2-73d7-4773-a522-a4d8e94267fc",
   "metadata": {},
   "outputs": [],
   "source": [
    "tfa.plotting.spectrum(data, levels=np.linspace(-6, -1, 20))"
   ]
  },
  {
   "cell_type": "markdown",
   "id": "b3ce49f1-3f8c-450b-89f6-8cd4c3f7ecab",
   "metadata": {},
   "source": [
    "## MAGx_HR"
   ]
  },
  {
   "cell_type": "code",
   "execution_count": null,
   "id": "9a4cf418-8586-46f4-b75b-c4d69018706e",
   "metadata": {},
   "outputs": [],
   "source": [
    "data_params = dict(\n",
    "    collection=\"SW_OPER_MAGA_HR_1B\",\n",
    "    measurements=[\"B_NEC\"],\n",
    "    models=[\"Model='CHAOS-Core'+'CHAOS-Static'\"],\n",
    "    start_time=dt.datetime(2015, 3, 14, 12, 5, 0),\n",
    "    end_time=dt.datetime(2015, 3, 14, 12, 30, 0),\n",
    "    server_url=\"https://vires.services/ows\",\n",
    "    options=dict(asynchronous=False, show_progress=False),\n",
    ")\n",
    "data = create_paldata(PalDataItem.from_vires(**data_params))"
   ]
  },
  {
   "cell_type": "code",
   "execution_count": null,
   "id": "1687d74f-568d-465f-8b48-3c1979141454",
   "metadata": {},
   "outputs": [],
   "source": [
    "p1 = tfa.processes.Preprocess()\n",
    "p1.set_config(\n",
    "    dataset=\"SW_OPER_MAGA_HR_1B\",\n",
    "    active_variable=\"B_NEC_res_Model\",\n",
    "    active_component=2,\n",
    "    remove_model=True,\n",
    ")\n",
    "p2 = tfa.processes.Clean()\n",
    "p2.set_config(\n",
    "    window_size=300,\n",
    "    method=\"iqr\",\n",
    "    multiplier=1,\n",
    ")\n",
    "p3 = tfa.processes.Filter()\n",
    "p3.set_config(\n",
    "    sampling_rate=50,\n",
    "    cutoff_frequency=0.1,\n",
    ")\n",
    "p4 = tfa.processes.Wavelet()\n",
    "p4.set_config(\n",
    "    min_frequency=1,\n",
    "    max_frequency=25,\n",
    "    dj=0.1,\n",
    ")\n",
    "p1(data)\n",
    "p2(data)\n",
    "p3(data)\n",
    "p4(data);"
   ]
  },
  {
   "cell_type": "code",
   "execution_count": null,
   "id": "8e025749-d849-4191-9025-39d3f57979a3",
   "metadata": {},
   "outputs": [],
   "source": [
    "data"
   ]
  },
  {
   "cell_type": "code",
   "execution_count": null,
   "id": "a7b827e1-4169-4aea-9536-6d574c98aa9f",
   "metadata": {},
   "outputs": [],
   "source": [
    "tfa.plotting.time_series(data)"
   ]
  },
  {
   "cell_type": "code",
   "execution_count": null,
   "id": "62c3b301-8c17-4d6f-9ae8-5049a69796b7",
   "metadata": {},
   "outputs": [],
   "source": [
    "tfa.plotting.spectrum(data)"
   ]
  },
  {
   "cell_type": "markdown",
   "id": "c71d1299-057b-47a2-991d-bf47bd93fba8",
   "metadata": {},
   "source": [
    "## EFIx_TCT"
   ]
  },
  {
   "cell_type": "code",
   "execution_count": null,
   "id": "6a58b11c-dd5d-456e-9c6b-3a4dce5401b2",
   "metadata": {},
   "outputs": [],
   "source": [
    "data_params = dict(\n",
    "    collection=\"SW_EXPT_EFIA_TCT02\",\n",
    "    measurements=[\"Ehx\", \"Ehy\", \"Ehz\", \"Quality_flags\"],\n",
    "    start_time=dt.datetime(2015, 3, 14, 12, 5, 0),\n",
    "    end_time=dt.datetime(2015, 3, 14, 12, 30, 0),\n",
    "    server_url=\"https://vires.services/ows\",\n",
    "    options=dict(asynchronous=False, show_progress=False),\n",
    ")\n",
    "data = create_paldata(PalDataItem.from_vires(**data_params))"
   ]
  },
  {
   "cell_type": "code",
   "execution_count": null,
   "id": "48aa29bc-2468-4473-bfc4-a3af6a093d3d",
   "metadata": {},
   "outputs": [],
   "source": [
    "p1 = tfa.processes.Preprocess()\n",
    "p1.set_config(\n",
    "    dataset=\"SW_EXPT_EFIA_TCT02\",\n",
    "    active_variable=\"Eh_XYZ\",\n",
    "    active_component=2,\n",
    ")\n",
    "p2 = tfa.processes.Clean()\n",
    "p2.set_config(\n",
    "    window_size=300,\n",
    "    method=\"iqr\",\n",
    "    multiplier=1,\n",
    ")\n",
    "p3 = tfa.processes.Filter()\n",
    "p3.set_config(\n",
    "    sampling_rate=2,\n",
    "    cutoff_frequency=20 / 1000,\n",
    ")\n",
    "p4 = tfa.processes.Wavelet()\n",
    "p4.set_config(\n",
    "    min_frequency=20 / 1000,\n",
    "    max_frequency=200 / 1000,\n",
    "    dj=0.1,\n",
    ")\n",
    "p1(data)\n",
    "p2(data)\n",
    "p3(data)\n",
    "p4(data);"
   ]
  },
  {
   "cell_type": "code",
   "execution_count": null,
   "id": "3ac17711-83b9-4f9c-af1d-c9eb2bcae164",
   "metadata": {},
   "outputs": [],
   "source": [
    "data"
   ]
  },
  {
   "cell_type": "code",
   "execution_count": null,
   "id": "873d1ca2-6e7c-4e60-ae0e-0ba6cc661b61",
   "metadata": {},
   "outputs": [],
   "source": [
    "tfa.plotting.time_series(data)"
   ]
  },
  {
   "cell_type": "code",
   "execution_count": null,
   "id": "26b5b173-0f55-4293-af4e-60a96bddb4ec",
   "metadata": {},
   "outputs": [],
   "source": [
    "tfa.plotting.spectrum(data, levels=np.linspace(-2, 2, 20))"
   ]
  }
 ],
 "metadata": {
  "language_info": {
   "codemirror_mode": {
    "name": "ipython",
    "version": 3
   },
   "file_extension": ".py",
   "mimetype": "text/x-python",
   "name": "python",
   "nbconvert_exporter": "python",
   "pygments_lexer": "ipython3"
  },
  "vscode": {
   "interpreter": {
    "hash": "75048f8b19dc2376e8ce021c430fd300fc261773814cb02da2fef53030a6379a"
   }
  }
 },
 "nbformat": 4,
 "nbformat_minor": 5
}
