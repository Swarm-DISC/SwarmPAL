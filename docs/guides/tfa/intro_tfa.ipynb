{
 "cells": [
  {
   "cell_type": "markdown",
   "id": "0",
   "metadata": {},
   "source": [
    "# TFA: Time-Frequency Analysis"
   ]
  },
  {
   "cell_type": "markdown",
   "id": "1",
   "metadata": {},
   "source": [
    "An introduction to the TFA toolbox. This gives a basic demonstration of a wavelet analysis applied to the MAGx_LR data (magnetic field 1Hz). For more details, see the following pages/notebooks."
   ]
  },
  {
   "cell_type": "code",
   "execution_count": null,
   "id": "2",
   "metadata": {},
   "outputs": [],
   "source": [
    "import datetime as dt\n",
    "\n",
    "from swarmpal.io import create_paldata, PalDataItem\n",
    "from swarmpal.toolboxes import tfa"
   ]
  },
  {
   "cell_type": "markdown",
   "id": "3",
   "metadata": {},
   "source": [
    "## Fetching data"
   ]
  },
  {
   "cell_type": "markdown",
   "id": "4",
   "metadata": {},
   "source": [
    "`create_paldata` and `PalDataItem.from_vires` are used together to pull the desired data from VirES.\n",
    "\n",
    "- `collection=\"SW_OPER_MAGA_LR_1B\"` selects the MAGx_LR dataset from Swarm Alpha\n",
    "- `measurements=[\"B_NEC\"]` selects the magnetic vector, B_NEC, which we will analyse\n",
    "- We provide a model choice with `models=[\"Model='CHAOS-Core'+'CHAOS-Static'\"]`. This can be changed to e.g. `models=[\"Model=CHAOS\"]` which provides the full CHAOS model, including the magnetosphere. The string provided here is a VirES-compatible model string which specifies the chosen model (see [viresclient](https://viresclient.readthedocs.io/en/latest/available_parameters.html#models) for more information).\n",
    "- The start and end times select the period we want to analyse\n",
    "- The `pad_times` option supplies an extra padding of 3 hours of data before and after the analysis window, which prevents edge effects in the wavelet analysis\n",
    "\n",
    "Running this code creates a `DataTree` object in the `data` variable. This contains all the data we will use in our analysis."
   ]
  },
  {
   "cell_type": "code",
   "execution_count": null,
   "id": "5",
   "metadata": {},
   "outputs": [],
   "source": [
    "data = create_paldata(\n",
    "    PalDataItem.from_vires(\n",
    "        collection=\"SW_OPER_MAGA_LR_1B\",\n",
    "        measurements=[\"B_NEC\"],\n",
    "        models=[\"Model='CHAOS-Core'+'CHAOS-Static'\"],\n",
    "        auxiliaries=[\"QDLat\", \"MLT\"],\n",
    "        start_time=dt.datetime(2015, 3, 14),\n",
    "        end_time=dt.datetime(2015, 3, 14, 3, 59, 59),\n",
    "        pad_times=(dt.timedelta(hours=3), dt.timedelta(hours=3)),\n",
    "        server_url=\"https://vires.services/ows\",\n",
    "        options=dict(asynchronous=False, show_progress=False),\n",
    "    )\n",
    ")\n",
    "print(data)"
   ]
  },
  {
   "cell_type": "markdown",
   "id": "6",
   "metadata": {},
   "source": [
    "## Applying processes\n",
    "\n",
    "Now we will apply some processes to our data. These are all available within the `tfa` submodule which we imported earlier."
   ]
  },
  {
   "cell_type": "markdown",
   "id": "7",
   "metadata": {},
   "source": [
    "### TFA: Preprocess\n",
    "\n",
    "First we *preprocess* the data. To do this we use `Preprocess`, and, using `.set_config`, supply a configuration to control how that should behave. This will create a function that we can apply to the data - we will call this function `p1` since it is the first process we will apply.\n",
    "\n",
    "(Strictly speaking `p1` is a special object rather than a regular function in Python, but has been made *callable* so that we can use it like `p1(data)` to apply it to `data`)\n",
    "\n",
    "Some of the options are used here, but refer to the other demonstrations for more detail."
   ]
  },
  {
   "cell_type": "code",
   "execution_count": null,
   "id": "8",
   "metadata": {},
   "outputs": [],
   "source": [
    "p1 = tfa.processes.Preprocess()\n",
    "p1.set_config(\n",
    "    # Identifies the data we are working with\n",
    "    # (this dataset must be available in the DataTree above)\n",
    "    dataset=\"SW_OPER_MAGA_LR_1B\",\n",
    "    # Selects the variable we want to process\n",
    "    # B_NEC_res_Model is a special variable that is added to the data\n",
    "    #   when we also specify remove_model=True\n",
    "    active_variable=\"B_NEC_res_Model\",\n",
    "    # Selects which component (0, 1, 2) to process\n",
    "    # With the NEC vectors, 2 will refer to the \"C\" (centre / downward) component\n",
    "    active_component=2,\n",
    "    # Identifies the sampling rate (in Hz) of the data\n",
    "    sampling_rate=1,\n",
    "    # Removes the magnetic model from the data\n",
    "    # i.e. gets the data-model residual / perturbation\n",
    "    remove_model=True,\n",
    ")"
   ]
  },
  {
   "cell_type": "markdown",
   "id": "9",
   "metadata": {},
   "source": [
    "Now we have a process `p1`, we can apply that to the data:"
   ]
  },
  {
   "cell_type": "code",
   "execution_count": null,
   "id": "10",
   "metadata": {},
   "outputs": [],
   "source": [
    "p1(data);"
   ]
  },
  {
   "cell_type": "markdown",
   "id": "11",
   "metadata": {},
   "source": [
    "The preprocessing plays a number of roles but most importantly it sets a new array, `TFA_Variable`, in the data, which will be used in the following steps."
   ]
  },
  {
   "cell_type": "markdown",
   "id": "12",
   "metadata": {},
   "source": [
    "This data can be inspected directly using tools available through xarray:"
   ]
  },
  {
   "cell_type": "code",
   "execution_count": null,
   "id": "13",
   "metadata": {},
   "outputs": [],
   "source": [
    "data[\"SW_OPER_MAGA_LR_1B\"][\"TFA_Variable\"]"
   ]
  },
  {
   "cell_type": "code",
   "execution_count": null,
   "id": "14",
   "metadata": {},
   "outputs": [],
   "source": [
    "data[\"SW_OPER_MAGA_LR_1B\"][\"TFA_Variable\"].plot.line(x=\"TFA_Time\");"
   ]
  },
  {
   "cell_type": "markdown",
   "id": "15",
   "metadata": {},
   "source": [
    "The TFA toolbox also provides a function to inspect the data, `tfa.plotting.time_series`:"
   ]
  },
  {
   "cell_type": "code",
   "execution_count": null,
   "id": "16",
   "metadata": {},
   "outputs": [],
   "source": [
    "tfa.plotting.time_series(data);"
   ]
  },
  {
   "cell_type": "markdown",
   "id": "17",
   "metadata": {},
   "source": [
    "We can see an unphysical spike in the data. In this case we could have removed this bad data in the data request step (by filtering according to flag values), but here we will demonstrate the functionality of the TFA toolbox in removing this spike."
   ]
  },
  {
   "cell_type": "markdown",
   "id": "18",
   "metadata": {},
   "source": [
    "### TFA: Clean\n",
    "\n",
    "Just as with `Preprocess`, there is `Clean` which provides a data cleaning function to remove outliers."
   ]
  },
  {
   "cell_type": "code",
   "execution_count": null,
   "id": "19",
   "metadata": {},
   "outputs": [],
   "source": [
    "p2 = tfa.processes.Clean()\n",
    "p2.set_config(\n",
    "    window_size=300,\n",
    "    method=\"iqr\",\n",
    "    multiplier=1,\n",
    ")\n",
    "p2(data)\n",
    "tfa.plotting.time_series(data);"
   ]
  },
  {
   "cell_type": "markdown",
   "id": "20",
   "metadata": {},
   "source": [
    "### TFA: Filter\n",
    "\n",
    "Next we use `Filter`, which applies a high-pass filter to the data."
   ]
  },
  {
   "cell_type": "code",
   "execution_count": null,
   "id": "21",
   "metadata": {},
   "outputs": [],
   "source": [
    "p3 = tfa.processes.Filter()\n",
    "p3.set_config(\n",
    "    cutoff_frequency=20 / 1000,\n",
    ")\n",
    "p3(data)\n",
    "tfa.plotting.time_series(data);"
   ]
  },
  {
   "cell_type": "markdown",
   "id": "22",
   "metadata": {},
   "source": [
    "### TFA: Wavelet\n",
    "\n",
    "Now we get to the most interesting part: applying a wavelet analysis."
   ]
  },
  {
   "cell_type": "code",
   "execution_count": null,
   "id": "23",
   "metadata": {},
   "outputs": [],
   "source": [
    "p4 = tfa.processes.Wavelet()\n",
    "p4.set_config(\n",
    "    min_frequency=20 / 1000,\n",
    "    max_frequency=100 / 1000,\n",
    "    dj=0.1,\n",
    ")\n",
    "p4(data);"
   ]
  },
  {
   "cell_type": "markdown",
   "id": "24",
   "metadata": {},
   "source": [
    "The results of the wavelet analysis are stored as a spectrum in a new `wavelet_power` array:"
   ]
  },
  {
   "cell_type": "code",
   "execution_count": null,
   "id": "25",
   "metadata": {},
   "outputs": [],
   "source": [
    "data[\"SW_OPER_MAGA_LR_1B\"][\"wavelet_power\"]"
   ]
  },
  {
   "cell_type": "markdown",
   "id": "26",
   "metadata": {},
   "source": [
    "And we can view it with `tfa.plotting.spectrum`:"
   ]
  },
  {
   "cell_type": "code",
   "execution_count": null,
   "id": "27",
   "metadata": {},
   "outputs": [],
   "source": [
    "tfa.plotting.spectrum(data)"
   ]
  },
  {
   "cell_type": "markdown",
   "id": "28",
   "metadata": {},
   "source": [
    "## Plotting"
   ]
  },
  {
   "cell_type": "markdown",
   "id": "29",
   "metadata": {},
   "source": [
    "We showed basic usage of `tfa.plotting.time_series` and `tfa.plotting.spectrum` above. These have some extra options to control their behaviour. For example:\n",
    "\n",
    "- Adding extra x axes with `extra_x`\n",
    "- Selecting a specific time window with `tlims`"
   ]
  },
  {
   "cell_type": "code",
   "execution_count": null,
   "id": "30",
   "metadata": {},
   "outputs": [],
   "source": [
    "tfa.plotting.time_series(\n",
    "    data,\n",
    "    extra_x=(\"QDLat\", \"MLT\", \"Latitude\"),\n",
    "    tlims=(\"2015-03-14T03:00:00\", \"2015-03-14T03:30:00\"),\n",
    ");"
   ]
  },
  {
   "cell_type": "markdown",
   "id": "31",
   "metadata": {},
   "source": [
    "There is also a quicklook plot that combines the time series, spectrum, and wave power (from `tfa.plotting.wave_index`) into one figure:"
   ]
  },
  {
   "cell_type": "code",
   "execution_count": null,
   "id": "32",
   "metadata": {},
   "outputs": [],
   "source": [
    "tfa.plotting.quicklook(\n",
    "    data,\n",
    "    tlims=(\"2015-03-14T03:00:00\", \"2015-03-14T03:30:00\"),\n",
    "    extra_x=(\"QDLat\", \"MLT\", \"Latitude\"),\n",
    ");"
   ]
  }
 ],
 "metadata": {
  "language_info": {
   "codemirror_mode": {
    "name": "ipython",
    "version": 3
   },
   "file_extension": ".py",
   "mimetype": "text/x-python",
   "name": "python",
   "nbconvert_exporter": "python",
   "pygments_lexer": "ipython3"
  },
  "vscode": {
   "interpreter": {
    "hash": "75048f8b19dc2376e8ce021c430fd300fc261773814cb02da2fef53030a6379a"
   }
  }
 },
 "nbformat": 4,
 "nbformat_minor": 5
}
