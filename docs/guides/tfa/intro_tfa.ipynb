{
 "cells": [
  {
   "cell_type": "markdown",
   "id": "5c6e9800-e9d0-498b-a4d5-e2fba6e44db7",
   "metadata": {},
   "source": [
    "# TFA: Time-Frequency Analysis (WIP)"
   ]
  },
  {
   "cell_type": "markdown",
   "id": "733b5e49-b6c5-4cff-b18a-08dfa6b42953",
   "metadata": {},
   "source": [
    "A work in progress for the new interface for TFA, just showing the data access and preprocessing."
   ]
  },
  {
   "cell_type": "code",
   "execution_count": null,
   "id": "10d200f5-fc1b-4300-940d-91d8a5bb3347",
   "metadata": {},
   "outputs": [],
   "source": [
    "from swarmpal.io import create_paldata, PalDataItem\n",
    "from swarmpal.toolboxes import tfa"
   ]
  },
  {
   "cell_type": "markdown",
   "id": "cae95aa9-fb8c-426c-ae21-85c283b4336f",
   "metadata": {},
   "source": [
    "## MAGx_LR"
   ]
  },
  {
   "cell_type": "code",
   "execution_count": null,
   "id": "12d73c76-9bee-409f-8e95-76a848a2d979",
   "metadata": {},
   "outputs": [],
   "source": [
    "data_params = dict(\n",
    "    collection=\"SW_OPER_MAGA_LR_1B\",\n",
    "    measurements=[\"B_NEC\"],\n",
    "    models=[\"CHAOS\"],\n",
    "    start_time=\"2016-01-01T00:00:00\",\n",
    "    end_time=\"2016-01-01T01:00:00\",\n",
    "    # start_time=dt.datetime(2016, 1, 1),  # Can use ISO string or datetime\n",
    "    # end_time=dt.datetime(2016, 1, 1, 3),\n",
    "    server_url=\"https://vires.services/ows\",\n",
    "    options=dict(asynchronous=False, show_progress=False),\n",
    ")\n",
    "data = create_paldata(PalDataItem.from_vires(**data_params))\n",
    "print(data)"
   ]
  },
  {
   "cell_type": "code",
   "execution_count": null,
   "id": "6215c624-7c47-4f66-9e36-efc5f9b11e7f",
   "metadata": {},
   "outputs": [],
   "source": [
    "p1 = tfa.processes.Preprocess(\n",
    "    config=dict(\n",
    "        dataset=\"SW_OPER_MAGA_LR_1B\",\n",
    "        active_variable=\"B_NEC_res_Model\",\n",
    "        remove_model=True,\n",
    "        convert_to_mfa=True,\n",
    "    )\n",
    ")\n",
    "data = data.swarmpal.apply(p1)  # p1(data) also works. Let's just do that instead?\n",
    "print(data)"
   ]
  },
  {
   "cell_type": "code",
   "execution_count": null,
   "id": "af2f78a2-1c6b-4b97-879b-fa6aa55f1a27",
   "metadata": {},
   "outputs": [],
   "source": [
    "data[\"SW_OPER_MAGA_LR_1B\"][\"B_MFA\"].plot.line(x=\"Timestamp\");"
   ]
  },
  {
   "cell_type": "markdown",
   "id": "c71d1299-057b-47a2-991d-bf47bd93fba8",
   "metadata": {},
   "source": [
    "## EFIx_TCT"
   ]
  },
  {
   "cell_type": "code",
   "execution_count": null,
   "id": "6a58b11c-dd5d-456e-9c6b-3a4dce5401b2",
   "metadata": {},
   "outputs": [],
   "source": [
    "data_params = dict(\n",
    "    collection=\"SW_EXPT_EFIA_TCT02\",\n",
    "    measurements=[\"Ehx\", \"Ehy\", \"Ehz\", \"Quality_flags\"],\n",
    "    models=[\"IGRF\"],\n",
    "    start_time=\"2016-01-01T00:00:00\",\n",
    "    end_time=\"2016-01-01T00:10:00\",\n",
    "    server_url=\"https://vires.services/ows\",\n",
    "    options=dict(asynchronous=False, show_progress=False),\n",
    ")\n",
    "data = create_paldata(PalDataItem.from_vires(**data_params))\n",
    "print(data)"
   ]
  },
  {
   "cell_type": "code",
   "execution_count": null,
   "id": "48aa29bc-2468-4473-bfc4-a3af6a093d3d",
   "metadata": {},
   "outputs": [],
   "source": [
    "p = tfa.processes.Preprocess(\n",
    "    config=dict(\n",
    "        dataset=\"SW_EXPT_EFIA_TCT02\",\n",
    "        active_variable=\"Eh_XYZ\",\n",
    "    )\n",
    ")\n",
    "data = data.swarmpal.apply(p)\n",
    "print(data)"
   ]
  },
  {
   "cell_type": "code",
   "execution_count": null,
   "id": "873d1ca2-6e7c-4e60-ae0e-0ba6cc661b61",
   "metadata": {},
   "outputs": [],
   "source": [
    "data[\"SW_EXPT_EFIA_TCT02\"][\"Eh_XYZ\"].plot.line(x=\"Timestamp\");"
   ]
  }
 ],
 "metadata": {
  "language_info": {
   "codemirror_mode": {
    "name": "ipython",
    "version": 3
   },
   "file_extension": ".py",
   "mimetype": "text/x-python",
   "name": "python",
   "nbconvert_exporter": "python",
   "pygments_lexer": "ipython3"
  },
  "vscode": {
   "interpreter": {
    "hash": "75048f8b19dc2376e8ce021c430fd300fc261773814cb02da2fef53030a6379a"
   }
  }
 },
 "nbformat": 4,
 "nbformat_minor": 5
}
