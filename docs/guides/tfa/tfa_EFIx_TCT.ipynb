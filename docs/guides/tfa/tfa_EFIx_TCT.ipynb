{
 "cells": [
  {
   "cell_type": "markdown",
   "id": "0",
   "metadata": {},
   "source": [
    "# Analysis of Swarm Electric Field data"
   ]
  },
  {
   "cell_type": "markdown",
   "id": "1",
   "metadata": {},
   "source": [
    "In this example we will use the `SW_EXPT_EFIx_TCT02` dataset which includes electric field measurements from the VxB product, in two directions, “horizontal” or “vertical”, both in the instrument XYZ cartesian coordinate frame.\n",
    "\n",
    "For more information about the data and other ways to access it, see:\n",
    "\n",
    "- [Data handbook](https://swarmhandbook.earth.esa.int/catalogue/SW_EFIx_TCT02)\n",
    "- [viresclient documentation](https://viresclient.readthedocs.io/en/latest/available_parameters.html)\n",
    "- [EFIxTCT demo notebook](https://notebooks.vires.services/notebooks/03k2_demo-efixtct)"
   ]
  },
  {
   "cell_type": "code",
   "execution_count": null,
   "id": "2",
   "metadata": {},
   "outputs": [],
   "source": [
    "from __future__ import annotations\n",
    "\n",
    "import datetime as dt\n",
    "\n",
    "from swarmpal.io import PalDataItem, create_paldata\n",
    "from swarmpal.toolboxes import tfa"
   ]
  },
  {
   "cell_type": "markdown",
   "id": "3",
   "metadata": {},
   "source": [
    "## Fetching data"
   ]
  },
  {
   "cell_type": "code",
   "execution_count": null,
   "id": "4",
   "metadata": {},
   "outputs": [],
   "source": [
    "data_params = dict(\n",
    "    collection=\"SW_EXPT_EFIA_TCT02\",\n",
    "    measurements=[\"Ehx\", \"Ehy\", \"Ehz\", \"Quality_flags\"],\n",
    "    auxiliaries=[\"QDLat\", \"MLT\"],\n",
    "    start_time=dt.datetime(2015, 3, 14, 12, 5, 0),\n",
    "    end_time=dt.datetime(2015, 3, 14, 12, 30, 0),\n",
    "    pad_times=(dt.timedelta(hours=3), dt.timedelta(hours=3)),\n",
    "    server_url=\"https://vires.services/ows\",\n",
    "    options=dict(asynchronous=False, show_progress=False),\n",
    ")\n",
    "data = create_paldata(PalDataItem.from_vires(**data_params));"
   ]
  },
  {
   "cell_type": "markdown",
   "id": "5",
   "metadata": {},
   "source": [
    "## Processing"
   ]
  },
  {
   "cell_type": "markdown",
   "id": "6",
   "metadata": {},
   "source": [
    "While the data above contains separate variables for each vector component (\"Ehx\", \"Ehy\", \"Ehz\"), the TFA toolbox can interpret the variable \"Eh_XYZ\" as the combination of these.\n",
    "\n",
    "Note that this dataset is at 2Hz so we must specify `sampling_rate=2`."
   ]
  },
  {
   "cell_type": "code",
   "execution_count": null,
   "id": "7",
   "metadata": {},
   "outputs": [],
   "source": [
    "p1 = tfa.processes.Preprocess()\n",
    "p1.set_config(\n",
    "    dataset=\"SW_EXPT_EFIA_TCT02\",\n",
    "    active_variable=\"Eh_XYZ\",\n",
    "    active_component=2,\n",
    "    sampling_rate=2,\n",
    ")\n",
    "p2 = tfa.processes.Clean()\n",
    "p2.set_config(\n",
    "    window_size=300,\n",
    "    method=\"iqr\",\n",
    "    multiplier=1,\n",
    ")\n",
    "p3 = tfa.processes.Filter()\n",
    "p3.set_config(\n",
    "    cutoff_frequency=20 / 1000,\n",
    ")\n",
    "p4 = tfa.processes.Wavelet()\n",
    "p4.set_config(\n",
    "    min_frequency=20 / 1000,\n",
    "    max_frequency=200 / 1000,\n",
    "    dj=0.1,\n",
    ")\n",
    "p1(data)\n",
    "p2(data)\n",
    "p3(data)\n",
    "p4(data);"
   ]
  },
  {
   "cell_type": "markdown",
   "id": "8",
   "metadata": {},
   "source": [
    "## Plotting"
   ]
  },
  {
   "cell_type": "code",
   "execution_count": null,
   "id": "9",
   "metadata": {},
   "outputs": [],
   "source": [
    "tfa.plotting.quicklook(data);"
   ]
  }
 ],
 "metadata": {
  "language_info": {
   "codemirror_mode": {
    "name": "ipython",
    "version": 3
   },
   "file_extension": ".py",
   "mimetype": "text/x-python",
   "name": "python",
   "nbconvert_exporter": "python",
   "pygments_lexer": "ipython3"
  }
 },
 "nbformat": 4,
 "nbformat_minor": 5
}
