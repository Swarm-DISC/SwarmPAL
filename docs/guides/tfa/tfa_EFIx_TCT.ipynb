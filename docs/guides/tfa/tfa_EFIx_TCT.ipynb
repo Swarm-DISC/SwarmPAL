{
 "cells": [
  {
   "cell_type": "markdown",
   "id": "416d0a2f-2891-42b4-945e-4c2757f35ae2",
   "metadata": {},
   "source": [
    "# Analysis of Swarm Electric Field data"
   ]
  },
  {
   "cell_type": "markdown",
   "id": "ac6252e0-5d02-48c7-9f83-f16563cca3c9",
   "metadata": {},
   "source": [
    "In this example we will use the `SW_EXPT_EFIx_TCT02` dataset which includes electric field measurements from the VxB product, in two directions, “horizontal” or “vertical”, both in the instrument XYZ cartesian coordinate frame.\n",
    "\n",
    "For more information about the data and other ways to access it, see:\n",
    "\n",
    "- [Data handbook](https://swarmhandbook.earth.esa.int/catalogue/SW_EFIx_TCT02)\n",
    "- [viresclient documentation](https://viresclient.readthedocs.io/en/latest/available_parameters.html)\n",
    "- [EFIxTCT demo notebook](https://notebooks.vires.services/notebooks/03k2_demo-efixtct)"
   ]
  },
  {
   "cell_type": "code",
   "execution_count": null,
   "id": "d5674e30-fb16-4e7e-88ad-7e943ec94377",
   "metadata": {},
   "outputs": [],
   "source": [
    "import datetime as dt\n",
    "\n",
    "from swarmpal.io import create_paldata, PalDataItem\n",
    "from swarmpal.toolboxes import tfa"
   ]
  },
  {
   "cell_type": "markdown",
   "id": "d247bb6b-f5d4-4940-8ae0-ed5104260c8d",
   "metadata": {},
   "source": [
    "## Fetching data"
   ]
  },
  {
   "cell_type": "code",
   "execution_count": null,
   "id": "e5609465-88b5-4da9-8454-b5540322d3dc",
   "metadata": {},
   "outputs": [],
   "source": [
    "data_params = dict(\n",
    "    collection=\"SW_EXPT_EFIA_TCT02\",\n",
    "    measurements=[\"Ehx\", \"Ehy\", \"Ehz\", \"Quality_flags\"],\n",
    "    auxiliaries=[\"QDLat\", \"MLT\"],\n",
    "    start_time=dt.datetime(2015, 3, 14, 12, 5, 0),\n",
    "    end_time=dt.datetime(2015, 3, 14, 12, 30, 0),\n",
    "    pad_times=(dt.timedelta(hours=3), dt.timedelta(hours=3)),\n",
    "    server_url=\"https://vires.services/ows\",\n",
    "    options=dict(asynchronous=False, show_progress=False),\n",
    ")\n",
    "data = create_paldata(PalDataItem.from_vires(**data_params));"
   ]
  },
  {
   "cell_type": "markdown",
   "id": "66d525da-8e86-4998-bfc2-dad5de64f15e",
   "metadata": {},
   "source": [
    "## Processing"
   ]
  },
  {
   "cell_type": "markdown",
   "id": "d8b04719-da62-468f-8653-7369a2790c9b",
   "metadata": {},
   "source": [
    "While the data above contains separate variables for each vector component (\"Ehx\", \"Ehy\", \"Ehz\"), the TFA toolbox can interpret the variable \"Eh_XYZ\" as the combination of these.\n",
    "\n",
    "Note that this dataset is at 2Hz so we must specify `sampling_rate=2`."
   ]
  },
  {
   "cell_type": "code",
   "execution_count": null,
   "id": "8bcad701-1975-4f94-b56b-f4d13d2ada42",
   "metadata": {},
   "outputs": [],
   "source": [
    "p1 = tfa.processes.Preprocess()\n",
    "p1.set_config(\n",
    "    dataset=\"SW_EXPT_EFIA_TCT02\",\n",
    "    active_variable=\"Eh_XYZ\",\n",
    "    active_component=2,\n",
    "    sampling_rate=2,\n",
    ")\n",
    "p2 = tfa.processes.Clean()\n",
    "p2.set_config(\n",
    "    window_size=300,\n",
    "    method=\"iqr\",\n",
    "    multiplier=1,\n",
    ")\n",
    "p3 = tfa.processes.Filter()\n",
    "p3.set_config(\n",
    "    cutoff_frequency=20 / 1000,\n",
    ")\n",
    "p4 = tfa.processes.Wavelet()\n",
    "p4.set_config(\n",
    "    min_frequency=20 / 1000,\n",
    "    max_frequency=200 / 1000,\n",
    "    dj=0.1,\n",
    ")\n",
    "p1(data)\n",
    "p2(data)\n",
    "p3(data)\n",
    "p4(data);"
   ]
  },
  {
   "cell_type": "markdown",
   "id": "f167c3a5-98e0-4533-9cbf-f138155da4dd",
   "metadata": {},
   "source": [
    "## Plotting"
   ]
  },
  {
   "cell_type": "code",
   "execution_count": null,
   "id": "72fc4219-5530-4b46-becf-6469b1db5575",
   "metadata": {},
   "outputs": [],
   "source": [
    "tfa.plotting.quicklook(data);"
   ]
  }
 ],
 "metadata": {
  "language_info": {
   "codemirror_mode": {
    "name": "ipython",
    "version": 3
   },
   "file_extension": ".py",
   "mimetype": "text/x-python",
   "name": "python",
   "nbconvert_exporter": "python",
   "pygments_lexer": "ipython3"
  }
 },
 "nbformat": 4,
 "nbformat_minor": 5
}
