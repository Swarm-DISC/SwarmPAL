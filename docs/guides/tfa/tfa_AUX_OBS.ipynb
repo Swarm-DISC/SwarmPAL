{
 "cells": [
  {
   "cell_type": "markdown",
   "id": "783bd806-a4e6-434f-9494-cdd98cce9b47",
   "metadata": {},
   "source": [
    "# Analysis of Ground Observatory data"
   ]
  },
  {
   "cell_type": "markdown",
   "id": "2c621f95-3850-4250-afb7-c54b0f4dfe63",
   "metadata": {},
   "source": [
    "VirES also has ground observatory data from INTERMAGNET (via the \"AUX_OBS\" collections). We can apply the same TFA tools to this data.\n",
    "\n",
    "For more details, see the [viresclient documentation](https://viresclient.readthedocs.io/en/latest/available_parameters.html) and the [AUX_OBS demo notebook](https://notebooks.vires.services/notebooks/04c2_geomag-ground-data-vires)"
   ]
  },
  {
   "cell_type": "code",
   "execution_count": null,
   "id": "9adecf37-9d3d-4219-84cb-5b7110ec9fcc",
   "metadata": {},
   "outputs": [],
   "source": [
    "import datetime as dt\n",
    "\n",
    "from swarmpal.io import create_paldata, PalDataItem\n",
    "from swarmpal.toolboxes import tfa"
   ]
  },
  {
   "cell_type": "markdown",
   "id": "c4492e83-0c1c-47a4-b92d-13c174d057e5",
   "metadata": {},
   "source": [
    "## Fetching data"
   ]
  },
  {
   "cell_type": "markdown",
   "id": "e975d53f-3576-4249-baed-c76d23040351",
   "metadata": {},
   "source": [
    "Here we access the 1-minute data (the \"M\" in `OBSM2_`) from Hornsund (`HRN`). The three-letter code is an INTERMAGNET observatory code (see <https://intermagnet.github.io/metadata/#/imos>).\n",
    "\n",
    "Since this is only 1-minute time resolution, only the very low frequency bands can be found (i.e. Pc5)."
   ]
  },
  {
   "cell_type": "code",
   "execution_count": null,
   "id": "1cf70e30-1fcb-4fd8-930b-c5ee16fa80d8",
   "metadata": {},
   "outputs": [],
   "source": [
    "data_params = dict(\n",
    "    collection=\"SW_OPER_AUX_OBSM2_:HRN\",\n",
    "    measurements=[\"B_NEC\"],\n",
    "    models=[\"Model='CHAOS-Core'+'CHAOS-Static'\"],\n",
    "    auxiliaries=[\"MLT\"],\n",
    "    start_time=dt.datetime(2015, 3, 14, 0, 0, 0),\n",
    "    end_time=dt.datetime(2015, 3, 14, 23, 59, 59),\n",
    "    pad_times=(dt.timedelta(hours=3), dt.timedelta(hours=3)),\n",
    "    server_url=\"https://vires.services/ows\",\n",
    "    options=dict(asynchronous=False, show_progress=False),\n",
    ")\n",
    "data = create_paldata(PalDataItem.from_vires(**data_params))"
   ]
  },
  {
   "cell_type": "markdown",
   "id": "56aa6b9d-8ece-4aa4-8738-a62ffe9eb478",
   "metadata": {},
   "source": [
    "## Processing"
   ]
  },
  {
   "cell_type": "code",
   "execution_count": null,
   "id": "70394c05-7dcb-4bc7-933c-7256a7a7b10a",
   "metadata": {},
   "outputs": [],
   "source": [
    "p1 = tfa.processes.Preprocess()\n",
    "p1.set_config(\n",
    "    dataset=\"SW_OPER_AUX_OBSM2_:HRN\",\n",
    "    active_variable=\"B_NEC_res_Model\",\n",
    "    active_component=0,\n",
    "    sampling_rate=1 / 60,\n",
    "    remove_model=True,\n",
    ")\n",
    "p2 = tfa.processes.Clean()\n",
    "p2.set_config(\n",
    "    window_size=10,\n",
    "    method=\"iqr\",\n",
    "    multiplier=1,\n",
    ")\n",
    "p3 = tfa.processes.Filter()\n",
    "p3.set_config(\n",
    "    cutoff_frequency=0.001,\n",
    ")\n",
    "p4 = tfa.processes.Wavelet()\n",
    "p4.set_config(\n",
    "    min_scale=1000 / 8,\n",
    "    max_scale=1000 / 1,\n",
    "    dj=0.1,\n",
    ")\n",
    "\n",
    "p1(data)\n",
    "p2(data)\n",
    "p3(data)\n",
    "p4(data);"
   ]
  },
  {
   "cell_type": "markdown",
   "id": "528eef47-568e-4ab5-88fd-88d798b0bd38",
   "metadata": {},
   "source": [
    "## Plotting"
   ]
  },
  {
   "cell_type": "markdown",
   "id": "14e758c8-0280-4b9c-8154-94f8e3dc7a16",
   "metadata": {},
   "source": [
    "Note that since the ground station data are provided in a 1-minute sampling time, the frequency range to be studied must be very low, i.e. Pc5 (2 - 7 mHz). Frequencies higher than 8 mHz cannot really be captured with these data, since the Nyquist frequency for a sampling time dt of 60 seconds is 1/(2*60) = 8.33 mHz!"
   ]
  },
  {
   "cell_type": "code",
   "execution_count": null,
   "id": "b90715b6-eac3-4712-b61d-71b8cbe834b6",
   "metadata": {},
   "outputs": [],
   "source": [
    "tfa.plotting.quicklook(data, extra_x=(\"MLT\",));"
   ]
  }
 ],
 "metadata": {
  "language_info": {
   "codemirror_mode": {
    "name": "ipython",
    "version": 3
   },
   "file_extension": ".py",
   "mimetype": "text/x-python",
   "name": "python",
   "nbconvert_exporter": "python",
   "pygments_lexer": "ipython3"
  }
 },
 "nbformat": 4,
 "nbformat_minor": 5
}
