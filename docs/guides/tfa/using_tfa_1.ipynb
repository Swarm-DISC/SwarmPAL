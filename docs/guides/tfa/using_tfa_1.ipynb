{
 "cells": [
  {
   "cell_type": "markdown",
   "metadata": {},
   "source": [
    "# Using the TFA toolbox"
   ]
  },
  {
   "cell_type": "markdown",
   "metadata": {},
   "source": [
    "   Imports:"
   ]
  },
  {
   "cell_type": "code",
   "execution_count": null,
   "metadata": {},
   "outputs": [],
   "source": [
    "import datetime as dt\n",
    "import swarmpal.toolboxes.tfa.tfa_processor as tfa"
   ]
  },
  {
   "cell_type": "markdown",
   "metadata": {},
   "source": [
    "Provide values for the parameters of the analysis.  The `dataset` can be chosen from one of the compatible magnetic data collections, and the `var` is a VirES-compatible variable string (see [viresclient](https://viresclient.readthedocs.io/en/latest/available_parameters.html) for more information). The \"start\" and \"end\" times must be given as a datetime object. If the data are required as they are, set the `remove_chaos_model` parameter to False. Otherwise, if the inputs are magnetic field data and the analysis requires subtraction of the model field, set the parameter to True. "
   ]
  },
  {
   "cell_type": "code",
   "execution_count": null,
   "metadata": {},
   "outputs": [],
   "source": [
    "dataset = \"SW_OPER_MAGA_LR_1B\"\n",
    "var = \"B_NEC\"\n",
    "remove_chaos_model = True\n",
    "time_start = dt.datetime(2015, 3, 14)\n",
    "time_end = dt.datetime(2015, 3, 14, 3, 59, 59)"
   ]
  },
  {
   "cell_type": "markdown",
   "metadata": {},
   "source": [
    "Now run the TfaInput to retrieve the selected data."
   ]
  },
  {
   "cell_type": "code",
   "execution_count": null,
   "metadata": {},
   "outputs": [],
   "source": [
    "inputs = tfa.TfaInput(\n",
    "    collection=dataset,\n",
    "    start_time=time_start,\n",
    "    end_time=time_end,\n",
    "    initialise=True,\n",
    "    varname=var,\n",
    "    sampling_time=\"PT1S\",\n",
    "    remove_chaos=remove_chaos_model,\n",
    ")"
   ]
  },
  {
   "cell_type": "markdown",
   "metadata": {},
   "source": [
    "We can now use the full arsenal of functions to perform pre-processing of the data."
   ]
  },
  {
   "cell_type": "code",
   "execution_count": null,
   "metadata": {},
   "outputs": [],
   "source": [
    "inputs.flag_cleaning()\n",
    "inputs.subtract_chaos()\n",
    "inputs.convert_to_mfa()\n",
    "# inputs.calculate_magnitude()"
   ]
  },
  {
   "cell_type": "markdown",
   "metadata": {},
   "source": [
    "Now that the model field has been removed and the transformation to Mean Field Aligned coordinate system has been performed, we can select one of the components for Wavelet processing, e.g. the compressional, by initiating the `TfaProcessor` object and specifying the name of the variable and the component number (0, 1, or 2). For MFA, 0 is the poloidal component, 1 the toroidal and 2 the compressional. Similarly for B_NEC, the numbers correspond to the North (0), East (1) or Center (2) components."
   ]
  },
  {
   "cell_type": "code",
   "execution_count": null,
   "metadata": {},
   "outputs": [],
   "source": [
    "processor = tfa.TfaProcessor(\n",
    "    inputs, active_variable={\"varname\": \"B_MFA\", \"component\": 2}\n",
    ")"
   ]
  },
  {
   "cell_type": "code",
   "execution_count": null,
   "metadata": {},
   "outputs": [],
   "source": [
    "processor.plotX()"
   ]
  },
  {
   "cell_type": "markdown",
   "metadata": {},
   "source": [
    "To perform cleaning on the data, we initialize a `Cleaning` object with the parameters of our choice and then apply it on the data with the `TfaProcessor` `apply()` function.\n",
    "The active variable series can be plotted by means of the `plotX()` function."
   ]
  },
  {
   "cell_type": "code",
   "execution_count": null,
   "metadata": {},
   "outputs": [],
   "source": [
    "c = tfa.Cleaning({\"Window_Size\": 300, \"Method\": \"iqr\", \"Multiplier\": 1})\n",
    "processor.apply(c)\n",
    "processor.plotX()"
   ]
  },
  {
   "cell_type": "markdown",
   "metadata": {},
   "source": [
    "Similarly, the filtering can be performed by first initializing a `Filtering` object with the parameters of our choosing and then applying in on the data."
   ]
  },
  {
   "cell_type": "code",
   "execution_count": null,
   "metadata": {},
   "outputs": [],
   "source": [
    "f = tfa.Filtering({\"Cutoff_Frequency\": 20 / 1000})\n",
    "processor.apply(f)\n",
    "processor.plotX()"
   ]
  },
  {
   "cell_type": "markdown",
   "metadata": {},
   "source": [
    "In the same way, the wavelet transform is applied. The result of the wavelet can be visualized by means of the image() function"
   ]
  },
  {
   "cell_type": "code",
   "execution_count": null,
   "metadata": {},
   "outputs": [],
   "source": [
    "w = tfa.Wavelet(\n",
    "    {\n",
    "        \"Min_Frequency\": 20 / 1000,\n",
    "        \"Max_Frequency\": 100 / 1000,\n",
    "        \"dj\": 0.1,\n",
    "    }\n",
    ")\n",
    "processor.apply(w)\n",
    "processor.image()"
   ]
  },
  {
   "cell_type": "markdown",
   "metadata": {},
   "source": [
    "This is not very useful for large time intervals e.g. an entire day, so the signal can be cut-down into segments, based on the magnetic latitude of the satellite. By default the segments correspond to tracks (half-orbits) from -75 to +75 degrees in Mag. Lat."
   ]
  },
  {
   "cell_type": "code",
   "execution_count": null,
   "metadata": {},
   "outputs": [],
   "source": [
    "processor.create_segment_index()"
   ]
  },
  {
   "cell_type": "markdown",
   "metadata": {},
   "source": [
    "All the plotting functions can now be used to visualize a specific segment."
   ]
  },
  {
   "cell_type": "code",
   "execution_count": null,
   "metadata": {},
   "outputs": [],
   "source": [
    "processor.image(segment=4)"
   ]
  },
  {
   "cell_type": "markdown",
   "metadata": {},
   "source": [
    "Additional positional information (Magnetic Latitude and MLT) can also be plotted (again either for the entire series or for a specific segment)"
   ]
  },
  {
   "cell_type": "code",
   "execution_count": null,
   "metadata": {},
   "outputs": [],
   "source": [
    "processor.plotAUX(segment=4)"
   ]
  },
  {
   "cell_type": "markdown",
   "metadata": {},
   "source": [
    "A simple for loop can be written to produce plots for all segments and save them locally."
   ]
  },
  {
   "cell_type": "code",
   "execution_count": null,
   "metadata": {},
   "outputs": [],
   "source": [
    "# import matplotlib as mpl\n",
    "# import matplotlib.pyplot as plt\n",
    "\n",
    "# mpl.rcParams[\n",
    "#     \"figure.max_open_warning\"\n",
    "# ] = 100  # stops the warning when many plots are being produced\n",
    "\n",
    "# for i in range(int(processor.Max_Segment) + 1):\n",
    "#     fig, ax = plt.subplots(3, 1, gridspec_kw={\"height_ratios\": [1, 1.5, 1]})\n",
    "#     plt.subplot(3, 1, 1)\n",
    "#     processor.plotX(segment=i)\n",
    "#     plt.subplot(3, 1, 2)\n",
    "#     processor.image(segment=i, cbar_lims=[-3, 3])\n",
    "#     plt.subplot(3, 1, 3)\n",
    "#     processor.plotAUX(segment=i)\n",
    "\n",
    "#     plt.savefig(\"segment_%02d.png\" % i)\n",
    "#     plt.close(fig)"
   ]
  }
 ],
 "metadata": {
  "language_info": {
   "codemirror_mode": {
    "name": "ipython",
    "version": 3
   },
   "file_extension": ".py",
   "mimetype": "text/x-python",
   "name": "python",
   "nbconvert_exporter": "python",
   "pygments_lexer": "ipython3"
  },
  "vscode": {
   "interpreter": {
    "hash": "75048f8b19dc2376e8ce021c430fd300fc261773814cb02da2fef53030a6379a"
   }
  }
 },
 "nbformat": 4,
 "nbformat_minor": 2
}
