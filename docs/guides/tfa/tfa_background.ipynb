{
 "cells": [
  {
   "cell_type": "markdown",
   "id": "0",
   "metadata": {},
   "source": [
    "# TFA and the Wavelet Transform"
   ]
  },
  {
   "cell_type": "markdown",
   "id": "1",
   "metadata": {},
   "source": [
    "Here we delve a little into the background of the TFA toolbox.\n",
    "\n",
    "First we will fetch some data to setup the framework of a typical TFA application, but then we will replace the data with dummy data to demonstrate what the TFA toolbox does."
   ]
  },
  {
   "cell_type": "code",
   "execution_count": null,
   "id": "2",
   "metadata": {},
   "outputs": [],
   "source": [
    "import datetime as dt\n",
    "import matplotlib.pyplot as plt\n",
    "import numpy as np\n",
    "\n",
    "from swarmpal.io import create_paldata, PalDataItem\n",
    "from swarmpal.toolboxes import tfa"
   ]
  },
  {
   "cell_type": "markdown",
   "id": "3",
   "metadata": {},
   "source": [
    "Get some data and apply the preprocessing."
   ]
  },
  {
   "cell_type": "code",
   "execution_count": null,
   "id": "4",
   "metadata": {},
   "outputs": [],
   "source": [
    "data = create_paldata(\n",
    "    PalDataItem.from_vires(\n",
    "        collection=\"SW_OPER_MAGA_LR_1B\",\n",
    "        measurements=[\"F\"],\n",
    "        start_time=dt.datetime(2015, 3, 18),\n",
    "        end_time=dt.datetime(2015, 3, 18, 0, 15, 0),\n",
    "        server_url=\"https://vires.services/ows\",\n",
    "        options=dict(asynchronous=False, show_progress=False),\n",
    "    )\n",
    ")"
   ]
  },
  {
   "cell_type": "code",
   "execution_count": null,
   "id": "5",
   "metadata": {},
   "outputs": [],
   "source": [
    "p1 = tfa.processes.Preprocess()\n",
    "p1.set_config(\n",
    "    dataset=\"SW_OPER_MAGA_LR_1B\",\n",
    "    active_variable=\"F\",\n",
    "    sampling_rate=1,\n",
    ")\n",
    "p1(data);"
   ]
  },
  {
   "cell_type": "markdown",
   "id": "6",
   "metadata": {},
   "source": [
    "The `TFA_Variable` has been set with the content of `F` (the scalar magnetic data)."
   ]
  },
  {
   "cell_type": "code",
   "execution_count": null,
   "id": "7",
   "metadata": {},
   "outputs": [],
   "source": [
    "data[\"SW_OPER_MAGA_LR_1B\"][\"TFA_Variable\"].plot.line(x=\"TFA_Time\");"
   ]
  },
  {
   "cell_type": "markdown",
   "id": "8",
   "metadata": {},
   "source": [
    "Let's test the analysis with an artificial series, so we'll replace the `TFA_Variable` with a time series of our choice, with a specific frequency of 40 mHz (i.e. 25 sec) and amplitude of 4 nT.\n",
    "\n",
    "To test the cleaning we'll add some random spikes as well."
   ]
  },
  {
   "cell_type": "code",
   "execution_count": null,
   "id": "9",
   "metadata": {},
   "outputs": [],
   "source": [
    "# Get a test wave with the same length as the data, sampled at 1Hz\n",
    "N = data[\"SW_OPER_MAGA_LR_1B\"][\"TFA_Variable\"].shape[0]\n",
    "test_wave = 4 * np.sin(2 * np.pi * np.arange(N) / 50)\n",
    "# Create ten spikes at ten random locations\n",
    "np.random.seed(0)\n",
    "spike_locations = np.random.randint(\n",
    "    0,\n",
    "    N,\n",
    "    10,\n",
    ")\n",
    "test_wave[spike_locations] = test_wave[spike_locations] + 4\n",
    "# Overwrite the data with the test data\n",
    "data[\"SW_OPER_MAGA_LR_1B\"][\"TFA_Variable\"].data = test_wave"
   ]
  },
  {
   "cell_type": "code",
   "execution_count": null,
   "id": "10",
   "metadata": {},
   "outputs": [],
   "source": [
    "data[\"SW_OPER_MAGA_LR_1B\"][\"TFA_Variable\"].plot.line(x=\"TFA_Time\");"
   ]
  },
  {
   "cell_type": "markdown",
   "id": "11",
   "metadata": {},
   "source": [
    "Let's see the effect of the cleaning routine..."
   ]
  },
  {
   "cell_type": "code",
   "execution_count": null,
   "id": "12",
   "metadata": {},
   "outputs": [],
   "source": [
    "p2 = tfa.processes.Clean()\n",
    "p2.set_config(\n",
    "    window_size=10,\n",
    "    method=\"iqr\",\n",
    "    multiplier=0.5,\n",
    ")\n",
    "p2(data)\n",
    "data[\"SW_OPER_MAGA_LR_1B\"][\"TFA_Variable\"].plot.line(x=\"TFA_Time\");"
   ]
  },
  {
   "cell_type": "markdown",
   "id": "13",
   "metadata": {},
   "source": [
    "... and the filtering..."
   ]
  },
  {
   "cell_type": "code",
   "execution_count": null,
   "id": "14",
   "metadata": {},
   "outputs": [],
   "source": [
    "p3 = tfa.processes.Filter()\n",
    "p3.set_config(\n",
    "    cutoff_frequency=10 / 1000,\n",
    ")\n",
    "p3(data)\n",
    "tfa.plotting.time_series(data);"
   ]
  },
  {
   "cell_type": "markdown",
   "id": "15",
   "metadata": {},
   "source": [
    "Next the wavelet transform is applied..."
   ]
  },
  {
   "cell_type": "code",
   "execution_count": null,
   "id": "16",
   "metadata": {},
   "outputs": [],
   "source": [
    "p4 = tfa.processes.Wavelet()\n",
    "p4.set_config(\n",
    "    min_frequency=10 / 1000,\n",
    "    max_frequency=100 / 1000,\n",
    "    dj=0.1,\n",
    ")\n",
    "p4(data);"
   ]
  },
  {
   "cell_type": "code",
   "execution_count": null,
   "id": "17",
   "metadata": {},
   "outputs": [],
   "source": [
    "tfa.plotting.spectrum(data, levels=np.linspace(0, 4, 20), log=False, extra_x=None);"
   ]
  },
  {
   "cell_type": "code",
   "execution_count": null,
   "id": "18",
   "metadata": {},
   "outputs": [],
   "source": [
    "plt.plot(\n",
    "    1 / data[\"SW_OPER_MAGA_LR_1B\"][\"scale\"].data,\n",
    "    data[\"SW_OPER_MAGA_LR_1B\"][\"wavelet_power\"][:, int(N / 2)],\n",
    "    \"-x\",\n",
    ");"
   ]
  }
 ],
 "metadata": {
  "language_info": {
   "codemirror_mode": {
    "name": "ipython",
    "version": 3
   },
   "file_extension": ".py",
   "mimetype": "text/x-python",
   "name": "python",
   "nbconvert_exporter": "python",
   "pygments_lexer": "ipython3"
  }
 },
 "nbformat": 4,
 "nbformat_minor": 5
}
