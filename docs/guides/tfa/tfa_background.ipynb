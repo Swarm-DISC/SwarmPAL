{
 "cells": [
  {
   "cell_type": "markdown",
   "id": "87f0aae4-34e4-475e-be72-2b6bb63877f2",
   "metadata": {},
   "source": [
    "# TFA and the Wavelet Transform"
   ]
  },
  {
   "cell_type": "markdown",
   "id": "02a9b938-2d3a-4d75-ae7c-5834512048e3",
   "metadata": {},
   "source": [
    "Here we delve a little into the background of the TFA toolbox.\n",
    "\n",
    "First we will fetch some data to setup the framework of a typical TFA application, but then we will replace the data with dummy data to demonstrate what the TFA toolbox does."
   ]
  },
  {
   "cell_type": "code",
   "execution_count": null,
   "id": "0a174a3b-babf-4386-ad46-7bcc361a4e81",
   "metadata": {},
   "outputs": [],
   "source": [
    "import datetime as dt\n",
    "import matplotlib.pyplot as plt\n",
    "import numpy as np\n",
    "\n",
    "from swarmpal.io import create_paldata, PalDataItem\n",
    "from swarmpal.toolboxes import tfa"
   ]
  },
  {
   "cell_type": "markdown",
   "id": "66a7fe5b-7589-4ead-b72a-3b28c4fd4fb2",
   "metadata": {},
   "source": [
    "Get some data and apply the preprocessing."
   ]
  },
  {
   "cell_type": "code",
   "execution_count": null,
   "id": "145c4054-3285-47dd-b858-83f5d5b1d8ce",
   "metadata": {},
   "outputs": [],
   "source": [
    "data = create_paldata(\n",
    "    PalDataItem.from_vires(\n",
    "        collection=\"SW_OPER_MAGA_LR_1B\",\n",
    "        measurements=[\"F\"],\n",
    "        start_time=dt.datetime(2015, 3, 18),\n",
    "        end_time=dt.datetime(2015, 3, 18, 0, 15, 0),\n",
    "        server_url=\"https://vires.services/ows\",\n",
    "        options=dict(asynchronous=False, show_progress=False),\n",
    "    )\n",
    ")"
   ]
  },
  {
   "cell_type": "code",
   "execution_count": null,
   "id": "a2a8ccce-d99c-4ea8-9212-8cec709c0923",
   "metadata": {},
   "outputs": [],
   "source": [
    "p1 = tfa.processes.Preprocess()\n",
    "p1.set_config(\n",
    "    dataset=\"SW_OPER_MAGA_LR_1B\",\n",
    "    active_variable=\"F\",\n",
    "    sampling_rate=1,\n",
    ")\n",
    "p1(data);"
   ]
  },
  {
   "cell_type": "markdown",
   "id": "f702d99f-a102-4ef2-b50f-7874295228e7",
   "metadata": {},
   "source": [
    "The `TFA_Variable` has been set with the content of `F` (the scalar magnetic data)."
   ]
  },
  {
   "cell_type": "code",
   "execution_count": null,
   "id": "9b4b9baf-2e38-430a-9db8-e86b00efa8e8",
   "metadata": {},
   "outputs": [],
   "source": [
    "data[\"SW_OPER_MAGA_LR_1B\"][\"TFA_Variable\"].plot.line(x=\"TFA_Time\");"
   ]
  },
  {
   "cell_type": "markdown",
   "id": "89e457c7-bb2e-4e15-9fb1-b90149d45be4",
   "metadata": {},
   "source": [
    "Let's test the analysis with an artificial series, so we'll replace the `TFA_Variable` with a time series of our choice, with a specific frequency of 40 mHz (i.e. 25 sec) and amplitude of 4 nT.\n",
    "\n",
    "To test the cleaning we'll add some random spikes as well."
   ]
  },
  {
   "cell_type": "code",
   "execution_count": null,
   "id": "480c693b-41f4-4658-8fc4-885334596419",
   "metadata": {},
   "outputs": [],
   "source": [
    "# Get a test wave with the same length as the data, sampled at 1Hz\n",
    "N = data[\"SW_OPER_MAGA_LR_1B\"][\"TFA_Variable\"].shape[0]\n",
    "test_wave = 4 * np.sin(2 * np.pi * np.arange(N) / 50)\n",
    "# Create ten spikes at ten random locations\n",
    "np.random.seed(0)\n",
    "spike_locations = np.random.randint(\n",
    "    0,\n",
    "    N,\n",
    "    10,\n",
    ")\n",
    "test_wave[spike_locations] = test_wave[spike_locations] + 4\n",
    "# Overwrite the data with the test data\n",
    "data[\"SW_OPER_MAGA_LR_1B\"][\"TFA_Variable\"].data = test_wave"
   ]
  },
  {
   "cell_type": "code",
   "execution_count": null,
   "id": "5332d5c3-f13c-43c3-97d1-ad255c398da9",
   "metadata": {},
   "outputs": [],
   "source": [
    "data[\"SW_OPER_MAGA_LR_1B\"][\"TFA_Variable\"].plot.line(x=\"TFA_Time\");"
   ]
  },
  {
   "cell_type": "markdown",
   "id": "103811c5-72dd-4c49-9319-238356a64940",
   "metadata": {},
   "source": [
    "Let's see the effect of the cleaning routine..."
   ]
  },
  {
   "cell_type": "code",
   "execution_count": null,
   "id": "1424d095-c5c7-409d-aebc-7dc6c6f931ae",
   "metadata": {},
   "outputs": [],
   "source": [
    "p2 = tfa.processes.Clean()\n",
    "p2.set_config(\n",
    "    window_size=10,\n",
    "    method=\"iqr\",\n",
    "    multiplier=0.5,\n",
    ")\n",
    "p2(data)\n",
    "data[\"SW_OPER_MAGA_LR_1B\"][\"TFA_Variable\"].plot.line(x=\"TFA_Time\");"
   ]
  },
  {
   "cell_type": "markdown",
   "id": "1b0e36d6-b25f-4536-802f-320c3b524efa",
   "metadata": {},
   "source": [
    "... and the filtering..."
   ]
  },
  {
   "cell_type": "code",
   "execution_count": null,
   "id": "3aadd612-7864-4d5e-a83e-819ec676ae15",
   "metadata": {},
   "outputs": [],
   "source": [
    "p3 = tfa.processes.Filter()\n",
    "p3.set_config(\n",
    "    cutoff_frequency=10 / 1000,\n",
    ")\n",
    "p3(data)\n",
    "tfa.plotting.time_series(data);"
   ]
  },
  {
   "cell_type": "markdown",
   "id": "793e5ef9-577b-47f8-b6ef-2fba29f24710",
   "metadata": {},
   "source": [
    "Next the wavelet transform is applied..."
   ]
  },
  {
   "cell_type": "code",
   "execution_count": null,
   "id": "4321c622-ea6c-4b48-992c-5c3de8a05004",
   "metadata": {},
   "outputs": [],
   "source": [
    "p4 = tfa.processes.Wavelet()\n",
    "p4.set_config(\n",
    "    min_frequency=10 / 1000,\n",
    "    max_frequency=100 / 1000,\n",
    "    dj=0.1,\n",
    ")\n",
    "p4(data);"
   ]
  },
  {
   "cell_type": "code",
   "execution_count": null,
   "id": "a5e09b36-2486-4a1a-b212-d477858ea2f6",
   "metadata": {},
   "outputs": [],
   "source": [
    "tfa.plotting.spectrum(data, levels=np.linspace(0, 4, 20), log=False, extra_x=None);"
   ]
  },
  {
   "cell_type": "code",
   "execution_count": null,
   "id": "93f1af27-1d18-43fa-ac54-e81134b9391d",
   "metadata": {},
   "outputs": [],
   "source": [
    "plt.plot(\n",
    "    1 / data[\"SW_OPER_MAGA_LR_1B\"][\"scale\"].data,\n",
    "    data[\"SW_OPER_MAGA_LR_1B\"][\"wavelet_power\"][:, int(N / 2)],\n",
    "    \"-x\",\n",
    ");"
   ]
  }
 ],
 "metadata": {
  "language_info": {
   "codemirror_mode": {
    "name": "ipython",
    "version": 3
   },
   "file_extension": ".py",
   "mimetype": "text/x-python",
   "name": "python",
   "nbconvert_exporter": "python",
   "pygments_lexer": "ipython3"
  }
 },
 "nbformat": 4,
 "nbformat_minor": 5
}
