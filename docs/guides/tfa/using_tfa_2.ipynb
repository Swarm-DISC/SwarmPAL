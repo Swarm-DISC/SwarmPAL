{
 "cells": [
  {
   "cell_type": "markdown",
   "metadata": {},
   "source": [
    "# Analysis of Swarm HR data (50 Hz sampling rate)"
   ]
  },
  {
   "cell_type": "markdown",
   "metadata": {},
   "source": [
    "   Imports:"
   ]
  },
  {
   "cell_type": "code",
   "execution_count": null,
   "metadata": {},
   "outputs": [],
   "source": [
    "import datetime as dt\n",
    "import swarmpal.toolboxes.tfa.tfa_processor as tfa"
   ]
  },
  {
   "cell_type": "markdown",
   "metadata": {},
   "source": [
    "Provide values for the parameters of the analysis.  The `dataset` can be chosen from one of the compatible magnetic data collections, and the `var` is a VirES-compatible variable string (see [viresclient](https://viresclient.readthedocs.io/en/latest/available_parameters.html) for more information). The \"start\" and \"end\" times must be given as a datetime object. If the data are required as they are, set the `remove_chaos_model` parameter to False. Otherwise, if the inputs are magnetic field data and the analysis requires subtraction of the model field, set the parameter to True. \n",
    "For the HR product, remember to set the sampling_time to 0.02 seconds, i.e. 50 Hz rate."
   ]
  },
  {
   "cell_type": "code",
   "execution_count": null,
   "metadata": {},
   "outputs": [],
   "source": [
    "dataset = \"SW_OPER_MAGB_HR_1B\"\n",
    "series_dt = \"PT0.02S\"\n",
    "var = \"B_NEC\"\n",
    "remove_chaos_model = True\n",
    "time_start = dt.datetime(2015, 3, 14, 12, 5, 0)\n",
    "time_end = dt.datetime(2015, 3, 14, 12, 30, 0)"
   ]
  },
  {
   "cell_type": "markdown",
   "metadata": {},
   "source": [
    "Now run the TfaInput to retrieve the selected data."
   ]
  },
  {
   "cell_type": "code",
   "execution_count": null,
   "metadata": {},
   "outputs": [],
   "source": [
    "inputs = tfa.TfaInput(\n",
    "    collection=dataset,\n",
    "    start_time=time_start,\n",
    "    end_time=time_end,\n",
    "    initialise=True,\n",
    "    varname=var,\n",
    "    sampling_time=series_dt,\n",
    "    remove_chaos=remove_chaos_model,\n",
    ")"
   ]
  },
  {
   "cell_type": "markdown",
   "metadata": {},
   "source": [
    "We can now use the full arsenal of functions to perform pre-processing of the data. If the selected variable is in vector form, we can convert it to its magnitude using the `calculate_magnitude()` function. This will generate a new variable named simply `B `. "
   ]
  },
  {
   "cell_type": "code",
   "execution_count": null,
   "metadata": {},
   "outputs": [],
   "source": [
    "inputs.flag_cleaning()\n",
    "inputs.subtract_chaos()\n",
    "inputs.calculate_magnitude()"
   ]
  },
  {
   "cell_type": "markdown",
   "metadata": {},
   "source": [
    "Now that the model field has been removed and the transformation has been performed, we can proceed to for Wavelet processing by initiating the `TfaProcessor` object and specifying the name of the variable."
   ]
  },
  {
   "cell_type": "code",
   "execution_count": null,
   "metadata": {},
   "outputs": [],
   "source": [
    "processor = tfa.TfaProcessor(inputs, active_variable={\"varname\": \"B\"})"
   ]
  },
  {
   "cell_type": "code",
   "execution_count": null,
   "metadata": {},
   "outputs": [],
   "source": [
    "processor.plotX()"
   ]
  },
  {
   "cell_type": "markdown",
   "metadata": {},
   "source": [
    "To perform cleaning on the data, we initialize a `Cleaning` object with the parameters of our choice and then apply it on the data with the `TfaProcessor` `apply()` function.\n",
    "The active variable series can be plotted by means of the `plotX()` function."
   ]
  },
  {
   "cell_type": "code",
   "execution_count": null,
   "metadata": {},
   "outputs": [],
   "source": [
    "c = tfa.Cleaning({\"Window_Size\": 300, \"Method\": \"iqr\", \"Multiplier\": 1})\n",
    "processor.apply(c)\n",
    "processor.plotX()"
   ]
  },
  {
   "cell_type": "markdown",
   "metadata": {},
   "source": [
    "Similarly, the filtering can be performed by first initializing a `Filtering` object with the parameters of our choosing and the applying in on the data."
   ]
  },
  {
   "cell_type": "code",
   "execution_count": null,
   "metadata": {},
   "outputs": [],
   "source": [
    "f = tfa.Filtering({\"Cutoff_Frequency\": 0.1})\n",
    "processor.apply(f)\n",
    "processor.plotX()"
   ]
  },
  {
   "cell_type": "markdown",
   "metadata": {},
   "source": [
    "In the same way, the wavelet transform is applied. The result of the wavelet can be visualized by means of the image() function"
   ]
  },
  {
   "cell_type": "code",
   "execution_count": null,
   "metadata": {},
   "outputs": [],
   "source": [
    "w = tfa.Wavelet(\n",
    "    {\n",
    "        \"Min_Frequency\": 1,\n",
    "        \"Max_Frequency\": 25,\n",
    "        \"dj\": 0.1,\n",
    "    }\n",
    ")\n",
    "processor.apply(w)\n",
    "processor.image(cbar_lims=[-6, -3])"
   ]
  }
 ],
 "metadata": {
  "interpreter": {
   "hash": "87d67a24c2c5892c025cb327df6d3922c0a9d4e9219e4fcf3b6836bad3fb9136"
  },
  "language_info": {
   "codemirror_mode": {
    "name": "ipython",
    "version": 3
   },
   "file_extension": ".py",
   "mimetype": "text/x-python",
   "name": "python",
   "nbconvert_exporter": "python",
   "pygments_lexer": "ipython3"
  }
 },
 "nbformat": 4,
 "nbformat_minor": 2
}
