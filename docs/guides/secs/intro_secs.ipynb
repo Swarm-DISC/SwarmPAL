{
 "cells": [
  {
   "cell_type": "markdown",
   "metadata": {},
   "source": [
    "# DSECS: Dipolar Spherical Elementary Current Systems (WIP)"
   ]
  },
  {
   "cell_type": "code",
   "execution_count": null,
   "metadata": {},
   "outputs": [],
   "source": [
    "import datetime as dt\n",
    "from swarmpal.io import create_paldata, PalDataItem\n",
    "from swarmpal.toolboxes.secs import processes"
   ]
  },
  {
   "cell_type": "markdown",
   "metadata": {},
   "source": [
    "## Fetching inputs to the toolbox"
   ]
  },
  {
   "cell_type": "code",
   "execution_count": null,
   "metadata": {},
   "outputs": [],
   "source": [
    "def data_params(sc=\"A\"):\n",
    "    return dict(\n",
    "        collection=f\"SW_OPER_MAG{sc}_LR_1B\",\n",
    "        measurements=[\"B_NEC\"],\n",
    "        models=[\"Model = IGRF\"],  # currently must use name \"Model\"\n",
    "        auxiliaries=[\"QDLat\"],\n",
    "        start_time=\"2016-03-18T11:03:00\",\n",
    "        end_time=\"2016-03-19T11:03:00\",\n",
    "        server_url=\"https://vires.services/ows\",\n",
    "        options=dict(asynchronous=False, show_progress=False),\n",
    "    )\n",
    "\n",
    "\n",
    "data = create_paldata(\n",
    "    PalDataItem.from_vires(**data_params(\"A\")),\n",
    "    PalDataItem.from_vires(**data_params(\"C\")),\n",
    ")\n",
    "\n",
    "print(data)"
   ]
  },
  {
   "cell_type": "markdown",
   "metadata": {},
   "source": [
    "## Applying the DSECS process"
   ]
  },
  {
   "cell_type": "code",
   "execution_count": null,
   "metadata": {},
   "outputs": [],
   "source": [
    "process = processes.DSECS_Process(\n",
    "    config={\n",
    "        \"dataset_alpha\": \"SW_OPER_MAGA_LR_1B\",\n",
    "        \"dataset_charlie\": \"SW_OPER_MAGA_LR_1B\",\n",
    "    },\n",
    ")\n",
    "# data = data.swarmpal.apply(process)\n",
    "# currently fails with:\n",
    "# TypeError: sub_Swarm_grids() takes 8 positional arguments but 10 were given"
   ]
  }
 ],
 "metadata": {
  "language_info": {
   "codemirror_mode": {
    "name": "ipython",
    "version": 3
   },
   "file_extension": ".py",
   "mimetype": "text/x-python",
   "name": "python",
   "nbconvert_exporter": "python",
   "pygments_lexer": "ipython3"
  },
  "vscode": {
   "interpreter": {
    "hash": "75048f8b19dc2376e8ce021c430fd300fc261773814cb02da2fef53030a6379a"
   }
  }
 },
 "nbformat": 4,
 "nbformat_minor": 4
}
